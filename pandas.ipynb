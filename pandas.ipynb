{
  "nbformat": 4,
  "nbformat_minor": 0,
  "metadata": {
    "colab": {
      "name": "pandas.ipynb",
      "provenance": [],
      "authorship_tag": "ABX9TyPEX++gIPK6hUE/9gzoIll7",
      "include_colab_link": true
    },
    "kernelspec": {
      "name": "python3",
      "display_name": "Python 3"
    },
    "language_info": {
      "name": "python"
    }
  },
  "cells": [
    {
      "cell_type": "markdown",
      "metadata": {
        "id": "view-in-github",
        "colab_type": "text"
      },
      "source": [
        "<a href=\"https://colab.research.google.com/github/tim530712345/20210612_pandas/blob/main/pandas.ipynb\" target=\"_parent\"><img src=\"https://colab.research.google.com/assets/colab-badge.svg\" alt=\"Open In Colab\"/></a>"
      ]
    },
    {
      "cell_type": "code",
      "metadata": {
        "id": "MKkSjiPd33EZ"
      },
      "source": [
        "import pandas as pd\n",
        "ex_pandas = pd.Series([1,3,5,7,9],index=['a','b','c','d','e']) # 一維資料"
      ],
      "execution_count": 14,
      "outputs": []
    },
    {
      "cell_type": "code",
      "metadata": {
        "colab": {
          "base_uri": "https://localhost:8080/"
        },
        "id": "tur57xhoHmkr",
        "outputId": "9bb501ff-02d2-4007-d1cb-73b075a4ba61"
      },
      "source": [
        "ex_pandas.values"
      ],
      "execution_count": 15,
      "outputs": [
        {
          "output_type": "execute_result",
          "data": {
            "text/plain": [
              "array([1, 3, 5, 7, 9])"
            ]
          },
          "metadata": {
            "tags": []
          },
          "execution_count": 15
        }
      ]
    },
    {
      "cell_type": "code",
      "metadata": {
        "colab": {
          "base_uri": "https://localhost:8080/"
        },
        "id": "cqTMK35UHr-0",
        "outputId": "82302806-46ef-47a9-b91f-8cad16b3ef46"
      },
      "source": [
        "ex_pandas.index"
      ],
      "execution_count": 16,
      "outputs": [
        {
          "output_type": "execute_result",
          "data": {
            "text/plain": [
              "Index(['a', 'b', 'c', 'd', 'e'], dtype='object')"
            ]
          },
          "metadata": {
            "tags": []
          },
          "execution_count": 16
        }
      ]
    },
    {
      "cell_type": "code",
      "metadata": {
        "colab": {
          "base_uri": "https://localhost:8080/"
        },
        "id": "9h4ks1P3HyWp",
        "outputId": "1cc3a607-81a1-4afc-e4e3-50ea51e01b60"
      },
      "source": [
        "ex_pandas['c']"
      ],
      "execution_count": 17,
      "outputs": [
        {
          "output_type": "execute_result",
          "data": {
            "text/plain": [
              "5"
            ]
          },
          "metadata": {
            "tags": []
          },
          "execution_count": 17
        }
      ]
    },
    {
      "cell_type": "code",
      "metadata": {
        "colab": {
          "base_uri": "https://localhost:8080/"
        },
        "id": "4BIIwDSpH3i4",
        "outputId": "c41c23b1-8d05-40dc-8419-0bc11ae3401e"
      },
      "source": [
        "'b' in ex_pandas"
      ],
      "execution_count": 18,
      "outputs": [
        {
          "output_type": "execute_result",
          "data": {
            "text/plain": [
              "True"
            ]
          },
          "metadata": {
            "tags": []
          },
          "execution_count": 18
        }
      ]
    },
    {
      "cell_type": "code",
      "metadata": {
        "colab": {
          "base_uri": "https://localhost:8080/",
          "height": 111
        },
        "id": "RQZPpPAzQVs5",
        "outputId": "fa942221-b5ee-48c6-bee2-da098d93c12c"
      },
      "source": [
        "data = {'name':['Tim','Kyle'],'year':[1994,1990],'month':[2,8]}\n",
        "myframe = pd.DataFrame(data) #  二維資料\n",
        "myframe"
      ],
      "execution_count": 19,
      "outputs": [
        {
          "output_type": "execute_result",
          "data": {
            "text/html": [
              "<div>\n",
              "<style scoped>\n",
              "    .dataframe tbody tr th:only-of-type {\n",
              "        vertical-align: middle;\n",
              "    }\n",
              "\n",
              "    .dataframe tbody tr th {\n",
              "        vertical-align: top;\n",
              "    }\n",
              "\n",
              "    .dataframe thead th {\n",
              "        text-align: right;\n",
              "    }\n",
              "</style>\n",
              "<table border=\"1\" class=\"dataframe\">\n",
              "  <thead>\n",
              "    <tr style=\"text-align: right;\">\n",
              "      <th></th>\n",
              "      <th>name</th>\n",
              "      <th>year</th>\n",
              "      <th>month</th>\n",
              "    </tr>\n",
              "  </thead>\n",
              "  <tbody>\n",
              "    <tr>\n",
              "      <th>0</th>\n",
              "      <td>Tim</td>\n",
              "      <td>1994</td>\n",
              "      <td>2</td>\n",
              "    </tr>\n",
              "    <tr>\n",
              "      <th>1</th>\n",
              "      <td>Kyle</td>\n",
              "      <td>1990</td>\n",
              "      <td>8</td>\n",
              "    </tr>\n",
              "  </tbody>\n",
              "</table>\n",
              "</div>"
            ],
            "text/plain": [
              "   name  year  month\n",
              "0   Tim  1994      2\n",
              "1  Kyle  1990      8"
            ]
          },
          "metadata": {
            "tags": []
          },
          "execution_count": 19
        }
      ]
    },
    {
      "cell_type": "code",
      "metadata": {
        "colab": {
          "base_uri": "https://localhost:8080/",
          "height": 111
        },
        "id": "168WzhNzSfSr",
        "outputId": "de76887f-8e21-4026-81bd-6c64750be580"
      },
      "source": [
        "myframe = pd.DataFrame(data,columns=['name','month','year']) # columns 更改欄位順序\n",
        "myframe"
      ],
      "execution_count": 20,
      "outputs": [
        {
          "output_type": "execute_result",
          "data": {
            "text/html": [
              "<div>\n",
              "<style scoped>\n",
              "    .dataframe tbody tr th:only-of-type {\n",
              "        vertical-align: middle;\n",
              "    }\n",
              "\n",
              "    .dataframe tbody tr th {\n",
              "        vertical-align: top;\n",
              "    }\n",
              "\n",
              "    .dataframe thead th {\n",
              "        text-align: right;\n",
              "    }\n",
              "</style>\n",
              "<table border=\"1\" class=\"dataframe\">\n",
              "  <thead>\n",
              "    <tr style=\"text-align: right;\">\n",
              "      <th></th>\n",
              "      <th>name</th>\n",
              "      <th>month</th>\n",
              "      <th>year</th>\n",
              "    </tr>\n",
              "  </thead>\n",
              "  <tbody>\n",
              "    <tr>\n",
              "      <th>0</th>\n",
              "      <td>Tim</td>\n",
              "      <td>2</td>\n",
              "      <td>1994</td>\n",
              "    </tr>\n",
              "    <tr>\n",
              "      <th>1</th>\n",
              "      <td>Kyle</td>\n",
              "      <td>8</td>\n",
              "      <td>1990</td>\n",
              "    </tr>\n",
              "  </tbody>\n",
              "</table>\n",
              "</div>"
            ],
            "text/plain": [
              "   name  month  year\n",
              "0   Tim      2  1994\n",
              "1  Kyle      8  1990"
            ]
          },
          "metadata": {
            "tags": []
          },
          "execution_count": 20
        }
      ]
    },
    {
      "cell_type": "code",
      "metadata": {
        "colab": {
          "base_uri": "https://localhost:8080/",
          "height": 306
        },
        "id": "5bips3UpTAnh",
        "outputId": "13f00f82-76ed-484e-9e31-144914a0213a"
      },
      "source": [
        "df = pd.read_csv('E1-2-2-1-input.csv') # 檔案讀取\n",
        "df.head(5) # 前5筆資料\n"
      ],
      "execution_count": 26,
      "outputs": [
        {
          "output_type": "execute_result",
          "data": {
            "text/html": [
              "<div>\n",
              "<style scoped>\n",
              "    .dataframe tbody tr th:only-of-type {\n",
              "        vertical-align: middle;\n",
              "    }\n",
              "\n",
              "    .dataframe tbody tr th {\n",
              "        vertical-align: top;\n",
              "    }\n",
              "\n",
              "    .dataframe thead th {\n",
              "        text-align: right;\n",
              "    }\n",
              "</style>\n",
              "<table border=\"1\" class=\"dataframe\">\n",
              "  <thead>\n",
              "    <tr style=\"text-align: right;\">\n",
              "      <th></th>\n",
              "      <th>sno</th>\n",
              "      <th>sna</th>\n",
              "      <th>tot</th>\n",
              "      <th>sbi</th>\n",
              "      <th>sarea</th>\n",
              "      <th>mday</th>\n",
              "      <th>lat</th>\n",
              "      <th>lng</th>\n",
              "      <th>ar</th>\n",
              "      <th>sareaen</th>\n",
              "      <th>snaen</th>\n",
              "      <th>aren</th>\n",
              "      <th>bemp</th>\n",
              "      <th>act</th>\n",
              "    </tr>\n",
              "  </thead>\n",
              "  <tbody>\n",
              "    <tr>\n",
              "      <th>0</th>\n",
              "      <td>1001</td>\n",
              "      <td>大鵬華城</td>\n",
              "      <td>38</td>\n",
              "      <td>16</td>\n",
              "      <td>新店區</td>\n",
              "      <td>20180704221320</td>\n",
              "      <td>24.991160</td>\n",
              "      <td>121.533980</td>\n",
              "      <td>新北市新店區中正路700巷3號</td>\n",
              "      <td>Xindian Dist.</td>\n",
              "      <td>Dapeng Community</td>\n",
              "      <td>No. 3, Lane 700 Chung Cheng Road, Xindian Dist...</td>\n",
              "      <td>22</td>\n",
              "      <td>1</td>\n",
              "    </tr>\n",
              "    <tr>\n",
              "      <th>1</th>\n",
              "      <td>1002</td>\n",
              "      <td>汐止火車站</td>\n",
              "      <td>56</td>\n",
              "      <td>20</td>\n",
              "      <td>汐止區</td>\n",
              "      <td>20180704221320</td>\n",
              "      <td>25.068914</td>\n",
              "      <td>121.662748</td>\n",
              "      <td>南昌街/新昌路口(西側廣場)</td>\n",
              "      <td>Xizhi Dist.</td>\n",
              "      <td>Xizhi Railway Station</td>\n",
              "      <td>Nanchang St./Xinchang Rd.</td>\n",
              "      <td>36</td>\n",
              "      <td>1</td>\n",
              "    </tr>\n",
              "    <tr>\n",
              "      <th>2</th>\n",
              "      <td>1003</td>\n",
              "      <td>汐止區公所</td>\n",
              "      <td>46</td>\n",
              "      <td>12</td>\n",
              "      <td>汐止區</td>\n",
              "      <td>20180704221323</td>\n",
              "      <td>25.064162</td>\n",
              "      <td>121.658301</td>\n",
              "      <td>新台五路一段/仁愛路口(新台五路側汐止地政事務所前機車停車場)</td>\n",
              "      <td>Xizhi Dist.</td>\n",
              "      <td>Xizhi Dist. Office</td>\n",
              "      <td>Sec. 1, Xintai 5th Rd./Ren’ai Rd.</td>\n",
              "      <td>33</td>\n",
              "      <td>1</td>\n",
              "    </tr>\n",
              "    <tr>\n",
              "      <th>3</th>\n",
              "      <td>1004</td>\n",
              "      <td>國泰綜合醫院</td>\n",
              "      <td>56</td>\n",
              "      <td>34</td>\n",
              "      <td>汐止區</td>\n",
              "      <td>20180704221327</td>\n",
              "      <td>25.073150</td>\n",
              "      <td>121.662555</td>\n",
              "      <td>建成路78號對面停車場</td>\n",
              "      <td>Xizhi Dist.</td>\n",
              "      <td>Cathay General Hospital</td>\n",
              "      <td>No78, Jiancheng Rd</td>\n",
              "      <td>22</td>\n",
              "      <td>1</td>\n",
              "    </tr>\n",
              "    <tr>\n",
              "      <th>4</th>\n",
              "      <td>1005</td>\n",
              "      <td>裕隆公園</td>\n",
              "      <td>40</td>\n",
              "      <td>23</td>\n",
              "      <td>新店區</td>\n",
              "      <td>20180704221319</td>\n",
              "      <td>24.979649</td>\n",
              "      <td>121.546319</td>\n",
              "      <td>寶中路/品牌路口(東南側)</td>\n",
              "      <td>Xindian Dist.</td>\n",
              "      <td>Yulon Park</td>\n",
              "      <td>Baozhong Rd./</td>\n",
              "      <td>17</td>\n",
              "      <td>1</td>\n",
              "    </tr>\n",
              "  </tbody>\n",
              "</table>\n",
              "</div>"
            ],
            "text/plain": [
              "    sno     sna  ...  bemp  act\n",
              "0  1001    大鵬華城  ...    22    1\n",
              "1  1002   汐止火車站  ...    36    1\n",
              "2  1003   汐止區公所  ...    33    1\n",
              "3  1004  國泰綜合醫院  ...    22    1\n",
              "4  1005    裕隆公園  ...    17    1\n",
              "\n",
              "[5 rows x 14 columns]"
            ]
          },
          "metadata": {
            "tags": []
          },
          "execution_count": 26
        }
      ]
    },
    {
      "cell_type": "code",
      "metadata": {
        "colab": {
          "base_uri": "https://localhost:8080/",
          "height": 289
        },
        "id": "DW7OX60sUmlc",
        "outputId": "33d72c87-d306-413c-8f3c-8f4b5f442a6f"
      },
      "source": [
        "df.tail(5) # 後五筆資料"
      ],
      "execution_count": 27,
      "outputs": [
        {
          "output_type": "execute_result",
          "data": {
            "text/html": [
              "<div>\n",
              "<style scoped>\n",
              "    .dataframe tbody tr th:only-of-type {\n",
              "        vertical-align: middle;\n",
              "    }\n",
              "\n",
              "    .dataframe tbody tr th {\n",
              "        vertical-align: top;\n",
              "    }\n",
              "\n",
              "    .dataframe thead th {\n",
              "        text-align: right;\n",
              "    }\n",
              "</style>\n",
              "<table border=\"1\" class=\"dataframe\">\n",
              "  <thead>\n",
              "    <tr style=\"text-align: right;\">\n",
              "      <th></th>\n",
              "      <th>sno</th>\n",
              "      <th>sna</th>\n",
              "      <th>tot</th>\n",
              "      <th>sbi</th>\n",
              "      <th>sarea</th>\n",
              "      <th>mday</th>\n",
              "      <th>lat</th>\n",
              "      <th>lng</th>\n",
              "      <th>ar</th>\n",
              "      <th>sareaen</th>\n",
              "      <th>snaen</th>\n",
              "      <th>aren</th>\n",
              "      <th>bemp</th>\n",
              "      <th>act</th>\n",
              "    </tr>\n",
              "  </thead>\n",
              "  <tbody>\n",
              "    <tr>\n",
              "      <th>490</th>\n",
              "      <td>1502</td>\n",
              "      <td>縣民漢生東路口</td>\n",
              "      <td>60</td>\n",
              "      <td>11</td>\n",
              "      <td>板橋區</td>\n",
              "      <td>20180704221341</td>\n",
              "      <td>25.01560</td>\n",
              "      <td>121.46709</td>\n",
              "      <td>縣民大道二段112號(前)</td>\n",
              "      <td>Banqiao Dist.</td>\n",
              "      <td>Xianmin &amp; Hansheng E. Intersection</td>\n",
              "      <td>No.112, Sec. 2, Xianmin Blvd., Banqiao Dist.</td>\n",
              "      <td>48</td>\n",
              "      <td>1</td>\n",
              "    </tr>\n",
              "    <tr>\n",
              "      <th>491</th>\n",
              "      <td>1503</td>\n",
              "      <td>時光公園</td>\n",
              "      <td>40</td>\n",
              "      <td>13</td>\n",
              "      <td>板橋區</td>\n",
              "      <td>20180704221345</td>\n",
              "      <td>25.03615</td>\n",
              "      <td>121.47973</td>\n",
              "      <td>華江陸橋旁/文化路二段北側公園口</td>\n",
              "      <td>Banqiao Dist.</td>\n",
              "      <td>Time Park</td>\n",
              "      <td>Huajiang Bridge/Sec. 2, Wenhua Rd., Banqiao Dist.</td>\n",
              "      <td>27</td>\n",
              "      <td>1</td>\n",
              "    </tr>\n",
              "    <tr>\n",
              "      <th>492</th>\n",
              "      <td>1504</td>\n",
              "      <td>積穗國中</td>\n",
              "      <td>32</td>\n",
              "      <td>17</td>\n",
              "      <td>中和區</td>\n",
              "      <td>20180704221329</td>\n",
              "      <td>24.99977</td>\n",
              "      <td>121.47808</td>\n",
              "      <td>民安街71號(對面)</td>\n",
              "      <td>Zhonghe Dist.</td>\n",
              "      <td>Jisui Junior High School</td>\n",
              "      <td>No.71, Min’an St., Zhonghe Dist.(opposite)</td>\n",
              "      <td>15</td>\n",
              "      <td>1</td>\n",
              "    </tr>\n",
              "    <tr>\n",
              "      <th>493</th>\n",
              "      <td>1505</td>\n",
              "      <td>員和公園</td>\n",
              "      <td>34</td>\n",
              "      <td>3</td>\n",
              "      <td>土城區</td>\n",
              "      <td>20180704221338</td>\n",
              "      <td>24.97904</td>\n",
              "      <td>121.44254</td>\n",
              "      <td>中央路二段66號(對面)</td>\n",
              "      <td>Tucheng Dist.</td>\n",
              "      <td>Yuanhe Park</td>\n",
              "      <td>No.66, Sec. 2, Zhongyang Rd., Tucheng Dist.(op...</td>\n",
              "      <td>30</td>\n",
              "      <td>1</td>\n",
              "    </tr>\n",
              "    <tr>\n",
              "      <th>494</th>\n",
              "      <td>1506</td>\n",
              "      <td>環河公園</td>\n",
              "      <td>36</td>\n",
              "      <td>24</td>\n",
              "      <td>板橋區</td>\n",
              "      <td>20180704221320</td>\n",
              "      <td>25.01666</td>\n",
              "      <td>121.45064</td>\n",
              "      <td>南雅西路二段301巷41弄5-5號(旁)</td>\n",
              "      <td>Banqiao Dist.</td>\n",
              "      <td>Huanhe Park</td>\n",
              "      <td>No.5-5, Aly. 41, Ln. 301, Sec. 2, Nanya W. Rd....</td>\n",
              "      <td>12</td>\n",
              "      <td>1</td>\n",
              "    </tr>\n",
              "  </tbody>\n",
              "</table>\n",
              "</div>"
            ],
            "text/plain": [
              "      sno      sna  ...  bemp  act\n",
              "490  1502  縣民漢生東路口  ...    48    1\n",
              "491  1503     時光公園  ...    27    1\n",
              "492  1504     積穗國中  ...    15    1\n",
              "493  1505     員和公園  ...    30    1\n",
              "494  1506     環河公園  ...    12    1\n",
              "\n",
              "[5 rows x 14 columns]"
            ]
          },
          "metadata": {
            "tags": []
          },
          "execution_count": 27
        }
      ]
    }
  ]
}
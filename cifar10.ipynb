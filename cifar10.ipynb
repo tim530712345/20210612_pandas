{
  "nbformat": 4,
  "nbformat_minor": 0,
  "metadata": {
    "colab": {
      "name": "cifar10.ipynb",
      "provenance": [],
      "authorship_tag": "ABX9TyMdEnOZjVzRTQIObpn4DCwq",
      "include_colab_link": true
    },
    "kernelspec": {
      "name": "python3",
      "display_name": "Python 3"
    },
    "language_info": {
      "name": "python"
    },
    "accelerator": "GPU"
  },
  "cells": [
    {
      "cell_type": "markdown",
      "metadata": {
        "id": "view-in-github",
        "colab_type": "text"
      },
      "source": [
        "<a href=\"https://colab.research.google.com/github/tim530712345/20210612_pandas/blob/main/cifar10.ipynb\" target=\"_parent\"><img src=\"https://colab.research.google.com/assets/colab-badge.svg\" alt=\"Open In Colab\"/></a>"
      ]
    },
    {
      "cell_type": "code",
      "metadata": {
        "colab": {
          "base_uri": "https://localhost:8080/"
        },
        "id": "BwOjBXUV_ehi",
        "outputId": "d20b1bcc-0f04-4aaf-92ee-6fa27553c078"
      },
      "source": [
        "from tensorflow.keras.datasets.cifar10 import load_data\n",
        "(x_train, y_train), (x_test, y_test) = load_data()"
      ],
      "execution_count": 1,
      "outputs": [
        {
          "output_type": "stream",
          "text": [
            "Downloading data from https://www.cs.toronto.edu/~kriz/cifar-10-python.tar.gz\n",
            "170500096/170498071 [==============================] - 2s 0us/step\n"
          ],
          "name": "stdout"
        }
      ]
    },
    {
      "cell_type": "code",
      "metadata": {
        "colab": {
          "base_uri": "https://localhost:8080/"
        },
        "id": "u6x9ZkCb_xcy",
        "outputId": "63f4e074-e776-459a-c70b-875d22f31edf"
      },
      "source": [
        "# 50000: 一維的串列， (50000, 1): 二維表格\n",
        "print(x_train.shape)\n",
        "print(y_train.shape)\n",
        "print(x_test.shape)\n",
        "print(y_test.shape)"
      ],
      "execution_count": 2,
      "outputs": [
        {
          "output_type": "stream",
          "text": [
            "(50000, 32, 32, 3)\n",
            "(50000, 1)\n",
            "(10000, 32, 32, 3)\n",
            "(10000, 1)\n"
          ],
          "name": "stdout"
        }
      ]
    },
    {
      "cell_type": "code",
      "metadata": {
        "id": "ce87_kxrCNk8"
      },
      "source": [
        "names= [\n",
        "    'airplan',\t\t\t\t\t\t\t\t\t\t\n",
        "    'automobile',\t\t\t\t\t\t\t\t\t\t\n",
        "    'bird',\t\t\t\t\t\t\t\t\t\n",
        "    'cat',\t\t\t\t\t\t\t\t\t\n",
        "    'deer',\t\t\t\t\t\t\t\t\t\n",
        "    'dog',\t\t\t\t\t\t\t\t\n",
        "    'frog',\t\t\t\t\t\t\t\t\n",
        "    'horse',\t\t\t\t\t\t\t\t\n",
        "    'ship',\t\t\t\t\t\t\t\t\n",
        "    'truck'\n",
        "]"
      ],
      "execution_count": 3,
      "outputs": []
    },
    {
      "cell_type": "code",
      "metadata": {
        "colab": {
          "base_uri": "https://localhost:8080/",
          "height": 300
        },
        "id": "-3eB5EGcAqDN",
        "outputId": "6d656002-d605-4b6e-f838-de0644a77a87"
      },
      "source": [
        "import matplotlib.pyplot as plt\n",
        "import random\n",
        "idx = random.randint(0, 49999)\n",
        "ans = y_train[idx][0]\n",
        "print(names[ans])\n",
        "plt.imshow(x_train[idx])"
      ],
      "execution_count": 4,
      "outputs": [
        {
          "output_type": "stream",
          "text": [
            "bird\n"
          ],
          "name": "stdout"
        },
        {
          "output_type": "execute_result",
          "data": {
            "text/plain": [
              "<matplotlib.image.AxesImage at 0x7fc0fe2faed0>"
            ]
          },
          "metadata": {
            "tags": []
          },
          "execution_count": 4
        },
        {
          "output_type": "display_data",
          "data": {
            "image/png": "[encoded data removed]",
            "text/plain": [
              "<Figure size 432x288 with 1 Axes>"
            ]
          },
          "metadata": {
            "tags": [],
            "needs_background": "light"
          }
        }
      ]
    },
    {
      "cell_type": "code",
      "metadata": {
        "colab": {
          "base_uri": "https://localhost:8080/"
        },
        "id": "l_zfzIflcD7i",
        "outputId": "38917d30-e141-4d0a-b188-c45a2e80234e"
      },
      "source": [
        "from tensorflow.keras.models import Sequential\n",
        "from tensorflow.keras.layers import Conv2D, MaxPool2D # 圖片\n",
        "from tensorflow.keras.layers import Dense, Flatten, Dropout # Flatten 攤平\n",
        "layers = [\n",
        "          # 每個卷積核都是一個梯度下降的結果\n",
        "          # 3 * 3 * 3(一個) * 64 + 64(bias) = 1792\n",
        "          Conv2D(64, 3, activation='relu', padding='same', input_shape=(32, 32, 3)),\n",
        "          MaxPool2D(),\n",
        "          # 3 * 3 * 64(一個) * 128 + 128(bias) = 73856\n",
        "          Conv2D(128, 3, activation='relu', padding='same'),\n",
        "          MaxPool2D(),\n",
        "          # 3 * 3 * 128(一個) * 256 + 256(bias) = 295168\n",
        "          Conv2D(256, 3, activation='relu', padding='same'),\n",
        "          MaxPool2D(),\n",
        "          Flatten(),\n",
        "          # 過擬合: 過度依賴某個神經元\n",
        "          # dropout(0.25-0.5): 訓練時(64)，隨機丟棄25%-50%的神經元，測試時(128)\n",
        "          # 使用dropout，是為了應付特殊狀況，準確率不一定會上升\n",
        "          Dense(128, activation='relu'),\n",
        "          Dropout(0.25),\n",
        "          Dense(10, activation='softmax')\n",
        "]\n",
        "model = Sequential(layers)\n",
        "model.summary()"
      ],
      "execution_count": 7,
      "outputs": [
        {
          "output_type": "stream",
          "text": [
            "Model: \"sequential_1\"\n",
            "_________________________________________________________________\n",
            "Layer (type)                 Output Shape              Param #   \n",
            "=================================================================\n",
            "conv2d_3 (Conv2D)            (None, 32, 32, 64)        1792      \n",
            "_________________________________________________________________\n",
            "max_pooling2d_3 (MaxPooling2 (None, 16, 16, 64)        0         \n",
            "_________________________________________________________________\n",
            "conv2d_4 (Conv2D)            (None, 16, 16, 128)       73856     \n",
            "_________________________________________________________________\n",
            "max_pooling2d_4 (MaxPooling2 (None, 8, 8, 128)         0         \n",
            "_________________________________________________________________\n",
            "conv2d_5 (Conv2D)            (None, 8, 8, 256)         295168    \n",
            "_________________________________________________________________\n",
            "max_pooling2d_5 (MaxPooling2 (None, 4, 4, 256)         0         \n",
            "_________________________________________________________________\n",
            "flatten_1 (Flatten)          (None, 4096)              0         \n",
            "_________________________________________________________________\n",
            "dense_2 (Dense)              (None, 128)               524416    \n",
            "_________________________________________________________________\n",
            "dropout (Dropout)            (None, 128)               0         \n",
            "_________________________________________________________________\n",
            "dense_3 (Dense)              (None, 10)                1290      \n",
            "=================================================================\n",
            "Total params: 896,522\n",
            "Trainable params: 896,522\n",
            "Non-trainable params: 0\n",
            "_________________________________________________________________\n"
          ],
          "name": "stdout"
        }
      ]
    },
    {
      "cell_type": "code",
      "metadata": {
        "id": "Y9fJhSlTBkHo"
      },
      "source": [
        ""
      ],
      "execution_count": 4,
      "outputs": []
    }
  ]
}
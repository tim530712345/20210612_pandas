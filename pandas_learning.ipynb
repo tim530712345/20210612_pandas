{
  "nbformat": 4,
  "nbformat_minor": 0,
  "metadata": {
    "colab": {
      "name": "pandas_learning.ipynb",
      "provenance": [],
      "authorship_tag": "ABX9TyPzrFpyXoKzEnnDHpRWg8GQ",
      "include_colab_link": true
    },
    "kernelspec": {
      "name": "python3",
      "display_name": "Python 3"
    },
    "language_info": {
      "name": "python"
    }
  },
  "cells": [
    {
      "cell_type": "markdown",
      "metadata": {
        "id": "view-in-github",
        "colab_type": "text"
      },
      "source": [
        "<a href=\"https://colab.research.google.com/github/tim530712345/20210612_pandas/blob/main/pandas_learning.ipynb\" target=\"_parent\"><img src=\"https://colab.research.google.com/assets/colab-badge.svg\" alt=\"Open In Colab\"/></a>"
      ]
    },
    {
      "cell_type": "code",
      "metadata": {
        "id": "8CGWFQJAH9hw"
      },
      "source": [
        "import numpy as np\n",
        "import pandas as pd"
      ],
      "execution_count": 1,
      "outputs": []
    },
    {
      "cell_type": "code",
      "metadata": {
        "colab": {
          "base_uri": "https://localhost:8080/"
        },
        "id": "_Z556XnuIYH0",
        "outputId": "069f071c-907a-4169-82cf-7186796f1de5"
      },
      "source": [
        "pd.Series([1,2,3,np.nan,6,8]) # np.nan 空值"
      ],
      "execution_count": 2,
      "outputs": [
        {
          "output_type": "execute_result",
          "data": {
            "text/plain": [
              "0    1.0\n",
              "1    2.0\n",
              "2    3.0\n",
              "3    NaN\n",
              "4    6.0\n",
              "5    8.0\n",
              "dtype: float64"
            ]
          },
          "metadata": {
            "tags": []
          },
          "execution_count": 2
        }
      ]
    },
    {
      "cell_type": "code",
      "metadata": {
        "colab": {
          "base_uri": "https://localhost:8080/"
        },
        "id": "JO5hsZ41JdDO",
        "outputId": "3ad5bbb6-6c20-4915-82f0-54572407a6f2"
      },
      "source": [
        "dates = pd.date_range(\"20200101\", periods=6)\n",
        "dates"
      ],
      "execution_count": 5,
      "outputs": [
        {
          "output_type": "execute_result",
          "data": {
            "text/plain": [
              "DatetimeIndex(['2020-01-01', '2020-01-02', '2020-01-03', '2020-01-04',\n",
              "               '2020-01-05', '2020-01-06'],\n",
              "              dtype='datetime64[ns]', freq='D')"
            ]
          },
          "metadata": {
            "tags": []
          },
          "execution_count": 5
        }
      ]
    },
    {
      "cell_type": "code",
      "metadata": {
        "colab": {
          "base_uri": "https://localhost:8080/",
          "height": 235
        },
        "id": "1FfyPvsOJwqF",
        "outputId": "b178b343-3f3e-4976-9779-b3ffbb2c00e2"
      },
      "source": [
        "df = pd.DataFrame(np.random.randn(6,4),index=dates,columns=list('ABCD')) # np.random.randn(6,4) 建立一個6*4的隨機數字矩陣\n",
        "df"
      ],
      "execution_count": 6,
      "outputs": [
        {
          "output_type": "execute_result",
          "data": {
            "text/html": [
              "<div>\n",
              "<style scoped>\n",
              "    .dataframe tbody tr th:only-of-type {\n",
              "        vertical-align: middle;\n",
              "    }\n",
              "\n",
              "    .dataframe tbody tr th {\n",
              "        vertical-align: top;\n",
              "    }\n",
              "\n",
              "    .dataframe thead th {\n",
              "        text-align: right;\n",
              "    }\n",
              "</style>\n",
              "<table border=\"1\" class=\"dataframe\">\n",
              "  <thead>\n",
              "    <tr style=\"text-align: right;\">\n",
              "      <th></th>\n",
              "      <th>A</th>\n",
              "      <th>B</th>\n",
              "      <th>C</th>\n",
              "      <th>D</th>\n",
              "    </tr>\n",
              "  </thead>\n",
              "  <tbody>\n",
              "    <tr>\n",
              "      <th>2020-01-01</th>\n",
              "      <td>0.985463</td>\n",
              "      <td>2.364535</td>\n",
              "      <td>0.986302</td>\n",
              "      <td>-1.883043</td>\n",
              "    </tr>\n",
              "    <tr>\n",
              "      <th>2020-01-02</th>\n",
              "      <td>0.873004</td>\n",
              "      <td>0.137808</td>\n",
              "      <td>0.990764</td>\n",
              "      <td>-1.023394</td>\n",
              "    </tr>\n",
              "    <tr>\n",
              "      <th>2020-01-03</th>\n",
              "      <td>1.999931</td>\n",
              "      <td>1.602989</td>\n",
              "      <td>-0.997345</td>\n",
              "      <td>-0.606740</td>\n",
              "    </tr>\n",
              "    <tr>\n",
              "      <th>2020-01-04</th>\n",
              "      <td>-0.736284</td>\n",
              "      <td>-1.436716</td>\n",
              "      <td>1.811139</td>\n",
              "      <td>0.767786</td>\n",
              "    </tr>\n",
              "    <tr>\n",
              "      <th>2020-01-05</th>\n",
              "      <td>0.491588</td>\n",
              "      <td>-2.103403</td>\n",
              "      <td>0.759479</td>\n",
              "      <td>-1.480084</td>\n",
              "    </tr>\n",
              "    <tr>\n",
              "      <th>2020-01-06</th>\n",
              "      <td>0.451771</td>\n",
              "      <td>-0.275884</td>\n",
              "      <td>3.164966</td>\n",
              "      <td>0.460151</td>\n",
              "    </tr>\n",
              "  </tbody>\n",
              "</table>\n",
              "</div>"
            ],
            "text/plain": [
              "                   A         B         C         D\n",
              "2020-01-01  0.985463  2.364535  0.986302 -1.883043\n",
              "2020-01-02  0.873004  0.137808  0.990764 -1.023394\n",
              "2020-01-03  1.999931  1.602989 -0.997345 -0.606740\n",
              "2020-01-04 -0.736284 -1.436716  1.811139  0.767786\n",
              "2020-01-05  0.491588 -2.103403  0.759479 -1.480084\n",
              "2020-01-06  0.451771 -0.275884  3.164966  0.460151"
            ]
          },
          "metadata": {
            "tags": []
          },
          "execution_count": 6
        }
      ]
    },
    {
      "cell_type": "code",
      "metadata": {
        "colab": {
          "base_uri": "https://localhost:8080/",
          "height": 173
        },
        "id": "Fm858swlLEwF",
        "outputId": "f17a9e8b-5201-403d-8752-670bd8c85b15"
      },
      "source": [
        "df2 = pd.DataFrame(\n",
        "   ...:     {\n",
        "   ...:         \"A\": 1.0,\n",
        "   ...:         \"B\": pd.Timestamp(\"20130102\"),\n",
        "   ...:         \"C\": pd.Series(1, index=list(range(4)), dtype=\"float32\"),\n",
        "   ...:         \"D\": np.array([3] * 4, dtype=\"int32\"),\n",
        "   ...:         \"E\": pd.Categorical([\"test\", \"train\", \"test\", \"train\"]),\n",
        "   ...:         \"F\": \"foo\",\n",
        "   ...:     }\n",
        "   ...: )\n",
        "df2"
      ],
      "execution_count": 7,
      "outputs": [
        {
          "output_type": "execute_result",
          "data": {
            "text/html": [
              "<div>\n",
              "<style scoped>\n",
              "    .dataframe tbody tr th:only-of-type {\n",
              "        vertical-align: middle;\n",
              "    }\n",
              "\n",
              "    .dataframe tbody tr th {\n",
              "        vertical-align: top;\n",
              "    }\n",
              "\n",
              "    .dataframe thead th {\n",
              "        text-align: right;\n",
              "    }\n",
              "</style>\n",
              "<table border=\"1\" class=\"dataframe\">\n",
              "  <thead>\n",
              "    <tr style=\"text-align: right;\">\n",
              "      <th></th>\n",
              "      <th>A</th>\n",
              "      <th>B</th>\n",
              "      <th>C</th>\n",
              "      <th>D</th>\n",
              "      <th>E</th>\n",
              "      <th>F</th>\n",
              "    </tr>\n",
              "  </thead>\n",
              "  <tbody>\n",
              "    <tr>\n",
              "      <th>0</th>\n",
              "      <td>1.0</td>\n",
              "      <td>2013-01-02</td>\n",
              "      <td>1.0</td>\n",
              "      <td>3</td>\n",
              "      <td>test</td>\n",
              "      <td>foo</td>\n",
              "    </tr>\n",
              "    <tr>\n",
              "      <th>1</th>\n",
              "      <td>1.0</td>\n",
              "      <td>2013-01-02</td>\n",
              "      <td>1.0</td>\n",
              "      <td>3</td>\n",
              "      <td>train</td>\n",
              "      <td>foo</td>\n",
              "    </tr>\n",
              "    <tr>\n",
              "      <th>2</th>\n",
              "      <td>1.0</td>\n",
              "      <td>2013-01-02</td>\n",
              "      <td>1.0</td>\n",
              "      <td>3</td>\n",
              "      <td>test</td>\n",
              "      <td>foo</td>\n",
              "    </tr>\n",
              "    <tr>\n",
              "      <th>3</th>\n",
              "      <td>1.0</td>\n",
              "      <td>2013-01-02</td>\n",
              "      <td>1.0</td>\n",
              "      <td>3</td>\n",
              "      <td>train</td>\n",
              "      <td>foo</td>\n",
              "    </tr>\n",
              "  </tbody>\n",
              "</table>\n",
              "</div>"
            ],
            "text/plain": [
              "     A          B    C  D      E    F\n",
              "0  1.0 2013-01-02  1.0  3   test  foo\n",
              "1  1.0 2013-01-02  1.0  3  train  foo\n",
              "2  1.0 2013-01-02  1.0  3   test  foo\n",
              "3  1.0 2013-01-02  1.0  3  train  foo"
            ]
          },
          "metadata": {
            "tags": []
          },
          "execution_count": 7
        }
      ]
    },
    {
      "cell_type": "code",
      "metadata": {
        "colab": {
          "base_uri": "https://localhost:8080/"
        },
        "id": "wZ3KgJFQLPb4",
        "outputId": "2148b554-ea55-44c6-cecd-3f6e8fe6d030"
      },
      "source": [
        "df2.dtypes"
      ],
      "execution_count": 8,
      "outputs": [
        {
          "output_type": "execute_result",
          "data": {
            "text/plain": [
              "A           float64\n",
              "B    datetime64[ns]\n",
              "C           float32\n",
              "D             int32\n",
              "E          category\n",
              "F            object\n",
              "dtype: object"
            ]
          },
          "metadata": {
            "tags": []
          },
          "execution_count": 8
        }
      ]
    },
    {
      "cell_type": "code",
      "metadata": {
        "colab": {
          "base_uri": "https://localhost:8080/",
          "height": 204
        },
        "id": "E4eZbm9gLW8Y",
        "outputId": "b0c6d5ff-b57e-4999-b196-02a1626887b6"
      },
      "source": [
        "df.head() # 前五筆資料"
      ],
      "execution_count": 9,
      "outputs": [
        {
          "output_type": "execute_result",
          "data": {
            "text/html": [
              "<div>\n",
              "<style scoped>\n",
              "    .dataframe tbody tr th:only-of-type {\n",
              "        vertical-align: middle;\n",
              "    }\n",
              "\n",
              "    .dataframe tbody tr th {\n",
              "        vertical-align: top;\n",
              "    }\n",
              "\n",
              "    .dataframe thead th {\n",
              "        text-align: right;\n",
              "    }\n",
              "</style>\n",
              "<table border=\"1\" class=\"dataframe\">\n",
              "  <thead>\n",
              "    <tr style=\"text-align: right;\">\n",
              "      <th></th>\n",
              "      <th>A</th>\n",
              "      <th>B</th>\n",
              "      <th>C</th>\n",
              "      <th>D</th>\n",
              "    </tr>\n",
              "  </thead>\n",
              "  <tbody>\n",
              "    <tr>\n",
              "      <th>2020-01-01</th>\n",
              "      <td>0.985463</td>\n",
              "      <td>2.364535</td>\n",
              "      <td>0.986302</td>\n",
              "      <td>-1.883043</td>\n",
              "    </tr>\n",
              "    <tr>\n",
              "      <th>2020-01-02</th>\n",
              "      <td>0.873004</td>\n",
              "      <td>0.137808</td>\n",
              "      <td>0.990764</td>\n",
              "      <td>-1.023394</td>\n",
              "    </tr>\n",
              "    <tr>\n",
              "      <th>2020-01-03</th>\n",
              "      <td>1.999931</td>\n",
              "      <td>1.602989</td>\n",
              "      <td>-0.997345</td>\n",
              "      <td>-0.606740</td>\n",
              "    </tr>\n",
              "    <tr>\n",
              "      <th>2020-01-04</th>\n",
              "      <td>-0.736284</td>\n",
              "      <td>-1.436716</td>\n",
              "      <td>1.811139</td>\n",
              "      <td>0.767786</td>\n",
              "    </tr>\n",
              "    <tr>\n",
              "      <th>2020-01-05</th>\n",
              "      <td>0.491588</td>\n",
              "      <td>-2.103403</td>\n",
              "      <td>0.759479</td>\n",
              "      <td>-1.480084</td>\n",
              "    </tr>\n",
              "  </tbody>\n",
              "</table>\n",
              "</div>"
            ],
            "text/plain": [
              "                   A         B         C         D\n",
              "2020-01-01  0.985463  2.364535  0.986302 -1.883043\n",
              "2020-01-02  0.873004  0.137808  0.990764 -1.023394\n",
              "2020-01-03  1.999931  1.602989 -0.997345 -0.606740\n",
              "2020-01-04 -0.736284 -1.436716  1.811139  0.767786\n",
              "2020-01-05  0.491588 -2.103403  0.759479 -1.480084"
            ]
          },
          "metadata": {
            "tags": []
          },
          "execution_count": 9
        }
      ]
    },
    {
      "cell_type": "code",
      "metadata": {
        "colab": {
          "base_uri": "https://localhost:8080/",
          "height": 204
        },
        "id": "Bb07UOI0Lyqp",
        "outputId": "84335fb8-7297-4674-e57d-96a79a53df29"
      },
      "source": [
        "df.tail() # 後五筆資料"
      ],
      "execution_count": 10,
      "outputs": [
        {
          "output_type": "execute_result",
          "data": {
            "text/html": [
              "<div>\n",
              "<style scoped>\n",
              "    .dataframe tbody tr th:only-of-type {\n",
              "        vertical-align: middle;\n",
              "    }\n",
              "\n",
              "    .dataframe tbody tr th {\n",
              "        vertical-align: top;\n",
              "    }\n",
              "\n",
              "    .dataframe thead th {\n",
              "        text-align: right;\n",
              "    }\n",
              "</style>\n",
              "<table border=\"1\" class=\"dataframe\">\n",
              "  <thead>\n",
              "    <tr style=\"text-align: right;\">\n",
              "      <th></th>\n",
              "      <th>A</th>\n",
              "      <th>B</th>\n",
              "      <th>C</th>\n",
              "      <th>D</th>\n",
              "    </tr>\n",
              "  </thead>\n",
              "  <tbody>\n",
              "    <tr>\n",
              "      <th>2020-01-02</th>\n",
              "      <td>0.873004</td>\n",
              "      <td>0.137808</td>\n",
              "      <td>0.990764</td>\n",
              "      <td>-1.023394</td>\n",
              "    </tr>\n",
              "    <tr>\n",
              "      <th>2020-01-03</th>\n",
              "      <td>1.999931</td>\n",
              "      <td>1.602989</td>\n",
              "      <td>-0.997345</td>\n",
              "      <td>-0.606740</td>\n",
              "    </tr>\n",
              "    <tr>\n",
              "      <th>2020-01-04</th>\n",
              "      <td>-0.736284</td>\n",
              "      <td>-1.436716</td>\n",
              "      <td>1.811139</td>\n",
              "      <td>0.767786</td>\n",
              "    </tr>\n",
              "    <tr>\n",
              "      <th>2020-01-05</th>\n",
              "      <td>0.491588</td>\n",
              "      <td>-2.103403</td>\n",
              "      <td>0.759479</td>\n",
              "      <td>-1.480084</td>\n",
              "    </tr>\n",
              "    <tr>\n",
              "      <th>2020-01-06</th>\n",
              "      <td>0.451771</td>\n",
              "      <td>-0.275884</td>\n",
              "      <td>3.164966</td>\n",
              "      <td>0.460151</td>\n",
              "    </tr>\n",
              "  </tbody>\n",
              "</table>\n",
              "</div>"
            ],
            "text/plain": [
              "                   A         B         C         D\n",
              "2020-01-02  0.873004  0.137808  0.990764 -1.023394\n",
              "2020-01-03  1.999931  1.602989 -0.997345 -0.606740\n",
              "2020-01-04 -0.736284 -1.436716  1.811139  0.767786\n",
              "2020-01-05  0.491588 -2.103403  0.759479 -1.480084\n",
              "2020-01-06  0.451771 -0.275884  3.164966  0.460151"
            ]
          },
          "metadata": {
            "tags": []
          },
          "execution_count": 10
        }
      ]
    },
    {
      "cell_type": "code",
      "metadata": {
        "id": "SRZrnKv2MYv2"
      },
      "source": [
        "# df2.A                  df2.bool\n",
        "# df2.abs                df2.boxplot\n",
        "# df2.add                df2.C\n",
        "# df2.add_prefix         df2.clip\n",
        "# df2.add_suffix         df2.columns\n",
        "# df2.align              df2.copy\n",
        "# df2.all                df2.count\n",
        "# df2.any                df2.combine\n",
        "# df2.append             df2.D\n",
        "# df2.apply              df2.describe\n",
        "# df2.applymap           df2.diff\n",
        "# df2.B                  df2.duplicated"
      ],
      "execution_count": 14,
      "outputs": []
    },
    {
      "cell_type": "code",
      "metadata": {
        "colab": {
          "base_uri": "https://localhost:8080/"
        },
        "id": "Zep117jOMail",
        "outputId": "adeaa7c1-168f-41d8-b27d-c7c804a3ab19"
      },
      "source": [
        "df.index"
      ],
      "execution_count": 15,
      "outputs": [
        {
          "output_type": "execute_result",
          "data": {
            "text/plain": [
              "DatetimeIndex(['2020-01-01', '2020-01-02', '2020-01-03', '2020-01-04',\n",
              "               '2020-01-05', '2020-01-06'],\n",
              "              dtype='datetime64[ns]', freq='D')"
            ]
          },
          "metadata": {
            "tags": []
          },
          "execution_count": 15
        }
      ]
    },
    {
      "cell_type": "code",
      "metadata": {
        "colab": {
          "base_uri": "https://localhost:8080/"
        },
        "id": "Z43ykcoPMhmr",
        "outputId": "3ba11b60-01c6-4da6-dd95-e87e7f219350"
      },
      "source": [
        "df.columns"
      ],
      "execution_count": 16,
      "outputs": [
        {
          "output_type": "execute_result",
          "data": {
            "text/plain": [
              "Index(['A', 'B', 'C', 'D'], dtype='object')"
            ]
          },
          "metadata": {
            "tags": []
          },
          "execution_count": 16
        }
      ]
    },
    {
      "cell_type": "code",
      "metadata": {
        "colab": {
          "base_uri": "https://localhost:8080/"
        },
        "id": "0LlQ3_rmMkXG",
        "outputId": "68ff9c31-d53a-40c0-f672-65d45e45ab48"
      },
      "source": [
        "df.to_numpy()"
      ],
      "execution_count": 17,
      "outputs": [
        {
          "output_type": "execute_result",
          "data": {
            "text/plain": [
              "array([[ 0.98546302,  2.36453528,  0.98630217, -1.88304348],\n",
              "       [ 0.87300421,  0.13780801,  0.99076397, -1.02339405],\n",
              "       [ 1.99993135,  1.60298867, -0.99734532, -0.60674049],\n",
              "       [-0.73628391, -1.43671642,  1.81113852,  0.76778559],\n",
              "       [ 0.49158781, -2.10340341,  0.75947851, -1.48008404],\n",
              "       [ 0.4517705 , -0.27588406,  3.16496638,  0.46015133]])"
            ]
          },
          "metadata": {
            "tags": []
          },
          "execution_count": 17
        }
      ]
    },
    {
      "cell_type": "code",
      "metadata": {
        "colab": {
          "base_uri": "https://localhost:8080/"
        },
        "id": "UPn-t4wPMo0o",
        "outputId": "b4bf3cc3-f84b-462d-af0e-9b4853cb6478"
      },
      "source": [
        "df2.to_numpy() # 轉換成n維陣列"
      ],
      "execution_count": 18,
      "outputs": [
        {
          "output_type": "execute_result",
          "data": {
            "text/plain": [
              "array([[1.0, Timestamp('2013-01-02 00:00:00'), 1.0, 3, 'test', 'foo'],\n",
              "       [1.0, Timestamp('2013-01-02 00:00:00'), 1.0, 3, 'train', 'foo'],\n",
              "       [1.0, Timestamp('2013-01-02 00:00:00'), 1.0, 3, 'test', 'foo'],\n",
              "       [1.0, Timestamp('2013-01-02 00:00:00'), 1.0, 3, 'train', 'foo']],\n",
              "      dtype=object)"
            ]
          },
          "metadata": {
            "tags": []
          },
          "execution_count": 18
        }
      ]
    },
    {
      "cell_type": "code",
      "metadata": {
        "colab": {
          "base_uri": "https://localhost:8080/",
          "height": 297
        },
        "id": "8fJOTjTJMzHd",
        "outputId": "c125cbfd-f9e9-4b00-c3cf-949c73d427a2"
      },
      "source": [
        "df.describe() # "
      ],
      "execution_count": 19,
      "outputs": [
        {
          "output_type": "execute_result",
          "data": {
            "text/html": [
              "<div>\n",
              "<style scoped>\n",
              "    .dataframe tbody tr th:only-of-type {\n",
              "        vertical-align: middle;\n",
              "    }\n",
              "\n",
              "    .dataframe tbody tr th {\n",
              "        vertical-align: top;\n",
              "    }\n",
              "\n",
              "    .dataframe thead th {\n",
              "        text-align: right;\n",
              "    }\n",
              "</style>\n",
              "<table border=\"1\" class=\"dataframe\">\n",
              "  <thead>\n",
              "    <tr style=\"text-align: right;\">\n",
              "      <th></th>\n",
              "      <th>A</th>\n",
              "      <th>B</th>\n",
              "      <th>C</th>\n",
              "      <th>D</th>\n",
              "    </tr>\n",
              "  </thead>\n",
              "  <tbody>\n",
              "    <tr>\n",
              "      <th>count</th>\n",
              "      <td>6.000000</td>\n",
              "      <td>6.000000</td>\n",
              "      <td>6.000000</td>\n",
              "      <td>6.000000</td>\n",
              "    </tr>\n",
              "    <tr>\n",
              "      <th>mean</th>\n",
              "      <td>0.677579</td>\n",
              "      <td>0.048221</td>\n",
              "      <td>1.119217</td>\n",
              "      <td>-0.627554</td>\n",
              "    </tr>\n",
              "    <tr>\n",
              "      <th>std</th>\n",
              "      <td>0.890639</td>\n",
              "      <td>1.716404</td>\n",
              "      <td>1.364350</td>\n",
              "      <td>1.057380</td>\n",
              "    </tr>\n",
              "    <tr>\n",
              "      <th>min</th>\n",
              "      <td>-0.736284</td>\n",
              "      <td>-2.103403</td>\n",
              "      <td>-0.997345</td>\n",
              "      <td>-1.883043</td>\n",
              "    </tr>\n",
              "    <tr>\n",
              "      <th>25%</th>\n",
              "      <td>0.461725</td>\n",
              "      <td>-1.146508</td>\n",
              "      <td>0.816184</td>\n",
              "      <td>-1.365912</td>\n",
              "    </tr>\n",
              "    <tr>\n",
              "      <th>50%</th>\n",
              "      <td>0.682296</td>\n",
              "      <td>-0.069038</td>\n",
              "      <td>0.988533</td>\n",
              "      <td>-0.815067</td>\n",
              "    </tr>\n",
              "    <tr>\n",
              "      <th>75%</th>\n",
              "      <td>0.957348</td>\n",
              "      <td>1.236694</td>\n",
              "      <td>1.606045</td>\n",
              "      <td>0.193428</td>\n",
              "    </tr>\n",
              "    <tr>\n",
              "      <th>max</th>\n",
              "      <td>1.999931</td>\n",
              "      <td>2.364535</td>\n",
              "      <td>3.164966</td>\n",
              "      <td>0.767786</td>\n",
              "    </tr>\n",
              "  </tbody>\n",
              "</table>\n",
              "</div>"
            ],
            "text/plain": [
              "              A         B         C         D\n",
              "count  6.000000  6.000000  6.000000  6.000000\n",
              "mean   0.677579  0.048221  1.119217 -0.627554\n",
              "std    0.890639  1.716404  1.364350  1.057380\n",
              "min   -0.736284 -2.103403 -0.997345 -1.883043\n",
              "25%    0.461725 -1.146508  0.816184 -1.365912\n",
              "50%    0.682296 -0.069038  0.988533 -0.815067\n",
              "75%    0.957348  1.236694  1.606045  0.193428\n",
              "max    1.999931  2.364535  3.164966  0.767786"
            ]
          },
          "metadata": {
            "tags": []
          },
          "execution_count": 19
        }
      ]
    },
    {
      "cell_type": "code",
      "metadata": {
        "colab": {
          "base_uri": "https://localhost:8080/",
          "height": 173
        },
        "id": "OhGr-1teNDLw",
        "outputId": "cc40600a-790a-4e6e-974a-c0df0afa9bb4"
      },
      "source": [
        "df.T # 列-->欄，欄-->列"
      ],
      "execution_count": 20,
      "outputs": [
        {
          "output_type": "execute_result",
          "data": {
            "text/html": [
              "<div>\n",
              "<style scoped>\n",
              "    .dataframe tbody tr th:only-of-type {\n",
              "        vertical-align: middle;\n",
              "    }\n",
              "\n",
              "    .dataframe tbody tr th {\n",
              "        vertical-align: top;\n",
              "    }\n",
              "\n",
              "    .dataframe thead th {\n",
              "        text-align: right;\n",
              "    }\n",
              "</style>\n",
              "<table border=\"1\" class=\"dataframe\">\n",
              "  <thead>\n",
              "    <tr style=\"text-align: right;\">\n",
              "      <th></th>\n",
              "      <th>2020-01-01</th>\n",
              "      <th>2020-01-02</th>\n",
              "      <th>2020-01-03</th>\n",
              "      <th>2020-01-04</th>\n",
              "      <th>2020-01-05</th>\n",
              "      <th>2020-01-06</th>\n",
              "    </tr>\n",
              "  </thead>\n",
              "  <tbody>\n",
              "    <tr>\n",
              "      <th>A</th>\n",
              "      <td>0.985463</td>\n",
              "      <td>0.873004</td>\n",
              "      <td>1.999931</td>\n",
              "      <td>-0.736284</td>\n",
              "      <td>0.491588</td>\n",
              "      <td>0.451771</td>\n",
              "    </tr>\n",
              "    <tr>\n",
              "      <th>B</th>\n",
              "      <td>2.364535</td>\n",
              "      <td>0.137808</td>\n",
              "      <td>1.602989</td>\n",
              "      <td>-1.436716</td>\n",
              "      <td>-2.103403</td>\n",
              "      <td>-0.275884</td>\n",
              "    </tr>\n",
              "    <tr>\n",
              "      <th>C</th>\n",
              "      <td>0.986302</td>\n",
              "      <td>0.990764</td>\n",
              "      <td>-0.997345</td>\n",
              "      <td>1.811139</td>\n",
              "      <td>0.759479</td>\n",
              "      <td>3.164966</td>\n",
              "    </tr>\n",
              "    <tr>\n",
              "      <th>D</th>\n",
              "      <td>-1.883043</td>\n",
              "      <td>-1.023394</td>\n",
              "      <td>-0.606740</td>\n",
              "      <td>0.767786</td>\n",
              "      <td>-1.480084</td>\n",
              "      <td>0.460151</td>\n",
              "    </tr>\n",
              "  </tbody>\n",
              "</table>\n",
              "</div>"
            ],
            "text/plain": [
              "   2020-01-01  2020-01-02  2020-01-03  2020-01-04  2020-01-05  2020-01-06\n",
              "A    0.985463    0.873004    1.999931   -0.736284    0.491588    0.451771\n",
              "B    2.364535    0.137808    1.602989   -1.436716   -2.103403   -0.275884\n",
              "C    0.986302    0.990764   -0.997345    1.811139    0.759479    3.164966\n",
              "D   -1.883043   -1.023394   -0.606740    0.767786   -1.480084    0.460151"
            ]
          },
          "metadata": {
            "tags": []
          },
          "execution_count": 20
        }
      ]
    },
    {
      "cell_type": "code",
      "metadata": {
        "colab": {
          "base_uri": "https://localhost:8080/",
          "height": 235
        },
        "id": "Iqf0OJ6pNVoQ",
        "outputId": "0e8e19fa-8738-465b-c102-6cca66530f46"
      },
      "source": [
        "df.sort_index(axis=1,ascending=False) # axis=1 欄軸 ，ascending=False 降序排列"
      ],
      "execution_count": 21,
      "outputs": [
        {
          "output_type": "execute_result",
          "data": {
            "text/html": [
              "<div>\n",
              "<style scoped>\n",
              "    .dataframe tbody tr th:only-of-type {\n",
              "        vertical-align: middle;\n",
              "    }\n",
              "\n",
              "    .dataframe tbody tr th {\n",
              "        vertical-align: top;\n",
              "    }\n",
              "\n",
              "    .dataframe thead th {\n",
              "        text-align: right;\n",
              "    }\n",
              "</style>\n",
              "<table border=\"1\" class=\"dataframe\">\n",
              "  <thead>\n",
              "    <tr style=\"text-align: right;\">\n",
              "      <th></th>\n",
              "      <th>D</th>\n",
              "      <th>C</th>\n",
              "      <th>B</th>\n",
              "      <th>A</th>\n",
              "    </tr>\n",
              "  </thead>\n",
              "  <tbody>\n",
              "    <tr>\n",
              "      <th>2020-01-01</th>\n",
              "      <td>-1.883043</td>\n",
              "      <td>0.986302</td>\n",
              "      <td>2.364535</td>\n",
              "      <td>0.985463</td>\n",
              "    </tr>\n",
              "    <tr>\n",
              "      <th>2020-01-02</th>\n",
              "      <td>-1.023394</td>\n",
              "      <td>0.990764</td>\n",
              "      <td>0.137808</td>\n",
              "      <td>0.873004</td>\n",
              "    </tr>\n",
              "    <tr>\n",
              "      <th>2020-01-03</th>\n",
              "      <td>-0.606740</td>\n",
              "      <td>-0.997345</td>\n",
              "      <td>1.602989</td>\n",
              "      <td>1.999931</td>\n",
              "    </tr>\n",
              "    <tr>\n",
              "      <th>2020-01-04</th>\n",
              "      <td>0.767786</td>\n",
              "      <td>1.811139</td>\n",
              "      <td>-1.436716</td>\n",
              "      <td>-0.736284</td>\n",
              "    </tr>\n",
              "    <tr>\n",
              "      <th>2020-01-05</th>\n",
              "      <td>-1.480084</td>\n",
              "      <td>0.759479</td>\n",
              "      <td>-2.103403</td>\n",
              "      <td>0.491588</td>\n",
              "    </tr>\n",
              "    <tr>\n",
              "      <th>2020-01-06</th>\n",
              "      <td>0.460151</td>\n",
              "      <td>3.164966</td>\n",
              "      <td>-0.275884</td>\n",
              "      <td>0.451771</td>\n",
              "    </tr>\n",
              "  </tbody>\n",
              "</table>\n",
              "</div>"
            ],
            "text/plain": [
              "                   D         C         B         A\n",
              "2020-01-01 -1.883043  0.986302  2.364535  0.985463\n",
              "2020-01-02 -1.023394  0.990764  0.137808  0.873004\n",
              "2020-01-03 -0.606740 -0.997345  1.602989  1.999931\n",
              "2020-01-04  0.767786  1.811139 -1.436716 -0.736284\n",
              "2020-01-05 -1.480084  0.759479 -2.103403  0.491588\n",
              "2020-01-06  0.460151  3.164966 -0.275884  0.451771"
            ]
          },
          "metadata": {
            "tags": []
          },
          "execution_count": 21
        }
      ]
    },
    {
      "cell_type": "code",
      "metadata": {
        "colab": {
          "base_uri": "https://localhost:8080/",
          "height": 235
        },
        "id": "FkHet8woOmdh",
        "outputId": "09e7defd-2f03-4e78-f66a-c9518a2600a0"
      },
      "source": [
        "df.sort_index(axis=0,ascending=True) # axis=0 列軸(索引) ascending=True 升序排列"
      ],
      "execution_count": 23,
      "outputs": [
        {
          "output_type": "execute_result",
          "data": {
            "text/html": [
              "<div>\n",
              "<style scoped>\n",
              "    .dataframe tbody tr th:only-of-type {\n",
              "        vertical-align: middle;\n",
              "    }\n",
              "\n",
              "    .dataframe tbody tr th {\n",
              "        vertical-align: top;\n",
              "    }\n",
              "\n",
              "    .dataframe thead th {\n",
              "        text-align: right;\n",
              "    }\n",
              "</style>\n",
              "<table border=\"1\" class=\"dataframe\">\n",
              "  <thead>\n",
              "    <tr style=\"text-align: right;\">\n",
              "      <th></th>\n",
              "      <th>A</th>\n",
              "      <th>B</th>\n",
              "      <th>C</th>\n",
              "      <th>D</th>\n",
              "    </tr>\n",
              "  </thead>\n",
              "  <tbody>\n",
              "    <tr>\n",
              "      <th>2020-01-01</th>\n",
              "      <td>0.985463</td>\n",
              "      <td>2.364535</td>\n",
              "      <td>0.986302</td>\n",
              "      <td>-1.883043</td>\n",
              "    </tr>\n",
              "    <tr>\n",
              "      <th>2020-01-02</th>\n",
              "      <td>0.873004</td>\n",
              "      <td>0.137808</td>\n",
              "      <td>0.990764</td>\n",
              "      <td>-1.023394</td>\n",
              "    </tr>\n",
              "    <tr>\n",
              "      <th>2020-01-03</th>\n",
              "      <td>1.999931</td>\n",
              "      <td>1.602989</td>\n",
              "      <td>-0.997345</td>\n",
              "      <td>-0.606740</td>\n",
              "    </tr>\n",
              "    <tr>\n",
              "      <th>2020-01-04</th>\n",
              "      <td>-0.736284</td>\n",
              "      <td>-1.436716</td>\n",
              "      <td>1.811139</td>\n",
              "      <td>0.767786</td>\n",
              "    </tr>\n",
              "    <tr>\n",
              "      <th>2020-01-05</th>\n",
              "      <td>0.491588</td>\n",
              "      <td>-2.103403</td>\n",
              "      <td>0.759479</td>\n",
              "      <td>-1.480084</td>\n",
              "    </tr>\n",
              "    <tr>\n",
              "      <th>2020-01-06</th>\n",
              "      <td>0.451771</td>\n",
              "      <td>-0.275884</td>\n",
              "      <td>3.164966</td>\n",
              "      <td>0.460151</td>\n",
              "    </tr>\n",
              "  </tbody>\n",
              "</table>\n",
              "</div>"
            ],
            "text/plain": [
              "                   A         B         C         D\n",
              "2020-01-01  0.985463  2.364535  0.986302 -1.883043\n",
              "2020-01-02  0.873004  0.137808  0.990764 -1.023394\n",
              "2020-01-03  1.999931  1.602989 -0.997345 -0.606740\n",
              "2020-01-04 -0.736284 -1.436716  1.811139  0.767786\n",
              "2020-01-05  0.491588 -2.103403  0.759479 -1.480084\n",
              "2020-01-06  0.451771 -0.275884  3.164966  0.460151"
            ]
          },
          "metadata": {
            "tags": []
          },
          "execution_count": 23
        }
      ]
    },
    {
      "cell_type": "code",
      "metadata": {
        "colab": {
          "base_uri": "https://localhost:8080/",
          "height": 235
        },
        "id": "Msl0z1YvPa5e",
        "outputId": "5a7ac259-b676-45f2-f0de-5d3ff00f2640"
      },
      "source": [
        "df.sort_values(by='C') # 依據C來做升序排列"
      ],
      "execution_count": 24,
      "outputs": [
        {
          "output_type": "execute_result",
          "data": {
            "text/html": [
              "<div>\n",
              "<style scoped>\n",
              "    .dataframe tbody tr th:only-of-type {\n",
              "        vertical-align: middle;\n",
              "    }\n",
              "\n",
              "    .dataframe tbody tr th {\n",
              "        vertical-align: top;\n",
              "    }\n",
              "\n",
              "    .dataframe thead th {\n",
              "        text-align: right;\n",
              "    }\n",
              "</style>\n",
              "<table border=\"1\" class=\"dataframe\">\n",
              "  <thead>\n",
              "    <tr style=\"text-align: right;\">\n",
              "      <th></th>\n",
              "      <th>A</th>\n",
              "      <th>B</th>\n",
              "      <th>C</th>\n",
              "      <th>D</th>\n",
              "    </tr>\n",
              "  </thead>\n",
              "  <tbody>\n",
              "    <tr>\n",
              "      <th>2020-01-03</th>\n",
              "      <td>1.999931</td>\n",
              "      <td>1.602989</td>\n",
              "      <td>-0.997345</td>\n",
              "      <td>-0.606740</td>\n",
              "    </tr>\n",
              "    <tr>\n",
              "      <th>2020-01-05</th>\n",
              "      <td>0.491588</td>\n",
              "      <td>-2.103403</td>\n",
              "      <td>0.759479</td>\n",
              "      <td>-1.480084</td>\n",
              "    </tr>\n",
              "    <tr>\n",
              "      <th>2020-01-01</th>\n",
              "      <td>0.985463</td>\n",
              "      <td>2.364535</td>\n",
              "      <td>0.986302</td>\n",
              "      <td>-1.883043</td>\n",
              "    </tr>\n",
              "    <tr>\n",
              "      <th>2020-01-02</th>\n",
              "      <td>0.873004</td>\n",
              "      <td>0.137808</td>\n",
              "      <td>0.990764</td>\n",
              "      <td>-1.023394</td>\n",
              "    </tr>\n",
              "    <tr>\n",
              "      <th>2020-01-04</th>\n",
              "      <td>-0.736284</td>\n",
              "      <td>-1.436716</td>\n",
              "      <td>1.811139</td>\n",
              "      <td>0.767786</td>\n",
              "    </tr>\n",
              "    <tr>\n",
              "      <th>2020-01-06</th>\n",
              "      <td>0.451771</td>\n",
              "      <td>-0.275884</td>\n",
              "      <td>3.164966</td>\n",
              "      <td>0.460151</td>\n",
              "    </tr>\n",
              "  </tbody>\n",
              "</table>\n",
              "</div>"
            ],
            "text/plain": [
              "                   A         B         C         D\n",
              "2020-01-03  1.999931  1.602989 -0.997345 -0.606740\n",
              "2020-01-05  0.491588 -2.103403  0.759479 -1.480084\n",
              "2020-01-01  0.985463  2.364535  0.986302 -1.883043\n",
              "2020-01-02  0.873004  0.137808  0.990764 -1.023394\n",
              "2020-01-04 -0.736284 -1.436716  1.811139  0.767786\n",
              "2020-01-06  0.451771 -0.275884  3.164966  0.460151"
            ]
          },
          "metadata": {
            "tags": []
          },
          "execution_count": 24
        }
      ]
    },
    {
      "cell_type": "markdown",
      "metadata": {
        "id": "Zn7F_WBZYDOh"
      },
      "source": [
        "## **篩選資料**"
      ]
    },
    {
      "cell_type": "code",
      "metadata": {
        "colab": {
          "base_uri": "https://localhost:8080/"
        },
        "id": "fQtpzurGPrRS",
        "outputId": "4cefb1d9-e266-45a3-d60c-d32ab81ab887"
      },
      "source": [
        "df['B'] # 篩選B欄位的值"
      ],
      "execution_count": 25,
      "outputs": [
        {
          "output_type": "execute_result",
          "data": {
            "text/plain": [
              "2020-01-01    2.364535\n",
              "2020-01-02    0.137808\n",
              "2020-01-03    1.602989\n",
              "2020-01-04   -1.436716\n",
              "2020-01-05   -2.103403\n",
              "2020-01-06   -0.275884\n",
              "Freq: D, Name: B, dtype: float64"
            ]
          },
          "metadata": {
            "tags": []
          },
          "execution_count": 25
        }
      ]
    },
    {
      "cell_type": "code",
      "metadata": {
        "colab": {
          "base_uri": "https://localhost:8080/"
        },
        "id": "BnwMoGd6Q1bK",
        "outputId": "11a684ff-3c8a-410b-bcc8-a9fbe9502a58"
      },
      "source": [
        "df['B'][:3]"
      ],
      "execution_count": 26,
      "outputs": [
        {
          "output_type": "execute_result",
          "data": {
            "text/plain": [
              "2020-01-01    2.364535\n",
              "2020-01-02    0.137808\n",
              "2020-01-03    1.602989\n",
              "Freq: D, Name: B, dtype: float64"
            ]
          },
          "metadata": {
            "tags": []
          },
          "execution_count": 26
        }
      ]
    },
    {
      "cell_type": "code",
      "metadata": {
        "colab": {
          "base_uri": "https://localhost:8080/",
          "height": 173
        },
        "id": "JVNcAvtkRZjX",
        "outputId": "63af9486-e309-4b4c-a7b3-5fa63c1f2407"
      },
      "source": [
        "df['20200101':'20200104']"
      ],
      "execution_count": 27,
      "outputs": [
        {
          "output_type": "execute_result",
          "data": {
            "text/html": [
              "<div>\n",
              "<style scoped>\n",
              "    .dataframe tbody tr th:only-of-type {\n",
              "        vertical-align: middle;\n",
              "    }\n",
              "\n",
              "    .dataframe tbody tr th {\n",
              "        vertical-align: top;\n",
              "    }\n",
              "\n",
              "    .dataframe thead th {\n",
              "        text-align: right;\n",
              "    }\n",
              "</style>\n",
              "<table border=\"1\" class=\"dataframe\">\n",
              "  <thead>\n",
              "    <tr style=\"text-align: right;\">\n",
              "      <th></th>\n",
              "      <th>A</th>\n",
              "      <th>B</th>\n",
              "      <th>C</th>\n",
              "      <th>D</th>\n",
              "    </tr>\n",
              "  </thead>\n",
              "  <tbody>\n",
              "    <tr>\n",
              "      <th>2020-01-01</th>\n",
              "      <td>0.985463</td>\n",
              "      <td>2.364535</td>\n",
              "      <td>0.986302</td>\n",
              "      <td>-1.883043</td>\n",
              "    </tr>\n",
              "    <tr>\n",
              "      <th>2020-01-02</th>\n",
              "      <td>0.873004</td>\n",
              "      <td>0.137808</td>\n",
              "      <td>0.990764</td>\n",
              "      <td>-1.023394</td>\n",
              "    </tr>\n",
              "    <tr>\n",
              "      <th>2020-01-03</th>\n",
              "      <td>1.999931</td>\n",
              "      <td>1.602989</td>\n",
              "      <td>-0.997345</td>\n",
              "      <td>-0.606740</td>\n",
              "    </tr>\n",
              "    <tr>\n",
              "      <th>2020-01-04</th>\n",
              "      <td>-0.736284</td>\n",
              "      <td>-1.436716</td>\n",
              "      <td>1.811139</td>\n",
              "      <td>0.767786</td>\n",
              "    </tr>\n",
              "  </tbody>\n",
              "</table>\n",
              "</div>"
            ],
            "text/plain": [
              "                   A         B         C         D\n",
              "2020-01-01  0.985463  2.364535  0.986302 -1.883043\n",
              "2020-01-02  0.873004  0.137808  0.990764 -1.023394\n",
              "2020-01-03  1.999931  1.602989 -0.997345 -0.606740\n",
              "2020-01-04 -0.736284 -1.436716  1.811139  0.767786"
            ]
          },
          "metadata": {
            "tags": []
          },
          "execution_count": 27
        }
      ]
    },
    {
      "cell_type": "code",
      "metadata": {
        "colab": {
          "base_uri": "https://localhost:8080/"
        },
        "id": "aXEUYjFSR6WN",
        "outputId": "161b6e0d-a33c-4e3a-d85f-70cf242664b0"
      },
      "source": [
        "df.loc[dates[1]]"
      ],
      "execution_count": 30,
      "outputs": [
        {
          "output_type": "execute_result",
          "data": {
            "text/plain": [
              "A    0.873004\n",
              "B    0.137808\n",
              "C    0.990764\n",
              "D   -1.023394\n",
              "Name: 2020-01-02 00:00:00, dtype: float64"
            ]
          },
          "metadata": {
            "tags": []
          },
          "execution_count": 30
        }
      ]
    },
    {
      "cell_type": "code",
      "metadata": {
        "colab": {
          "base_uri": "https://localhost:8080/",
          "height": 111
        },
        "id": "TPE2Y14BUIMi",
        "outputId": "38e1c387-761f-4d2a-d68d-4fb7e084a239"
      },
      "source": [
        "df.loc['20200105':,['C','B']] # 查詢特定索引與特定欄位值"
      ],
      "execution_count": 32,
      "outputs": [
        {
          "output_type": "execute_result",
          "data": {
            "text/html": [
              "<div>\n",
              "<style scoped>\n",
              "    .dataframe tbody tr th:only-of-type {\n",
              "        vertical-align: middle;\n",
              "    }\n",
              "\n",
              "    .dataframe tbody tr th {\n",
              "        vertical-align: top;\n",
              "    }\n",
              "\n",
              "    .dataframe thead th {\n",
              "        text-align: right;\n",
              "    }\n",
              "</style>\n",
              "<table border=\"1\" class=\"dataframe\">\n",
              "  <thead>\n",
              "    <tr style=\"text-align: right;\">\n",
              "      <th></th>\n",
              "      <th>C</th>\n",
              "      <th>B</th>\n",
              "    </tr>\n",
              "  </thead>\n",
              "  <tbody>\n",
              "    <tr>\n",
              "      <th>2020-01-05</th>\n",
              "      <td>0.759479</td>\n",
              "      <td>-2.103403</td>\n",
              "    </tr>\n",
              "    <tr>\n",
              "      <th>2020-01-06</th>\n",
              "      <td>3.164966</td>\n",
              "      <td>-0.275884</td>\n",
              "    </tr>\n",
              "  </tbody>\n",
              "</table>\n",
              "</div>"
            ],
            "text/plain": [
              "                   C         B\n",
              "2020-01-05  0.759479 -2.103403\n",
              "2020-01-06  3.164966 -0.275884"
            ]
          },
          "metadata": {
            "tags": []
          },
          "execution_count": 32
        }
      ]
    },
    {
      "cell_type": "code",
      "metadata": {
        "colab": {
          "base_uri": "https://localhost:8080/",
          "height": 204
        },
        "id": "Xid5RF1mURDa",
        "outputId": "7ff6cd88-0cfc-4139-bf35-7abb97ea97dd"
      },
      "source": [
        "df.loc[dates[1]:,['B','C']]"
      ],
      "execution_count": 33,
      "outputs": [
        {
          "output_type": "execute_result",
          "data": {
            "text/html": [
              "<div>\n",
              "<style scoped>\n",
              "    .dataframe tbody tr th:only-of-type {\n",
              "        vertical-align: middle;\n",
              "    }\n",
              "\n",
              "    .dataframe tbody tr th {\n",
              "        vertical-align: top;\n",
              "    }\n",
              "\n",
              "    .dataframe thead th {\n",
              "        text-align: right;\n",
              "    }\n",
              "</style>\n",
              "<table border=\"1\" class=\"dataframe\">\n",
              "  <thead>\n",
              "    <tr style=\"text-align: right;\">\n",
              "      <th></th>\n",
              "      <th>B</th>\n",
              "      <th>C</th>\n",
              "    </tr>\n",
              "  </thead>\n",
              "  <tbody>\n",
              "    <tr>\n",
              "      <th>2020-01-02</th>\n",
              "      <td>0.137808</td>\n",
              "      <td>0.990764</td>\n",
              "    </tr>\n",
              "    <tr>\n",
              "      <th>2020-01-03</th>\n",
              "      <td>1.602989</td>\n",
              "      <td>-0.997345</td>\n",
              "    </tr>\n",
              "    <tr>\n",
              "      <th>2020-01-04</th>\n",
              "      <td>-1.436716</td>\n",
              "      <td>1.811139</td>\n",
              "    </tr>\n",
              "    <tr>\n",
              "      <th>2020-01-05</th>\n",
              "      <td>-2.103403</td>\n",
              "      <td>0.759479</td>\n",
              "    </tr>\n",
              "    <tr>\n",
              "      <th>2020-01-06</th>\n",
              "      <td>-0.275884</td>\n",
              "      <td>3.164966</td>\n",
              "    </tr>\n",
              "  </tbody>\n",
              "</table>\n",
              "</div>"
            ],
            "text/plain": [
              "                   B         C\n",
              "2020-01-02  0.137808  0.990764\n",
              "2020-01-03  1.602989 -0.997345\n",
              "2020-01-04 -1.436716  1.811139\n",
              "2020-01-05 -2.103403  0.759479\n",
              "2020-01-06 -0.275884  3.164966"
            ]
          },
          "metadata": {
            "tags": []
          },
          "execution_count": 33
        }
      ]
    },
    {
      "cell_type": "code",
      "metadata": {
        "colab": {
          "base_uri": "https://localhost:8080/"
        },
        "id": "0g5Y9vIKWMtr",
        "outputId": "5373f85a-db26-4d62-8d64-b1e0ba6e3c3f"
      },
      "source": [
        "df.at[dates[2],'D']"
      ],
      "execution_count": 36,
      "outputs": [
        {
          "output_type": "execute_result",
          "data": {
            "text/plain": [
              "-0.6067404916153408"
            ]
          },
          "metadata": {
            "tags": []
          },
          "execution_count": 36
        }
      ]
    },
    {
      "cell_type": "code",
      "metadata": {
        "colab": {
          "base_uri": "https://localhost:8080/"
        },
        "id": "HHq8ZqzXWWNd",
        "outputId": "e2908e5c-0ead-41c6-8528-867779a9e24f"
      },
      "source": [
        "df.iloc[3] # 第四筆資料"
      ],
      "execution_count": 37,
      "outputs": [
        {
          "output_type": "execute_result",
          "data": {
            "text/plain": [
              "A   -0.736284\n",
              "B   -1.436716\n",
              "C    1.811139\n",
              "D    0.767786\n",
              "Name: 2020-01-04 00:00:00, dtype: float64"
            ]
          },
          "metadata": {
            "tags": []
          },
          "execution_count": 37
        }
      ]
    },
    {
      "cell_type": "code",
      "metadata": {
        "colab": {
          "base_uri": "https://localhost:8080/",
          "height": 111
        },
        "id": "AD9t6-HQWtjY",
        "outputId": "f5c5df56-8d1a-4797-b580-b982ab795897"
      },
      "source": [
        "df.iloc[0:2,:] # 冒號: 顯示全部資料"
      ],
      "execution_count": 39,
      "outputs": [
        {
          "output_type": "execute_result",
          "data": {
            "text/html": [
              "<div>\n",
              "<style scoped>\n",
              "    .dataframe tbody tr th:only-of-type {\n",
              "        vertical-align: middle;\n",
              "    }\n",
              "\n",
              "    .dataframe tbody tr th {\n",
              "        vertical-align: top;\n",
              "    }\n",
              "\n",
              "    .dataframe thead th {\n",
              "        text-align: right;\n",
              "    }\n",
              "</style>\n",
              "<table border=\"1\" class=\"dataframe\">\n",
              "  <thead>\n",
              "    <tr style=\"text-align: right;\">\n",
              "      <th></th>\n",
              "      <th>A</th>\n",
              "      <th>B</th>\n",
              "      <th>C</th>\n",
              "      <th>D</th>\n",
              "    </tr>\n",
              "  </thead>\n",
              "  <tbody>\n",
              "    <tr>\n",
              "      <th>2020-01-01</th>\n",
              "      <td>0.985463</td>\n",
              "      <td>2.364535</td>\n",
              "      <td>0.986302</td>\n",
              "      <td>-1.883043</td>\n",
              "    </tr>\n",
              "    <tr>\n",
              "      <th>2020-01-02</th>\n",
              "      <td>0.873004</td>\n",
              "      <td>0.137808</td>\n",
              "      <td>0.990764</td>\n",
              "      <td>-1.023394</td>\n",
              "    </tr>\n",
              "  </tbody>\n",
              "</table>\n",
              "</div>"
            ],
            "text/plain": [
              "                   A         B         C         D\n",
              "2020-01-01  0.985463  2.364535  0.986302 -1.883043\n",
              "2020-01-02  0.873004  0.137808  0.990764 -1.023394"
            ]
          },
          "metadata": {
            "tags": []
          },
          "execution_count": 39
        }
      ]
    },
    {
      "cell_type": "code",
      "metadata": {
        "colab": {
          "base_uri": "https://localhost:8080/"
        },
        "id": "LDskwDPGXaz3",
        "outputId": "ab4959de-f1d4-44df-f4ca-5a4576626a7b"
      },
      "source": [
        "df.iloc[1,2] # 搜尋特定資料\n",
        "df.iat[1,2]"
      ],
      "execution_count": 41,
      "outputs": [
        {
          "output_type": "execute_result",
          "data": {
            "text/plain": [
              "0.9907639714754223"
            ]
          },
          "metadata": {
            "tags": []
          },
          "execution_count": 41
        }
      ]
    },
    {
      "cell_type": "markdown",
      "metadata": {
        "id": "3Ka22Di9ZnlE"
      },
      "source": [
        "# **布林索引**"
      ]
    },
    {
      "cell_type": "code",
      "metadata": {
        "colab": {
          "base_uri": "https://localhost:8080/",
          "height": 204
        },
        "id": "57a3yLHiZrH6",
        "outputId": "79e6274b-945c-4acc-ad0e-a067c0fbe1f7"
      },
      "source": [
        "df[df['A']>0] # 篩選A欄位中值大於0的所有資料"
      ],
      "execution_count": 42,
      "outputs": [
        {
          "output_type": "execute_result",
          "data": {
            "text/html": [
              "<div>\n",
              "<style scoped>\n",
              "    .dataframe tbody tr th:only-of-type {\n",
              "        vertical-align: middle;\n",
              "    }\n",
              "\n",
              "    .dataframe tbody tr th {\n",
              "        vertical-align: top;\n",
              "    }\n",
              "\n",
              "    .dataframe thead th {\n",
              "        text-align: right;\n",
              "    }\n",
              "</style>\n",
              "<table border=\"1\" class=\"dataframe\">\n",
              "  <thead>\n",
              "    <tr style=\"text-align: right;\">\n",
              "      <th></th>\n",
              "      <th>A</th>\n",
              "      <th>B</th>\n",
              "      <th>C</th>\n",
              "      <th>D</th>\n",
              "    </tr>\n",
              "  </thead>\n",
              "  <tbody>\n",
              "    <tr>\n",
              "      <th>2020-01-01</th>\n",
              "      <td>0.985463</td>\n",
              "      <td>2.364535</td>\n",
              "      <td>0.986302</td>\n",
              "      <td>-1.883043</td>\n",
              "    </tr>\n",
              "    <tr>\n",
              "      <th>2020-01-02</th>\n",
              "      <td>0.873004</td>\n",
              "      <td>0.137808</td>\n",
              "      <td>0.990764</td>\n",
              "      <td>-1.023394</td>\n",
              "    </tr>\n",
              "    <tr>\n",
              "      <th>2020-01-03</th>\n",
              "      <td>1.999931</td>\n",
              "      <td>1.602989</td>\n",
              "      <td>-0.997345</td>\n",
              "      <td>-0.606740</td>\n",
              "    </tr>\n",
              "    <tr>\n",
              "      <th>2020-01-05</th>\n",
              "      <td>0.491588</td>\n",
              "      <td>-2.103403</td>\n",
              "      <td>0.759479</td>\n",
              "      <td>-1.480084</td>\n",
              "    </tr>\n",
              "    <tr>\n",
              "      <th>2020-01-06</th>\n",
              "      <td>0.451771</td>\n",
              "      <td>-0.275884</td>\n",
              "      <td>3.164966</td>\n",
              "      <td>0.460151</td>\n",
              "    </tr>\n",
              "  </tbody>\n",
              "</table>\n",
              "</div>"
            ],
            "text/plain": [
              "                   A         B         C         D\n",
              "2020-01-01  0.985463  2.364535  0.986302 -1.883043\n",
              "2020-01-02  0.873004  0.137808  0.990764 -1.023394\n",
              "2020-01-03  1.999931  1.602989 -0.997345 -0.606740\n",
              "2020-01-05  0.491588 -2.103403  0.759479 -1.480084\n",
              "2020-01-06  0.451771 -0.275884  3.164966  0.460151"
            ]
          },
          "metadata": {
            "tags": []
          },
          "execution_count": 42
        }
      ]
    },
    {
      "cell_type": "code",
      "metadata": {
        "colab": {
          "base_uri": "https://localhost:8080/",
          "height": 235
        },
        "id": "jaQcLcbPaEwS",
        "outputId": "e2567808-a972-41c6-c56a-694a6029ff46"
      },
      "source": [
        "df[df>0] # 顯示值大於0的所有資料"
      ],
      "execution_count": 43,
      "outputs": [
        {
          "output_type": "execute_result",
          "data": {
            "text/html": [
              "<div>\n",
              "<style scoped>\n",
              "    .dataframe tbody tr th:only-of-type {\n",
              "        vertical-align: middle;\n",
              "    }\n",
              "\n",
              "    .dataframe tbody tr th {\n",
              "        vertical-align: top;\n",
              "    }\n",
              "\n",
              "    .dataframe thead th {\n",
              "        text-align: right;\n",
              "    }\n",
              "</style>\n",
              "<table border=\"1\" class=\"dataframe\">\n",
              "  <thead>\n",
              "    <tr style=\"text-align: right;\">\n",
              "      <th></th>\n",
              "      <th>A</th>\n",
              "      <th>B</th>\n",
              "      <th>C</th>\n",
              "      <th>D</th>\n",
              "    </tr>\n",
              "  </thead>\n",
              "  <tbody>\n",
              "    <tr>\n",
              "      <th>2020-01-01</th>\n",
              "      <td>0.985463</td>\n",
              "      <td>2.364535</td>\n",
              "      <td>0.986302</td>\n",
              "      <td>NaN</td>\n",
              "    </tr>\n",
              "    <tr>\n",
              "      <th>2020-01-02</th>\n",
              "      <td>0.873004</td>\n",
              "      <td>0.137808</td>\n",
              "      <td>0.990764</td>\n",
              "      <td>NaN</td>\n",
              "    </tr>\n",
              "    <tr>\n",
              "      <th>2020-01-03</th>\n",
              "      <td>1.999931</td>\n",
              "      <td>1.602989</td>\n",
              "      <td>NaN</td>\n",
              "      <td>NaN</td>\n",
              "    </tr>\n",
              "    <tr>\n",
              "      <th>2020-01-04</th>\n",
              "      <td>NaN</td>\n",
              "      <td>NaN</td>\n",
              "      <td>1.811139</td>\n",
              "      <td>0.767786</td>\n",
              "    </tr>\n",
              "    <tr>\n",
              "      <th>2020-01-05</th>\n",
              "      <td>0.491588</td>\n",
              "      <td>NaN</td>\n",
              "      <td>0.759479</td>\n",
              "      <td>NaN</td>\n",
              "    </tr>\n",
              "    <tr>\n",
              "      <th>2020-01-06</th>\n",
              "      <td>0.451771</td>\n",
              "      <td>NaN</td>\n",
              "      <td>3.164966</td>\n",
              "      <td>0.460151</td>\n",
              "    </tr>\n",
              "  </tbody>\n",
              "</table>\n",
              "</div>"
            ],
            "text/plain": [
              "                   A         B         C         D\n",
              "2020-01-01  0.985463  2.364535  0.986302       NaN\n",
              "2020-01-02  0.873004  0.137808  0.990764       NaN\n",
              "2020-01-03  1.999931  1.602989       NaN       NaN\n",
              "2020-01-04       NaN       NaN  1.811139  0.767786\n",
              "2020-01-05  0.491588       NaN  0.759479       NaN\n",
              "2020-01-06  0.451771       NaN  3.164966  0.460151"
            ]
          },
          "metadata": {
            "tags": []
          },
          "execution_count": 43
        }
      ]
    },
    {
      "cell_type": "code",
      "metadata": {
        "colab": {
          "base_uri": "https://localhost:8080/",
          "height": 235
        },
        "id": "_Nn2bcMfaTii",
        "outputId": "73defb90-6c7e-4489-f5cc-9539c6272191"
      },
      "source": [
        "df2 = df.copy()\n",
        "df2['E'] = [\"one\", \"one\", \"two\", \"three\", \"four\", \"three\"]\n",
        "df2"
      ],
      "execution_count": 46,
      "outputs": [
        {
          "output_type": "execute_result",
          "data": {
            "text/html": [
              "<div>\n",
              "<style scoped>\n",
              "    .dataframe tbody tr th:only-of-type {\n",
              "        vertical-align: middle;\n",
              "    }\n",
              "\n",
              "    .dataframe tbody tr th {\n",
              "        vertical-align: top;\n",
              "    }\n",
              "\n",
              "    .dataframe thead th {\n",
              "        text-align: right;\n",
              "    }\n",
              "</style>\n",
              "<table border=\"1\" class=\"dataframe\">\n",
              "  <thead>\n",
              "    <tr style=\"text-align: right;\">\n",
              "      <th></th>\n",
              "      <th>A</th>\n",
              "      <th>B</th>\n",
              "      <th>C</th>\n",
              "      <th>D</th>\n",
              "      <th>E</th>\n",
              "    </tr>\n",
              "  </thead>\n",
              "  <tbody>\n",
              "    <tr>\n",
              "      <th>2020-01-01</th>\n",
              "      <td>0.985463</td>\n",
              "      <td>2.364535</td>\n",
              "      <td>0.986302</td>\n",
              "      <td>-1.883043</td>\n",
              "      <td>one</td>\n",
              "    </tr>\n",
              "    <tr>\n",
              "      <th>2020-01-02</th>\n",
              "      <td>0.873004</td>\n",
              "      <td>0.137808</td>\n",
              "      <td>0.990764</td>\n",
              "      <td>-1.023394</td>\n",
              "      <td>one</td>\n",
              "    </tr>\n",
              "    <tr>\n",
              "      <th>2020-01-03</th>\n",
              "      <td>1.999931</td>\n",
              "      <td>1.602989</td>\n",
              "      <td>-0.997345</td>\n",
              "      <td>-0.606740</td>\n",
              "      <td>two</td>\n",
              "    </tr>\n",
              "    <tr>\n",
              "      <th>2020-01-04</th>\n",
              "      <td>-0.736284</td>\n",
              "      <td>-1.436716</td>\n",
              "      <td>1.811139</td>\n",
              "      <td>0.767786</td>\n",
              "      <td>three</td>\n",
              "    </tr>\n",
              "    <tr>\n",
              "      <th>2020-01-05</th>\n",
              "      <td>0.491588</td>\n",
              "      <td>-2.103403</td>\n",
              "      <td>0.759479</td>\n",
              "      <td>-1.480084</td>\n",
              "      <td>four</td>\n",
              "    </tr>\n",
              "    <tr>\n",
              "      <th>2020-01-06</th>\n",
              "      <td>0.451771</td>\n",
              "      <td>-0.275884</td>\n",
              "      <td>3.164966</td>\n",
              "      <td>0.460151</td>\n",
              "      <td>three</td>\n",
              "    </tr>\n",
              "  </tbody>\n",
              "</table>\n",
              "</div>"
            ],
            "text/plain": [
              "                   A         B         C         D      E\n",
              "2020-01-01  0.985463  2.364535  0.986302 -1.883043    one\n",
              "2020-01-02  0.873004  0.137808  0.990764 -1.023394    one\n",
              "2020-01-03  1.999931  1.602989 -0.997345 -0.606740    two\n",
              "2020-01-04 -0.736284 -1.436716  1.811139  0.767786  three\n",
              "2020-01-05  0.491588 -2.103403  0.759479 -1.480084   four\n",
              "2020-01-06  0.451771 -0.275884  3.164966  0.460151  three"
            ]
          },
          "metadata": {
            "tags": []
          },
          "execution_count": 46
        }
      ]
    },
    {
      "cell_type": "code",
      "metadata": {
        "colab": {
          "base_uri": "https://localhost:8080/",
          "height": 142
        },
        "id": "zqYCgrT2aifK",
        "outputId": "99223063-a9c3-4bc5-e520-d16b5cac6f5d"
      },
      "source": [
        "df2[df2['E'].isin(['three','four'])] # isin() 是否存在"
      ],
      "execution_count": 47,
      "outputs": [
        {
          "output_type": "execute_result",
          "data": {
            "text/html": [
              "<div>\n",
              "<style scoped>\n",
              "    .dataframe tbody tr th:only-of-type {\n",
              "        vertical-align: middle;\n",
              "    }\n",
              "\n",
              "    .dataframe tbody tr th {\n",
              "        vertical-align: top;\n",
              "    }\n",
              "\n",
              "    .dataframe thead th {\n",
              "        text-align: right;\n",
              "    }\n",
              "</style>\n",
              "<table border=\"1\" class=\"dataframe\">\n",
              "  <thead>\n",
              "    <tr style=\"text-align: right;\">\n",
              "      <th></th>\n",
              "      <th>A</th>\n",
              "      <th>B</th>\n",
              "      <th>C</th>\n",
              "      <th>D</th>\n",
              "      <th>E</th>\n",
              "    </tr>\n",
              "  </thead>\n",
              "  <tbody>\n",
              "    <tr>\n",
              "      <th>2020-01-04</th>\n",
              "      <td>-0.736284</td>\n",
              "      <td>-1.436716</td>\n",
              "      <td>1.811139</td>\n",
              "      <td>0.767786</td>\n",
              "      <td>three</td>\n",
              "    </tr>\n",
              "    <tr>\n",
              "      <th>2020-01-05</th>\n",
              "      <td>0.491588</td>\n",
              "      <td>-2.103403</td>\n",
              "      <td>0.759479</td>\n",
              "      <td>-1.480084</td>\n",
              "      <td>four</td>\n",
              "    </tr>\n",
              "    <tr>\n",
              "      <th>2020-01-06</th>\n",
              "      <td>0.451771</td>\n",
              "      <td>-0.275884</td>\n",
              "      <td>3.164966</td>\n",
              "      <td>0.460151</td>\n",
              "      <td>three</td>\n",
              "    </tr>\n",
              "  </tbody>\n",
              "</table>\n",
              "</div>"
            ],
            "text/plain": [
              "                   A         B         C         D      E\n",
              "2020-01-04 -0.736284 -1.436716  1.811139  0.767786  three\n",
              "2020-01-05  0.491588 -2.103403  0.759479 -1.480084   four\n",
              "2020-01-06  0.451771 -0.275884  3.164966  0.460151  three"
            ]
          },
          "metadata": {
            "tags": []
          },
          "execution_count": 47
        }
      ]
    },
    {
      "cell_type": "code",
      "metadata": {
        "colab": {
          "base_uri": "https://localhost:8080/"
        },
        "id": "650_w5esazQ2",
        "outputId": "a2cdc012-aa0a-4f79-ea20-cf07669a40e5"
      },
      "source": [
        "s1 = pd.Series([1,2,3,4,5,6],index=pd.date_range('20200102',periods=6))\n",
        "s1"
      ],
      "execution_count": 50,
      "outputs": [
        {
          "output_type": "execute_result",
          "data": {
            "text/plain": [
              "2020-01-02    1\n",
              "2020-01-03    2\n",
              "2020-01-04    3\n",
              "2020-01-05    4\n",
              "2020-01-06    5\n",
              "2020-01-07    6\n",
              "Freq: D, dtype: int64"
            ]
          },
          "metadata": {
            "tags": []
          },
          "execution_count": 50
        }
      ]
    },
    {
      "cell_type": "code",
      "metadata": {
        "colab": {
          "base_uri": "https://localhost:8080/",
          "height": 235
        },
        "id": "VOOc7towdmVg",
        "outputId": "0e7f4c25-427b-43a0-9d28-370f6cee51fe"
      },
      "source": [
        "df['F'] = s1\n",
        "df"
      ],
      "execution_count": 52,
      "outputs": [
        {
          "output_type": "execute_result",
          "data": {
            "text/html": [
              "<div>\n",
              "<style scoped>\n",
              "    .dataframe tbody tr th:only-of-type {\n",
              "        vertical-align: middle;\n",
              "    }\n",
              "\n",
              "    .dataframe tbody tr th {\n",
              "        vertical-align: top;\n",
              "    }\n",
              "\n",
              "    .dataframe thead th {\n",
              "        text-align: right;\n",
              "    }\n",
              "</style>\n",
              "<table border=\"1\" class=\"dataframe\">\n",
              "  <thead>\n",
              "    <tr style=\"text-align: right;\">\n",
              "      <th></th>\n",
              "      <th>A</th>\n",
              "      <th>B</th>\n",
              "      <th>C</th>\n",
              "      <th>D</th>\n",
              "      <th>F</th>\n",
              "    </tr>\n",
              "  </thead>\n",
              "  <tbody>\n",
              "    <tr>\n",
              "      <th>2020-01-01</th>\n",
              "      <td>0.985463</td>\n",
              "      <td>2.364535</td>\n",
              "      <td>0.986302</td>\n",
              "      <td>-1.883043</td>\n",
              "      <td>NaN</td>\n",
              "    </tr>\n",
              "    <tr>\n",
              "      <th>2020-01-02</th>\n",
              "      <td>0.873004</td>\n",
              "      <td>0.137808</td>\n",
              "      <td>0.990764</td>\n",
              "      <td>-1.023394</td>\n",
              "      <td>1.0</td>\n",
              "    </tr>\n",
              "    <tr>\n",
              "      <th>2020-01-03</th>\n",
              "      <td>1.999931</td>\n",
              "      <td>1.602989</td>\n",
              "      <td>-0.997345</td>\n",
              "      <td>-0.606740</td>\n",
              "      <td>2.0</td>\n",
              "    </tr>\n",
              "    <tr>\n",
              "      <th>2020-01-04</th>\n",
              "      <td>-0.736284</td>\n",
              "      <td>-1.436716</td>\n",
              "      <td>1.811139</td>\n",
              "      <td>0.767786</td>\n",
              "      <td>3.0</td>\n",
              "    </tr>\n",
              "    <tr>\n",
              "      <th>2020-01-05</th>\n",
              "      <td>0.491588</td>\n",
              "      <td>-2.103403</td>\n",
              "      <td>0.759479</td>\n",
              "      <td>-1.480084</td>\n",
              "      <td>4.0</td>\n",
              "    </tr>\n",
              "    <tr>\n",
              "      <th>2020-01-06</th>\n",
              "      <td>0.451771</td>\n",
              "      <td>-0.275884</td>\n",
              "      <td>3.164966</td>\n",
              "      <td>0.460151</td>\n",
              "      <td>5.0</td>\n",
              "    </tr>\n",
              "  </tbody>\n",
              "</table>\n",
              "</div>"
            ],
            "text/plain": [
              "                   A         B         C         D    F\n",
              "2020-01-01  0.985463  2.364535  0.986302 -1.883043  NaN\n",
              "2020-01-02  0.873004  0.137808  0.990764 -1.023394  1.0\n",
              "2020-01-03  1.999931  1.602989 -0.997345 -0.606740  2.0\n",
              "2020-01-04 -0.736284 -1.436716  1.811139  0.767786  3.0\n",
              "2020-01-05  0.491588 -2.103403  0.759479 -1.480084  4.0\n",
              "2020-01-06  0.451771 -0.275884  3.164966  0.460151  5.0"
            ]
          },
          "metadata": {
            "tags": []
          },
          "execution_count": 52
        }
      ]
    },
    {
      "cell_type": "code",
      "metadata": {
        "colab": {
          "base_uri": "https://localhost:8080/",
          "height": 173
        },
        "id": "O7mE0gJWd12Z",
        "outputId": "2326bde5-a902-48d2-b25f-3fdd641310d3"
      },
      "source": [
        "df1 = df.reindex(index=dates[0:4], columns=list(df.columns) + [\"E\"])\n",
        "df1.loc[dates[0] : dates[1], \"E\"] = 1\n",
        "df1"
      ],
      "execution_count": 53,
      "outputs": [
        {
          "output_type": "execute_result",
          "data": {
            "text/html": [
              "<div>\n",
              "<style scoped>\n",
              "    .dataframe tbody tr th:only-of-type {\n",
              "        vertical-align: middle;\n",
              "    }\n",
              "\n",
              "    .dataframe tbody tr th {\n",
              "        vertical-align: top;\n",
              "    }\n",
              "\n",
              "    .dataframe thead th {\n",
              "        text-align: right;\n",
              "    }\n",
              "</style>\n",
              "<table border=\"1\" class=\"dataframe\">\n",
              "  <thead>\n",
              "    <tr style=\"text-align: right;\">\n",
              "      <th></th>\n",
              "      <th>A</th>\n",
              "      <th>B</th>\n",
              "      <th>C</th>\n",
              "      <th>D</th>\n",
              "      <th>F</th>\n",
              "      <th>E</th>\n",
              "    </tr>\n",
              "  </thead>\n",
              "  <tbody>\n",
              "    <tr>\n",
              "      <th>2020-01-01</th>\n",
              "      <td>0.985463</td>\n",
              "      <td>2.364535</td>\n",
              "      <td>0.986302</td>\n",
              "      <td>-1.883043</td>\n",
              "      <td>NaN</td>\n",
              "      <td>1.0</td>\n",
              "    </tr>\n",
              "    <tr>\n",
              "      <th>2020-01-02</th>\n",
              "      <td>0.873004</td>\n",
              "      <td>0.137808</td>\n",
              "      <td>0.990764</td>\n",
              "      <td>-1.023394</td>\n",
              "      <td>1.0</td>\n",
              "      <td>1.0</td>\n",
              "    </tr>\n",
              "    <tr>\n",
              "      <th>2020-01-03</th>\n",
              "      <td>1.999931</td>\n",
              "      <td>1.602989</td>\n",
              "      <td>-0.997345</td>\n",
              "      <td>-0.606740</td>\n",
              "      <td>2.0</td>\n",
              "      <td>NaN</td>\n",
              "    </tr>\n",
              "    <tr>\n",
              "      <th>2020-01-04</th>\n",
              "      <td>-0.736284</td>\n",
              "      <td>-1.436716</td>\n",
              "      <td>1.811139</td>\n",
              "      <td>0.767786</td>\n",
              "      <td>3.0</td>\n",
              "      <td>NaN</td>\n",
              "    </tr>\n",
              "  </tbody>\n",
              "</table>\n",
              "</div>"
            ],
            "text/plain": [
              "                   A         B         C         D    F    E\n",
              "2020-01-01  0.985463  2.364535  0.986302 -1.883043  NaN  1.0\n",
              "2020-01-02  0.873004  0.137808  0.990764 -1.023394  1.0  1.0\n",
              "2020-01-03  1.999931  1.602989 -0.997345 -0.606740  2.0  NaN\n",
              "2020-01-04 -0.736284 -1.436716  1.811139  0.767786  3.0  NaN"
            ]
          },
          "metadata": {
            "tags": []
          },
          "execution_count": 53
        }
      ]
    },
    {
      "cell_type": "code",
      "metadata": {
        "colab": {
          "base_uri": "https://localhost:8080/",
          "height": 80
        },
        "id": "vG_fwnkpv3k6",
        "outputId": "f7282515-b87f-4db3-d70e-562c9ae6a829"
      },
      "source": [
        "df1.dropna(how=\"any\") # 刪除有空值的資料列"
      ],
      "execution_count": 54,
      "outputs": [
        {
          "output_type": "execute_result",
          "data": {
            "text/html": [
              "<div>\n",
              "<style scoped>\n",
              "    .dataframe tbody tr th:only-of-type {\n",
              "        vertical-align: middle;\n",
              "    }\n",
              "\n",
              "    .dataframe tbody tr th {\n",
              "        vertical-align: top;\n",
              "    }\n",
              "\n",
              "    .dataframe thead th {\n",
              "        text-align: right;\n",
              "    }\n",
              "</style>\n",
              "<table border=\"1\" class=\"dataframe\">\n",
              "  <thead>\n",
              "    <tr style=\"text-align: right;\">\n",
              "      <th></th>\n",
              "      <th>A</th>\n",
              "      <th>B</th>\n",
              "      <th>C</th>\n",
              "      <th>D</th>\n",
              "      <th>F</th>\n",
              "      <th>E</th>\n",
              "    </tr>\n",
              "  </thead>\n",
              "  <tbody>\n",
              "    <tr>\n",
              "      <th>2020-01-02</th>\n",
              "      <td>0.873004</td>\n",
              "      <td>0.137808</td>\n",
              "      <td>0.990764</td>\n",
              "      <td>-1.023394</td>\n",
              "      <td>1.0</td>\n",
              "      <td>1.0</td>\n",
              "    </tr>\n",
              "  </tbody>\n",
              "</table>\n",
              "</div>"
            ],
            "text/plain": [
              "                   A         B         C         D    F    E\n",
              "2020-01-02  0.873004  0.137808  0.990764 -1.023394  1.0  1.0"
            ]
          },
          "metadata": {
            "tags": []
          },
          "execution_count": 54
        }
      ]
    },
    {
      "cell_type": "code",
      "metadata": {
        "colab": {
          "base_uri": "https://localhost:8080/",
          "height": 173
        },
        "id": "duyKHHOhwDuX",
        "outputId": "088744fe-7b2d-4596-bf4f-5475b8c1457b"
      },
      "source": [
        "df1.fillna(value=3) # 填一個值取代空值"
      ],
      "execution_count": 55,
      "outputs": [
        {
          "output_type": "execute_result",
          "data": {
            "text/html": [
              "<div>\n",
              "<style scoped>\n",
              "    .dataframe tbody tr th:only-of-type {\n",
              "        vertical-align: middle;\n",
              "    }\n",
              "\n",
              "    .dataframe tbody tr th {\n",
              "        vertical-align: top;\n",
              "    }\n",
              "\n",
              "    .dataframe thead th {\n",
              "        text-align: right;\n",
              "    }\n",
              "</style>\n",
              "<table border=\"1\" class=\"dataframe\">\n",
              "  <thead>\n",
              "    <tr style=\"text-align: right;\">\n",
              "      <th></th>\n",
              "      <th>A</th>\n",
              "      <th>B</th>\n",
              "      <th>C</th>\n",
              "      <th>D</th>\n",
              "      <th>F</th>\n",
              "      <th>E</th>\n",
              "    </tr>\n",
              "  </thead>\n",
              "  <tbody>\n",
              "    <tr>\n",
              "      <th>2020-01-01</th>\n",
              "      <td>0.985463</td>\n",
              "      <td>2.364535</td>\n",
              "      <td>0.986302</td>\n",
              "      <td>-1.883043</td>\n",
              "      <td>3.0</td>\n",
              "      <td>1.0</td>\n",
              "    </tr>\n",
              "    <tr>\n",
              "      <th>2020-01-02</th>\n",
              "      <td>0.873004</td>\n",
              "      <td>0.137808</td>\n",
              "      <td>0.990764</td>\n",
              "      <td>-1.023394</td>\n",
              "      <td>1.0</td>\n",
              "      <td>1.0</td>\n",
              "    </tr>\n",
              "    <tr>\n",
              "      <th>2020-01-03</th>\n",
              "      <td>1.999931</td>\n",
              "      <td>1.602989</td>\n",
              "      <td>-0.997345</td>\n",
              "      <td>-0.606740</td>\n",
              "      <td>2.0</td>\n",
              "      <td>3.0</td>\n",
              "    </tr>\n",
              "    <tr>\n",
              "      <th>2020-01-04</th>\n",
              "      <td>-0.736284</td>\n",
              "      <td>-1.436716</td>\n",
              "      <td>1.811139</td>\n",
              "      <td>0.767786</td>\n",
              "      <td>3.0</td>\n",
              "      <td>3.0</td>\n",
              "    </tr>\n",
              "  </tbody>\n",
              "</table>\n",
              "</div>"
            ],
            "text/plain": [
              "                   A         B         C         D    F    E\n",
              "2020-01-01  0.985463  2.364535  0.986302 -1.883043  3.0  1.0\n",
              "2020-01-02  0.873004  0.137808  0.990764 -1.023394  1.0  1.0\n",
              "2020-01-03  1.999931  1.602989 -0.997345 -0.606740  2.0  3.0\n",
              "2020-01-04 -0.736284 -1.436716  1.811139  0.767786  3.0  3.0"
            ]
          },
          "metadata": {
            "tags": []
          },
          "execution_count": 55
        }
      ]
    },
    {
      "cell_type": "code",
      "metadata": {
        "colab": {
          "base_uri": "https://localhost:8080/",
          "height": 173
        },
        "id": "61IXPwgFv_yW",
        "outputId": "bb005f69-0a1b-4358-b987-84b3a0c120ae"
      },
      "source": [
        "pd.isna(df1) # 判斷是否為空值"
      ],
      "execution_count": 56,
      "outputs": [
        {
          "output_type": "execute_result",
          "data": {
            "text/html": [
              "<div>\n",
              "<style scoped>\n",
              "    .dataframe tbody tr th:only-of-type {\n",
              "        vertical-align: middle;\n",
              "    }\n",
              "\n",
              "    .dataframe tbody tr th {\n",
              "        vertical-align: top;\n",
              "    }\n",
              "\n",
              "    .dataframe thead th {\n",
              "        text-align: right;\n",
              "    }\n",
              "</style>\n",
              "<table border=\"1\" class=\"dataframe\">\n",
              "  <thead>\n",
              "    <tr style=\"text-align: right;\">\n",
              "      <th></th>\n",
              "      <th>A</th>\n",
              "      <th>B</th>\n",
              "      <th>C</th>\n",
              "      <th>D</th>\n",
              "      <th>F</th>\n",
              "      <th>E</th>\n",
              "    </tr>\n",
              "  </thead>\n",
              "  <tbody>\n",
              "    <tr>\n",
              "      <th>2020-01-01</th>\n",
              "      <td>False</td>\n",
              "      <td>False</td>\n",
              "      <td>False</td>\n",
              "      <td>False</td>\n",
              "      <td>True</td>\n",
              "      <td>False</td>\n",
              "    </tr>\n",
              "    <tr>\n",
              "      <th>2020-01-02</th>\n",
              "      <td>False</td>\n",
              "      <td>False</td>\n",
              "      <td>False</td>\n",
              "      <td>False</td>\n",
              "      <td>False</td>\n",
              "      <td>False</td>\n",
              "    </tr>\n",
              "    <tr>\n",
              "      <th>2020-01-03</th>\n",
              "      <td>False</td>\n",
              "      <td>False</td>\n",
              "      <td>False</td>\n",
              "      <td>False</td>\n",
              "      <td>False</td>\n",
              "      <td>True</td>\n",
              "    </tr>\n",
              "    <tr>\n",
              "      <th>2020-01-04</th>\n",
              "      <td>False</td>\n",
              "      <td>False</td>\n",
              "      <td>False</td>\n",
              "      <td>False</td>\n",
              "      <td>False</td>\n",
              "      <td>True</td>\n",
              "    </tr>\n",
              "  </tbody>\n",
              "</table>\n",
              "</div>"
            ],
            "text/plain": [
              "                A      B      C      D      F      E\n",
              "2020-01-01  False  False  False  False   True  False\n",
              "2020-01-02  False  False  False  False  False  False\n",
              "2020-01-03  False  False  False  False  False   True\n",
              "2020-01-04  False  False  False  False  False   True"
            ]
          },
          "metadata": {
            "tags": []
          },
          "execution_count": 56
        }
      ]
    },
    {
      "cell_type": "markdown",
      "metadata": {
        "id": "21Bugx47wetg"
      },
      "source": [
        "# **運算方法**"
      ]
    },
    {
      "cell_type": "code",
      "metadata": {
        "colab": {
          "base_uri": "https://localhost:8080/"
        },
        "id": "SWAc6mSbwQdI",
        "outputId": "93103c67-708f-4f6f-d785-adf49f9c8ed6"
      },
      "source": [
        "df.mean() # 針對欄位做平均值"
      ],
      "execution_count": 57,
      "outputs": [
        {
          "output_type": "execute_result",
          "data": {
            "text/plain": [
              "A    0.677579\n",
              "B    0.048221\n",
              "C    1.119217\n",
              "D   -0.627554\n",
              "F    3.000000\n",
              "dtype: float64"
            ]
          },
          "metadata": {
            "tags": []
          },
          "execution_count": 57
        }
      ]
    },
    {
      "cell_type": "code",
      "metadata": {
        "colab": {
          "base_uri": "https://localhost:8080/"
        },
        "id": "0Tb803pnw0p_",
        "outputId": "f3387012-d0a2-48fc-d160-dc52b8ba1b4f"
      },
      "source": [
        "df.mean(1) # 水平加總平均"
      ],
      "execution_count": 58,
      "outputs": [
        {
          "output_type": "execute_result",
          "data": {
            "text/plain": [
              "2020-01-01    0.613314\n",
              "2020-01-02    0.395636\n",
              "2020-01-03    0.799767\n",
              "2020-01-04    0.681185\n",
              "2020-01-05    0.333516\n",
              "2020-01-06    1.760201\n",
              "Freq: D, dtype: float64"
            ]
          },
          "metadata": {
            "tags": []
          },
          "execution_count": 58
        }
      ]
    },
    {
      "cell_type": "code",
      "metadata": {
        "colab": {
          "base_uri": "https://localhost:8080/"
        },
        "id": "c4LjxtWPw6f1",
        "outputId": "76728d5d-fd63-4d59-e3cb-76313cd199bb"
      },
      "source": [
        "s = pd.Series([1, 3, 5, np.nan, 6, 8], index=dates).shift(2)\n",
        "s"
      ],
      "execution_count": 60,
      "outputs": [
        {
          "output_type": "execute_result",
          "data": {
            "text/plain": [
              "2020-01-01    NaN\n",
              "2020-01-02    NaN\n",
              "2020-01-03    1.0\n",
              "2020-01-04    3.0\n",
              "2020-01-05    5.0\n",
              "2020-01-06    NaN\n",
              "Freq: D, dtype: float64"
            ]
          },
          "metadata": {
            "tags": []
          },
          "execution_count": 60
        }
      ]
    },
    {
      "cell_type": "code",
      "metadata": {
        "colab": {
          "base_uri": "https://localhost:8080/",
          "height": 235
        },
        "id": "EKIcwcD1xqAj",
        "outputId": "9c036915-9497-4d9a-c65a-201258daf0e8"
      },
      "source": [
        "df.sub(s, axis=\"index\") # 減去法"
      ],
      "execution_count": 61,
      "outputs": [
        {
          "output_type": "execute_result",
          "data": {
            "text/html": [
              "<div>\n",
              "<style scoped>\n",
              "    .dataframe tbody tr th:only-of-type {\n",
              "        vertical-align: middle;\n",
              "    }\n",
              "\n",
              "    .dataframe tbody tr th {\n",
              "        vertical-align: top;\n",
              "    }\n",
              "\n",
              "    .dataframe thead th {\n",
              "        text-align: right;\n",
              "    }\n",
              "</style>\n",
              "<table border=\"1\" class=\"dataframe\">\n",
              "  <thead>\n",
              "    <tr style=\"text-align: right;\">\n",
              "      <th></th>\n",
              "      <th>A</th>\n",
              "      <th>B</th>\n",
              "      <th>C</th>\n",
              "      <th>D</th>\n",
              "      <th>F</th>\n",
              "    </tr>\n",
              "  </thead>\n",
              "  <tbody>\n",
              "    <tr>\n",
              "      <th>2020-01-01</th>\n",
              "      <td>NaN</td>\n",
              "      <td>NaN</td>\n",
              "      <td>NaN</td>\n",
              "      <td>NaN</td>\n",
              "      <td>NaN</td>\n",
              "    </tr>\n",
              "    <tr>\n",
              "      <th>2020-01-02</th>\n",
              "      <td>NaN</td>\n",
              "      <td>NaN</td>\n",
              "      <td>NaN</td>\n",
              "      <td>NaN</td>\n",
              "      <td>NaN</td>\n",
              "    </tr>\n",
              "    <tr>\n",
              "      <th>2020-01-03</th>\n",
              "      <td>0.999931</td>\n",
              "      <td>0.602989</td>\n",
              "      <td>-1.997345</td>\n",
              "      <td>-1.606740</td>\n",
              "      <td>1.0</td>\n",
              "    </tr>\n",
              "    <tr>\n",
              "      <th>2020-01-04</th>\n",
              "      <td>-3.736284</td>\n",
              "      <td>-4.436716</td>\n",
              "      <td>-1.188861</td>\n",
              "      <td>-2.232214</td>\n",
              "      <td>0.0</td>\n",
              "    </tr>\n",
              "    <tr>\n",
              "      <th>2020-01-05</th>\n",
              "      <td>-4.508412</td>\n",
              "      <td>-7.103403</td>\n",
              "      <td>-4.240521</td>\n",
              "      <td>-6.480084</td>\n",
              "      <td>-1.0</td>\n",
              "    </tr>\n",
              "    <tr>\n",
              "      <th>2020-01-06</th>\n",
              "      <td>NaN</td>\n",
              "      <td>NaN</td>\n",
              "      <td>NaN</td>\n",
              "      <td>NaN</td>\n",
              "      <td>NaN</td>\n",
              "    </tr>\n",
              "  </tbody>\n",
              "</table>\n",
              "</div>"
            ],
            "text/plain": [
              "                   A         B         C         D    F\n",
              "2020-01-01       NaN       NaN       NaN       NaN  NaN\n",
              "2020-01-02       NaN       NaN       NaN       NaN  NaN\n",
              "2020-01-03  0.999931  0.602989 -1.997345 -1.606740  1.0\n",
              "2020-01-04 -3.736284 -4.436716 -1.188861 -2.232214  0.0\n",
              "2020-01-05 -4.508412 -7.103403 -4.240521 -6.480084 -1.0\n",
              "2020-01-06       NaN       NaN       NaN       NaN  NaN"
            ]
          },
          "metadata": {
            "tags": []
          },
          "execution_count": 61
        }
      ]
    },
    {
      "cell_type": "markdown",
      "metadata": {
        "id": "tFDC_jFvzp9s"
      },
      "source": [
        "# Apply **引用方法**"
      ]
    },
    {
      "cell_type": "code",
      "metadata": {
        "colab": {
          "base_uri": "https://localhost:8080/",
          "height": 235
        },
        "id": "SiFO-0CyzNEx",
        "outputId": "26087b38-625d-4236-c0d9-81b500536ee4"
      },
      "source": [
        "df.apply(np.cumsum) # 累加"
      ],
      "execution_count": 62,
      "outputs": [
        {
          "output_type": "execute_result",
          "data": {
            "text/html": [
              "<div>\n",
              "<style scoped>\n",
              "    .dataframe tbody tr th:only-of-type {\n",
              "        vertical-align: middle;\n",
              "    }\n",
              "\n",
              "    .dataframe tbody tr th {\n",
              "        vertical-align: top;\n",
              "    }\n",
              "\n",
              "    .dataframe thead th {\n",
              "        text-align: right;\n",
              "    }\n",
              "</style>\n",
              "<table border=\"1\" class=\"dataframe\">\n",
              "  <thead>\n",
              "    <tr style=\"text-align: right;\">\n",
              "      <th></th>\n",
              "      <th>A</th>\n",
              "      <th>B</th>\n",
              "      <th>C</th>\n",
              "      <th>D</th>\n",
              "      <th>F</th>\n",
              "    </tr>\n",
              "  </thead>\n",
              "  <tbody>\n",
              "    <tr>\n",
              "      <th>2020-01-01</th>\n",
              "      <td>0.985463</td>\n",
              "      <td>2.364535</td>\n",
              "      <td>0.986302</td>\n",
              "      <td>-1.883043</td>\n",
              "      <td>NaN</td>\n",
              "    </tr>\n",
              "    <tr>\n",
              "      <th>2020-01-02</th>\n",
              "      <td>1.858467</td>\n",
              "      <td>2.502343</td>\n",
              "      <td>1.977066</td>\n",
              "      <td>-2.906438</td>\n",
              "      <td>1.0</td>\n",
              "    </tr>\n",
              "    <tr>\n",
              "      <th>2020-01-03</th>\n",
              "      <td>3.858399</td>\n",
              "      <td>4.105332</td>\n",
              "      <td>0.979721</td>\n",
              "      <td>-3.513178</td>\n",
              "      <td>3.0</td>\n",
              "    </tr>\n",
              "    <tr>\n",
              "      <th>2020-01-04</th>\n",
              "      <td>3.122115</td>\n",
              "      <td>2.668616</td>\n",
              "      <td>2.790859</td>\n",
              "      <td>-2.745392</td>\n",
              "      <td>6.0</td>\n",
              "    </tr>\n",
              "    <tr>\n",
              "      <th>2020-01-05</th>\n",
              "      <td>3.613702</td>\n",
              "      <td>0.565212</td>\n",
              "      <td>3.550338</td>\n",
              "      <td>-4.225476</td>\n",
              "      <td>10.0</td>\n",
              "    </tr>\n",
              "    <tr>\n",
              "      <th>2020-01-06</th>\n",
              "      <td>4.065473</td>\n",
              "      <td>0.289328</td>\n",
              "      <td>6.715304</td>\n",
              "      <td>-3.765325</td>\n",
              "      <td>15.0</td>\n",
              "    </tr>\n",
              "  </tbody>\n",
              "</table>\n",
              "</div>"
            ],
            "text/plain": [
              "                   A         B         C         D     F\n",
              "2020-01-01  0.985463  2.364535  0.986302 -1.883043   NaN\n",
              "2020-01-02  1.858467  2.502343  1.977066 -2.906438   1.0\n",
              "2020-01-03  3.858399  4.105332  0.979721 -3.513178   3.0\n",
              "2020-01-04  3.122115  2.668616  2.790859 -2.745392   6.0\n",
              "2020-01-05  3.613702  0.565212  3.550338 -4.225476  10.0\n",
              "2020-01-06  4.065473  0.289328  6.715304 -3.765325  15.0"
            ]
          },
          "metadata": {
            "tags": []
          },
          "execution_count": 62
        }
      ]
    },
    {
      "cell_type": "code",
      "metadata": {
        "colab": {
          "base_uri": "https://localhost:8080/",
          "height": 235
        },
        "id": "dDlfUci50e0T",
        "outputId": "519068fc-a6be-470f-ae3f-770fff39daff"
      },
      "source": [
        "df"
      ],
      "execution_count": 65,
      "outputs": [
        {
          "output_type": "execute_result",
          "data": {
            "text/html": [
              "<div>\n",
              "<style scoped>\n",
              "    .dataframe tbody tr th:only-of-type {\n",
              "        vertical-align: middle;\n",
              "    }\n",
              "\n",
              "    .dataframe tbody tr th {\n",
              "        vertical-align: top;\n",
              "    }\n",
              "\n",
              "    .dataframe thead th {\n",
              "        text-align: right;\n",
              "    }\n",
              "</style>\n",
              "<table border=\"1\" class=\"dataframe\">\n",
              "  <thead>\n",
              "    <tr style=\"text-align: right;\">\n",
              "      <th></th>\n",
              "      <th>A</th>\n",
              "      <th>B</th>\n",
              "      <th>C</th>\n",
              "      <th>D</th>\n",
              "      <th>F</th>\n",
              "    </tr>\n",
              "  </thead>\n",
              "  <tbody>\n",
              "    <tr>\n",
              "      <th>2020-01-01</th>\n",
              "      <td>0.985463</td>\n",
              "      <td>2.364535</td>\n",
              "      <td>0.986302</td>\n",
              "      <td>-1.883043</td>\n",
              "      <td>NaN</td>\n",
              "    </tr>\n",
              "    <tr>\n",
              "      <th>2020-01-02</th>\n",
              "      <td>0.873004</td>\n",
              "      <td>0.137808</td>\n",
              "      <td>0.990764</td>\n",
              "      <td>-1.023394</td>\n",
              "      <td>1.0</td>\n",
              "    </tr>\n",
              "    <tr>\n",
              "      <th>2020-01-03</th>\n",
              "      <td>1.999931</td>\n",
              "      <td>1.602989</td>\n",
              "      <td>-0.997345</td>\n",
              "      <td>-0.606740</td>\n",
              "      <td>2.0</td>\n",
              "    </tr>\n",
              "    <tr>\n",
              "      <th>2020-01-04</th>\n",
              "      <td>-0.736284</td>\n",
              "      <td>-1.436716</td>\n",
              "      <td>1.811139</td>\n",
              "      <td>0.767786</td>\n",
              "      <td>3.0</td>\n",
              "    </tr>\n",
              "    <tr>\n",
              "      <th>2020-01-05</th>\n",
              "      <td>0.491588</td>\n",
              "      <td>-2.103403</td>\n",
              "      <td>0.759479</td>\n",
              "      <td>-1.480084</td>\n",
              "      <td>4.0</td>\n",
              "    </tr>\n",
              "    <tr>\n",
              "      <th>2020-01-06</th>\n",
              "      <td>0.451771</td>\n",
              "      <td>-0.275884</td>\n",
              "      <td>3.164966</td>\n",
              "      <td>0.460151</td>\n",
              "      <td>5.0</td>\n",
              "    </tr>\n",
              "  </tbody>\n",
              "</table>\n",
              "</div>"
            ],
            "text/plain": [
              "                   A         B         C         D    F\n",
              "2020-01-01  0.985463  2.364535  0.986302 -1.883043  NaN\n",
              "2020-01-02  0.873004  0.137808  0.990764 -1.023394  1.0\n",
              "2020-01-03  1.999931  1.602989 -0.997345 -0.606740  2.0\n",
              "2020-01-04 -0.736284 -1.436716  1.811139  0.767786  3.0\n",
              "2020-01-05  0.491588 -2.103403  0.759479 -1.480084  4.0\n",
              "2020-01-06  0.451771 -0.275884  3.164966  0.460151  5.0"
            ]
          },
          "metadata": {
            "tags": []
          },
          "execution_count": 65
        }
      ]
    },
    {
      "cell_type": "code",
      "metadata": {
        "colab": {
          "base_uri": "https://localhost:8080/"
        },
        "id": "43Ts1wEXz0G2",
        "outputId": "aa0b2648-00fc-4800-bc2d-9e4fc2a19f0b"
      },
      "source": [
        "df.apply(lambda x: x.max()- x.min())"
      ],
      "execution_count": 64,
      "outputs": [
        {
          "output_type": "execute_result",
          "data": {
            "text/plain": [
              "A    2.736215\n",
              "B    4.467939\n",
              "C    4.162312\n",
              "D    2.650829\n",
              "F    4.000000\n",
              "dtype: float64"
            ]
          },
          "metadata": {
            "tags": []
          },
          "execution_count": 64
        }
      ]
    },
    {
      "cell_type": "markdown",
      "metadata": {
        "id": "qcAH9OuI2X2u"
      },
      "source": [
        "# **Histogramming**"
      ]
    },
    {
      "cell_type": "code",
      "metadata": {
        "colab": {
          "base_uri": "https://localhost:8080/"
        },
        "id": "HMUQdw2k0bsX",
        "outputId": "2c180391-d13c-464e-c6ad-68140cb02564"
      },
      "source": [
        "s = pd.Series(np.random.randint(0, 7, size=10))\n",
        "s"
      ],
      "execution_count": 66,
      "outputs": [
        {
          "output_type": "execute_result",
          "data": {
            "text/plain": [
              "0    1\n",
              "1    1\n",
              "2    0\n",
              "3    0\n",
              "4    4\n",
              "5    4\n",
              "6    1\n",
              "7    0\n",
              "8    1\n",
              "9    5\n",
              "dtype: int64"
            ]
          },
          "metadata": {
            "tags": []
          },
          "execution_count": 66
        }
      ]
    },
    {
      "cell_type": "code",
      "metadata": {
        "colab": {
          "base_uri": "https://localhost:8080/"
        },
        "id": "hkokSqUN6G5o",
        "outputId": "fc80c4af-5dbb-48b0-e082-bc39f5b55947"
      },
      "source": [
        "s.value_counts()"
      ],
      "execution_count": 67,
      "outputs": [
        {
          "output_type": "execute_result",
          "data": {
            "text/plain": [
              "1    4\n",
              "0    3\n",
              "4    2\n",
              "5    1\n",
              "dtype: int64"
            ]
          },
          "metadata": {
            "tags": []
          },
          "execution_count": 67
        }
      ]
    },
    {
      "cell_type": "markdown",
      "metadata": {
        "id": "pGBMuP876pJQ"
      },
      "source": [
        "# String **Methods**"
      ]
    },
    {
      "cell_type": "code",
      "metadata": {
        "colab": {
          "base_uri": "https://localhost:8080/"
        },
        "id": "t7VvPkJR6MJI",
        "outputId": "eaa2b5c2-f8e6-4c30-f088-9ef54199d630"
      },
      "source": [
        "s = pd.Series([\"A\", \"B\", \"C\", \"Aaba\", \"Baca\", np.nan, \"CABA\", \"dog\", \"cat\"])\n",
        "s.str.lower()"
      ],
      "execution_count": 70,
      "outputs": [
        {
          "output_type": "execute_result",
          "data": {
            "text/plain": [
              "0       a\n",
              "1       b\n",
              "2       c\n",
              "3    aaba\n",
              "4    baca\n",
              "5     NaN\n",
              "6    caba\n",
              "7     dog\n",
              "8     cat\n",
              "dtype: object"
            ]
          },
          "metadata": {
            "tags": []
          },
          "execution_count": 70
        }
      ]
    },
    {
      "cell_type": "markdown",
      "metadata": {
        "id": "MIcQmmnD6udu"
      },
      "source": [
        "# **Merge**"
      ]
    },
    {
      "cell_type": "code",
      "metadata": {
        "colab": {
          "base_uri": "https://localhost:8080/",
          "height": 359
        },
        "id": "NB9tr5fb6aUJ",
        "outputId": "72e86651-9768-499a-c210-b0e956059804"
      },
      "source": [
        "df = pd.DataFrame(np.random.randn(10,4))\n",
        "df"
      ],
      "execution_count": 71,
      "outputs": [
        {
          "output_type": "execute_result",
          "data": {
            "text/html": [
              "<div>\n",
              "<style scoped>\n",
              "    .dataframe tbody tr th:only-of-type {\n",
              "        vertical-align: middle;\n",
              "    }\n",
              "\n",
              "    .dataframe tbody tr th {\n",
              "        vertical-align: top;\n",
              "    }\n",
              "\n",
              "    .dataframe thead th {\n",
              "        text-align: right;\n",
              "    }\n",
              "</style>\n",
              "<table border=\"1\" class=\"dataframe\">\n",
              "  <thead>\n",
              "    <tr style=\"text-align: right;\">\n",
              "      <th></th>\n",
              "      <th>0</th>\n",
              "      <th>1</th>\n",
              "      <th>2</th>\n",
              "      <th>3</th>\n",
              "    </tr>\n",
              "  </thead>\n",
              "  <tbody>\n",
              "    <tr>\n",
              "      <th>0</th>\n",
              "      <td>0.144758</td>\n",
              "      <td>0.102173</td>\n",
              "      <td>-0.489879</td>\n",
              "      <td>-0.424036</td>\n",
              "    </tr>\n",
              "    <tr>\n",
              "      <th>1</th>\n",
              "      <td>-0.481182</td>\n",
              "      <td>0.551074</td>\n",
              "      <td>1.429425</td>\n",
              "      <td>0.013852</td>\n",
              "    </tr>\n",
              "    <tr>\n",
              "      <th>2</th>\n",
              "      <td>-1.097099</td>\n",
              "      <td>1.159575</td>\n",
              "      <td>0.344006</td>\n",
              "      <td>0.488471</td>\n",
              "    </tr>\n",
              "    <tr>\n",
              "      <th>3</th>\n",
              "      <td>-0.017403</td>\n",
              "      <td>1.033277</td>\n",
              "      <td>1.510198</td>\n",
              "      <td>-0.499569</td>\n",
              "    </tr>\n",
              "    <tr>\n",
              "      <th>4</th>\n",
              "      <td>0.601143</td>\n",
              "      <td>0.461071</td>\n",
              "      <td>-1.564810</td>\n",
              "      <td>-0.097396</td>\n",
              "    </tr>\n",
              "    <tr>\n",
              "      <th>5</th>\n",
              "      <td>-0.764824</td>\n",
              "      <td>1.910518</td>\n",
              "      <td>-1.113264</td>\n",
              "      <td>0.874927</td>\n",
              "    </tr>\n",
              "    <tr>\n",
              "      <th>6</th>\n",
              "      <td>0.172202</td>\n",
              "      <td>1.744978</td>\n",
              "      <td>0.743353</td>\n",
              "      <td>0.543980</td>\n",
              "    </tr>\n",
              "    <tr>\n",
              "      <th>7</th>\n",
              "      <td>-0.579115</td>\n",
              "      <td>0.624893</td>\n",
              "      <td>-1.124441</td>\n",
              "      <td>0.365497</td>\n",
              "    </tr>\n",
              "    <tr>\n",
              "      <th>8</th>\n",
              "      <td>-0.645651</td>\n",
              "      <td>-0.689508</td>\n",
              "      <td>-1.400422</td>\n",
              "      <td>0.671921</td>\n",
              "    </tr>\n",
              "    <tr>\n",
              "      <th>9</th>\n",
              "      <td>-0.523283</td>\n",
              "      <td>-0.515636</td>\n",
              "      <td>-0.612047</td>\n",
              "      <td>0.604920</td>\n",
              "    </tr>\n",
              "  </tbody>\n",
              "</table>\n",
              "</div>"
            ],
            "text/plain": [
              "          0         1         2         3\n",
              "0  0.144758  0.102173 -0.489879 -0.424036\n",
              "1 -0.481182  0.551074  1.429425  0.013852\n",
              "2 -1.097099  1.159575  0.344006  0.488471\n",
              "3 -0.017403  1.033277  1.510198 -0.499569\n",
              "4  0.601143  0.461071 -1.564810 -0.097396\n",
              "5 -0.764824  1.910518 -1.113264  0.874927\n",
              "6  0.172202  1.744978  0.743353  0.543980\n",
              "7 -0.579115  0.624893 -1.124441  0.365497\n",
              "8 -0.645651 -0.689508 -1.400422  0.671921\n",
              "9 -0.523283 -0.515636 -0.612047  0.604920"
            ]
          },
          "metadata": {
            "tags": []
          },
          "execution_count": 71
        }
      ]
    },
    {
      "cell_type": "code",
      "metadata": {
        "colab": {
          "base_uri": "https://localhost:8080/",
          "height": 297
        },
        "id": "NG5r38KM6_5y",
        "outputId": "11436482-0493-415e-a3c8-b65efa8973b7"
      },
      "source": [
        "pieces = [df[:2],df[3:9]]\n",
        "pd.concat(pieces) # 欄位數量需一致才能合併"
      ],
      "execution_count": 76,
      "outputs": [
        {
          "output_type": "execute_result",
          "data": {
            "text/html": [
              "<div>\n",
              "<style scoped>\n",
              "    .dataframe tbody tr th:only-of-type {\n",
              "        vertical-align: middle;\n",
              "    }\n",
              "\n",
              "    .dataframe tbody tr th {\n",
              "        vertical-align: top;\n",
              "    }\n",
              "\n",
              "    .dataframe thead th {\n",
              "        text-align: right;\n",
              "    }\n",
              "</style>\n",
              "<table border=\"1\" class=\"dataframe\">\n",
              "  <thead>\n",
              "    <tr style=\"text-align: right;\">\n",
              "      <th></th>\n",
              "      <th>0</th>\n",
              "      <th>1</th>\n",
              "      <th>2</th>\n",
              "      <th>3</th>\n",
              "    </tr>\n",
              "  </thead>\n",
              "  <tbody>\n",
              "    <tr>\n",
              "      <th>0</th>\n",
              "      <td>0.144758</td>\n",
              "      <td>0.102173</td>\n",
              "      <td>-0.489879</td>\n",
              "      <td>-0.424036</td>\n",
              "    </tr>\n",
              "    <tr>\n",
              "      <th>1</th>\n",
              "      <td>-0.481182</td>\n",
              "      <td>0.551074</td>\n",
              "      <td>1.429425</td>\n",
              "      <td>0.013852</td>\n",
              "    </tr>\n",
              "    <tr>\n",
              "      <th>3</th>\n",
              "      <td>-0.017403</td>\n",
              "      <td>1.033277</td>\n",
              "      <td>1.510198</td>\n",
              "      <td>-0.499569</td>\n",
              "    </tr>\n",
              "    <tr>\n",
              "      <th>4</th>\n",
              "      <td>0.601143</td>\n",
              "      <td>0.461071</td>\n",
              "      <td>-1.564810</td>\n",
              "      <td>-0.097396</td>\n",
              "    </tr>\n",
              "    <tr>\n",
              "      <th>5</th>\n",
              "      <td>-0.764824</td>\n",
              "      <td>1.910518</td>\n",
              "      <td>-1.113264</td>\n",
              "      <td>0.874927</td>\n",
              "    </tr>\n",
              "    <tr>\n",
              "      <th>6</th>\n",
              "      <td>0.172202</td>\n",
              "      <td>1.744978</td>\n",
              "      <td>0.743353</td>\n",
              "      <td>0.543980</td>\n",
              "    </tr>\n",
              "    <tr>\n",
              "      <th>7</th>\n",
              "      <td>-0.579115</td>\n",
              "      <td>0.624893</td>\n",
              "      <td>-1.124441</td>\n",
              "      <td>0.365497</td>\n",
              "    </tr>\n",
              "    <tr>\n",
              "      <th>8</th>\n",
              "      <td>-0.645651</td>\n",
              "      <td>-0.689508</td>\n",
              "      <td>-1.400422</td>\n",
              "      <td>0.671921</td>\n",
              "    </tr>\n",
              "  </tbody>\n",
              "</table>\n",
              "</div>"
            ],
            "text/plain": [
              "          0         1         2         3\n",
              "0  0.144758  0.102173 -0.489879 -0.424036\n",
              "1 -0.481182  0.551074  1.429425  0.013852\n",
              "3 -0.017403  1.033277  1.510198 -0.499569\n",
              "4  0.601143  0.461071 -1.564810 -0.097396\n",
              "5 -0.764824  1.910518 -1.113264  0.874927\n",
              "6  0.172202  1.744978  0.743353  0.543980\n",
              "7 -0.579115  0.624893 -1.124441  0.365497\n",
              "8 -0.645651 -0.689508 -1.400422  0.671921"
            ]
          },
          "metadata": {
            "tags": []
          },
          "execution_count": 76
        }
      ]
    },
    {
      "cell_type": "markdown",
      "metadata": {
        "id": "KI6f7R157qSH"
      },
      "source": [
        "# **Join**"
      ]
    },
    {
      "cell_type": "code",
      "metadata": {
        "id": "0xDAVVVl7lK-"
      },
      "source": [
        "left = pd.DataFrame({\"key\": [\"qoo\", \"qoo\"], \"lval\": [1, 2]})\n",
        "right = pd.DataFrame({\"key\": [\"qoo\", \"qoo\"], \"lval\": [3, 4]})"
      ],
      "execution_count": 77,
      "outputs": []
    },
    {
      "cell_type": "code",
      "metadata": {
        "colab": {
          "base_uri": "https://localhost:8080/",
          "height": 111
        },
        "id": "mslAcZGD9Tid",
        "outputId": "99ea38c1-74a5-469c-e329-0a5caa7b1470"
      },
      "source": [
        "left"
      ],
      "execution_count": 78,
      "outputs": [
        {
          "output_type": "execute_result",
          "data": {
            "text/html": [
              "<div>\n",
              "<style scoped>\n",
              "    .dataframe tbody tr th:only-of-type {\n",
              "        vertical-align: middle;\n",
              "    }\n",
              "\n",
              "    .dataframe tbody tr th {\n",
              "        vertical-align: top;\n",
              "    }\n",
              "\n",
              "    .dataframe thead th {\n",
              "        text-align: right;\n",
              "    }\n",
              "</style>\n",
              "<table border=\"1\" class=\"dataframe\">\n",
              "  <thead>\n",
              "    <tr style=\"text-align: right;\">\n",
              "      <th></th>\n",
              "      <th>key</th>\n",
              "      <th>lval</th>\n",
              "    </tr>\n",
              "  </thead>\n",
              "  <tbody>\n",
              "    <tr>\n",
              "      <th>0</th>\n",
              "      <td>qoo</td>\n",
              "      <td>1</td>\n",
              "    </tr>\n",
              "    <tr>\n",
              "      <th>1</th>\n",
              "      <td>qoo</td>\n",
              "      <td>2</td>\n",
              "    </tr>\n",
              "  </tbody>\n",
              "</table>\n",
              "</div>"
            ],
            "text/plain": [
              "   key  lval\n",
              "0  qoo     1\n",
              "1  qoo     2"
            ]
          },
          "metadata": {
            "tags": []
          },
          "execution_count": 78
        }
      ]
    },
    {
      "cell_type": "code",
      "metadata": {
        "colab": {
          "base_uri": "https://localhost:8080/",
          "height": 111
        },
        "id": "3jyj6F9U9UeY",
        "outputId": "8f423430-8634-4470-976e-7c6c54c68b08"
      },
      "source": [
        "right"
      ],
      "execution_count": 79,
      "outputs": [
        {
          "output_type": "execute_result",
          "data": {
            "text/html": [
              "<div>\n",
              "<style scoped>\n",
              "    .dataframe tbody tr th:only-of-type {\n",
              "        vertical-align: middle;\n",
              "    }\n",
              "\n",
              "    .dataframe tbody tr th {\n",
              "        vertical-align: top;\n",
              "    }\n",
              "\n",
              "    .dataframe thead th {\n",
              "        text-align: right;\n",
              "    }\n",
              "</style>\n",
              "<table border=\"1\" class=\"dataframe\">\n",
              "  <thead>\n",
              "    <tr style=\"text-align: right;\">\n",
              "      <th></th>\n",
              "      <th>key</th>\n",
              "      <th>lval</th>\n",
              "    </tr>\n",
              "  </thead>\n",
              "  <tbody>\n",
              "    <tr>\n",
              "      <th>0</th>\n",
              "      <td>qoo</td>\n",
              "      <td>3</td>\n",
              "    </tr>\n",
              "    <tr>\n",
              "      <th>1</th>\n",
              "      <td>qoo</td>\n",
              "      <td>4</td>\n",
              "    </tr>\n",
              "  </tbody>\n",
              "</table>\n",
              "</div>"
            ],
            "text/plain": [
              "   key  lval\n",
              "0  qoo     3\n",
              "1  qoo     4"
            ]
          },
          "metadata": {
            "tags": []
          },
          "execution_count": 79
        }
      ]
    },
    {
      "cell_type": "code",
      "metadata": {
        "colab": {
          "base_uri": "https://localhost:8080/",
          "height": 173
        },
        "id": "B49HcWty9VVM",
        "outputId": "364359ab-700f-44a1-a615-12a6839757a3"
      },
      "source": [
        "pd.merge(left, right, on='key')"
      ],
      "execution_count": 83,
      "outputs": [
        {
          "output_type": "execute_result",
          "data": {
            "text/html": [
              "<div>\n",
              "<style scoped>\n",
              "    .dataframe tbody tr th:only-of-type {\n",
              "        vertical-align: middle;\n",
              "    }\n",
              "\n",
              "    .dataframe tbody tr th {\n",
              "        vertical-align: top;\n",
              "    }\n",
              "\n",
              "    .dataframe thead th {\n",
              "        text-align: right;\n",
              "    }\n",
              "</style>\n",
              "<table border=\"1\" class=\"dataframe\">\n",
              "  <thead>\n",
              "    <tr style=\"text-align: right;\">\n",
              "      <th></th>\n",
              "      <th>key</th>\n",
              "      <th>lval_x</th>\n",
              "      <th>lval_y</th>\n",
              "    </tr>\n",
              "  </thead>\n",
              "  <tbody>\n",
              "    <tr>\n",
              "      <th>0</th>\n",
              "      <td>qoo</td>\n",
              "      <td>1</td>\n",
              "      <td>3</td>\n",
              "    </tr>\n",
              "    <tr>\n",
              "      <th>1</th>\n",
              "      <td>qoo</td>\n",
              "      <td>1</td>\n",
              "      <td>4</td>\n",
              "    </tr>\n",
              "    <tr>\n",
              "      <th>2</th>\n",
              "      <td>qoo</td>\n",
              "      <td>2</td>\n",
              "      <td>3</td>\n",
              "    </tr>\n",
              "    <tr>\n",
              "      <th>3</th>\n",
              "      <td>qoo</td>\n",
              "      <td>2</td>\n",
              "      <td>4</td>\n",
              "    </tr>\n",
              "  </tbody>\n",
              "</table>\n",
              "</div>"
            ],
            "text/plain": [
              "   key  lval_x  lval_y\n",
              "0  qoo       1       3\n",
              "1  qoo       1       4\n",
              "2  qoo       2       3\n",
              "3  qoo       2       4"
            ]
          },
          "metadata": {
            "tags": []
          },
          "execution_count": 83
        }
      ]
    },
    {
      "cell_type": "code",
      "metadata": {
        "id": "9hLDMdik9YvP"
      },
      "source": [
        "left = pd.DataFrame({\"key\": [\"qoo\", \"voo\"], \"lval\": [1, 2]})\n",
        "right = pd.DataFrame({\"key\": [\"qoo\", \"voo\"], \"lval\": [3, 4]})"
      ],
      "execution_count": 85,
      "outputs": []
    },
    {
      "cell_type": "code",
      "metadata": {
        "colab": {
          "base_uri": "https://localhost:8080/",
          "height": 111
        },
        "id": "_3h9d7_z92Nu",
        "outputId": "083d8f66-d8a2-48ce-f360-75618a196b2f"
      },
      "source": [
        "pd.merge(right, left, on='key')"
      ],
      "execution_count": 86,
      "outputs": [
        {
          "output_type": "execute_result",
          "data": {
            "text/html": [
              "<div>\n",
              "<style scoped>\n",
              "    .dataframe tbody tr th:only-of-type {\n",
              "        vertical-align: middle;\n",
              "    }\n",
              "\n",
              "    .dataframe tbody tr th {\n",
              "        vertical-align: top;\n",
              "    }\n",
              "\n",
              "    .dataframe thead th {\n",
              "        text-align: right;\n",
              "    }\n",
              "</style>\n",
              "<table border=\"1\" class=\"dataframe\">\n",
              "  <thead>\n",
              "    <tr style=\"text-align: right;\">\n",
              "      <th></th>\n",
              "      <th>key</th>\n",
              "      <th>lval_x</th>\n",
              "      <th>lval_y</th>\n",
              "    </tr>\n",
              "  </thead>\n",
              "  <tbody>\n",
              "    <tr>\n",
              "      <th>0</th>\n",
              "      <td>qoo</td>\n",
              "      <td>3</td>\n",
              "      <td>1</td>\n",
              "    </tr>\n",
              "    <tr>\n",
              "      <th>1</th>\n",
              "      <td>voo</td>\n",
              "      <td>4</td>\n",
              "      <td>2</td>\n",
              "    </tr>\n",
              "  </tbody>\n",
              "</table>\n",
              "</div>"
            ],
            "text/plain": [
              "   key  lval_x  lval_y\n",
              "0  qoo       3       1\n",
              "1  voo       4       2"
            ]
          },
          "metadata": {
            "tags": []
          },
          "execution_count": 86
        }
      ]
    },
    {
      "cell_type": "markdown",
      "metadata": {
        "id": "NZ9a55EN-h0R"
      },
      "source": [
        "# **Grouping**分群-->類似excel的樞紐分析\n",
        "\n",
        "ex. \n",
        "可計算不同總類的物品(每樣商品的利潤加種)"
      ]
    },
    {
      "cell_type": "code",
      "metadata": {
        "colab": {
          "base_uri": "https://localhost:8080/",
          "height": 297
        },
        "id": "G7HZBXnC97rH",
        "outputId": "7d1d046f-3578-42d8-b1ad-48ac3ef37625"
      },
      "source": [
        "df = pd.DataFrame(\n",
        "   ....:     {\n",
        "   ....:         \"A\": [\"foo\", \"bar\", \"foo\", \"bar\", \"foo\", \"bar\", \"foo\", \"foo\"],\n",
        "   ....:         \"B\": [\"one\", \"one\", \"two\", \"three\", \"two\", \"two\", \"one\", \"three\"],\n",
        "   ....:         \"C\": np.random.randn(8),\n",
        "   ....:         \"D\": np.random.randn(8),\n",
        "   ....:     }\n",
        "   ....: )\n",
        "df"
      ],
      "execution_count": 87,
      "outputs": [
        {
          "output_type": "execute_result",
          "data": {
            "text/html": [
              "<div>\n",
              "<style scoped>\n",
              "    .dataframe tbody tr th:only-of-type {\n",
              "        vertical-align: middle;\n",
              "    }\n",
              "\n",
              "    .dataframe tbody tr th {\n",
              "        vertical-align: top;\n",
              "    }\n",
              "\n",
              "    .dataframe thead th {\n",
              "        text-align: right;\n",
              "    }\n",
              "</style>\n",
              "<table border=\"1\" class=\"dataframe\">\n",
              "  <thead>\n",
              "    <tr style=\"text-align: right;\">\n",
              "      <th></th>\n",
              "      <th>A</th>\n",
              "      <th>B</th>\n",
              "      <th>C</th>\n",
              "      <th>D</th>\n",
              "    </tr>\n",
              "  </thead>\n",
              "  <tbody>\n",
              "    <tr>\n",
              "      <th>0</th>\n",
              "      <td>foo</td>\n",
              "      <td>one</td>\n",
              "      <td>0.947511</td>\n",
              "      <td>0.560047</td>\n",
              "    </tr>\n",
              "    <tr>\n",
              "      <th>1</th>\n",
              "      <td>bar</td>\n",
              "      <td>one</td>\n",
              "      <td>1.722238</td>\n",
              "      <td>0.138592</td>\n",
              "    </tr>\n",
              "    <tr>\n",
              "      <th>2</th>\n",
              "      <td>foo</td>\n",
              "      <td>two</td>\n",
              "      <td>0.291975</td>\n",
              "      <td>-0.392482</td>\n",
              "    </tr>\n",
              "    <tr>\n",
              "      <th>3</th>\n",
              "      <td>bar</td>\n",
              "      <td>three</td>\n",
              "      <td>-0.717471</td>\n",
              "      <td>0.047645</td>\n",
              "    </tr>\n",
              "    <tr>\n",
              "      <th>4</th>\n",
              "      <td>foo</td>\n",
              "      <td>two</td>\n",
              "      <td>-0.749677</td>\n",
              "      <td>-0.430752</td>\n",
              "    </tr>\n",
              "    <tr>\n",
              "      <th>5</th>\n",
              "      <td>bar</td>\n",
              "      <td>two</td>\n",
              "      <td>0.116400</td>\n",
              "      <td>2.288279</td>\n",
              "    </tr>\n",
              "    <tr>\n",
              "      <th>6</th>\n",
              "      <td>foo</td>\n",
              "      <td>one</td>\n",
              "      <td>-0.219522</td>\n",
              "      <td>-1.698519</td>\n",
              "    </tr>\n",
              "    <tr>\n",
              "      <th>7</th>\n",
              "      <td>foo</td>\n",
              "      <td>three</td>\n",
              "      <td>1.168265</td>\n",
              "      <td>-1.148570</td>\n",
              "    </tr>\n",
              "  </tbody>\n",
              "</table>\n",
              "</div>"
            ],
            "text/plain": [
              "     A      B         C         D\n",
              "0  foo    one  0.947511  0.560047\n",
              "1  bar    one  1.722238  0.138592\n",
              "2  foo    two  0.291975 -0.392482\n",
              "3  bar  three -0.717471  0.047645\n",
              "4  foo    two -0.749677 -0.430752\n",
              "5  bar    two  0.116400  2.288279\n",
              "6  foo    one -0.219522 -1.698519\n",
              "7  foo  three  1.168265 -1.148570"
            ]
          },
          "metadata": {
            "tags": []
          },
          "execution_count": 87
        }
      ]
    },
    {
      "cell_type": "code",
      "metadata": {
        "colab": {
          "base_uri": "https://localhost:8080/",
          "height": 142
        },
        "id": "ZhLYUYsUAEpc",
        "outputId": "e4dd4e69-97a0-47de-c731-0f685b2e8662"
      },
      "source": [
        "df.groupby(['A']).sum()"
      ],
      "execution_count": 89,
      "outputs": [
        {
          "output_type": "execute_result",
          "data": {
            "text/html": [
              "<div>\n",
              "<style scoped>\n",
              "    .dataframe tbody tr th:only-of-type {\n",
              "        vertical-align: middle;\n",
              "    }\n",
              "\n",
              "    .dataframe tbody tr th {\n",
              "        vertical-align: top;\n",
              "    }\n",
              "\n",
              "    .dataframe thead th {\n",
              "        text-align: right;\n",
              "    }\n",
              "</style>\n",
              "<table border=\"1\" class=\"dataframe\">\n",
              "  <thead>\n",
              "    <tr style=\"text-align: right;\">\n",
              "      <th></th>\n",
              "      <th>C</th>\n",
              "      <th>D</th>\n",
              "    </tr>\n",
              "    <tr>\n",
              "      <th>A</th>\n",
              "      <th></th>\n",
              "      <th></th>\n",
              "    </tr>\n",
              "  </thead>\n",
              "  <tbody>\n",
              "    <tr>\n",
              "      <th>bar</th>\n",
              "      <td>1.121167</td>\n",
              "      <td>2.474515</td>\n",
              "    </tr>\n",
              "    <tr>\n",
              "      <th>foo</th>\n",
              "      <td>1.438552</td>\n",
              "      <td>-3.110277</td>\n",
              "    </tr>\n",
              "  </tbody>\n",
              "</table>\n",
              "</div>"
            ],
            "text/plain": [
              "            C         D\n",
              "A                      \n",
              "bar  1.121167  2.474515\n",
              "foo  1.438552 -3.110277"
            ]
          },
          "metadata": {
            "tags": []
          },
          "execution_count": 89
        }
      ]
    },
    {
      "cell_type": "code",
      "metadata": {
        "colab": {
          "base_uri": "https://localhost:8080/",
          "height": 266
        },
        "id": "5Tb5xjQOAM8a",
        "outputId": "d6f52ac2-5e61-4acb-a983-1d9dbd52fbc1"
      },
      "source": [
        "df.groupby(['A','B']).sum()"
      ],
      "execution_count": 90,
      "outputs": [
        {
          "output_type": "execute_result",
          "data": {
            "text/html": [
              "<div>\n",
              "<style scoped>\n",
              "    .dataframe tbody tr th:only-of-type {\n",
              "        vertical-align: middle;\n",
              "    }\n",
              "\n",
              "    .dataframe tbody tr th {\n",
              "        vertical-align: top;\n",
              "    }\n",
              "\n",
              "    .dataframe thead th {\n",
              "        text-align: right;\n",
              "    }\n",
              "</style>\n",
              "<table border=\"1\" class=\"dataframe\">\n",
              "  <thead>\n",
              "    <tr style=\"text-align: right;\">\n",
              "      <th></th>\n",
              "      <th></th>\n",
              "      <th>C</th>\n",
              "      <th>D</th>\n",
              "    </tr>\n",
              "    <tr>\n",
              "      <th>A</th>\n",
              "      <th>B</th>\n",
              "      <th></th>\n",
              "      <th></th>\n",
              "    </tr>\n",
              "  </thead>\n",
              "  <tbody>\n",
              "    <tr>\n",
              "      <th rowspan=\"3\" valign=\"top\">bar</th>\n",
              "      <th>one</th>\n",
              "      <td>1.722238</td>\n",
              "      <td>0.138592</td>\n",
              "    </tr>\n",
              "    <tr>\n",
              "      <th>three</th>\n",
              "      <td>-0.717471</td>\n",
              "      <td>0.047645</td>\n",
              "    </tr>\n",
              "    <tr>\n",
              "      <th>two</th>\n",
              "      <td>0.116400</td>\n",
              "      <td>2.288279</td>\n",
              "    </tr>\n",
              "    <tr>\n",
              "      <th rowspan=\"3\" valign=\"top\">foo</th>\n",
              "      <th>one</th>\n",
              "      <td>0.727990</td>\n",
              "      <td>-1.138472</td>\n",
              "    </tr>\n",
              "    <tr>\n",
              "      <th>three</th>\n",
              "      <td>1.168265</td>\n",
              "      <td>-1.148570</td>\n",
              "    </tr>\n",
              "    <tr>\n",
              "      <th>two</th>\n",
              "      <td>-0.457703</td>\n",
              "      <td>-0.823235</td>\n",
              "    </tr>\n",
              "  </tbody>\n",
              "</table>\n",
              "</div>"
            ],
            "text/plain": [
              "                  C         D\n",
              "A   B                        \n",
              "bar one    1.722238  0.138592\n",
              "    three -0.717471  0.047645\n",
              "    two    0.116400  2.288279\n",
              "foo one    0.727990 -1.138472\n",
              "    three  1.168265 -1.148570\n",
              "    two   -0.457703 -0.823235"
            ]
          },
          "metadata": {
            "tags": []
          },
          "execution_count": 90
        }
      ]
    },
    {
      "cell_type": "markdown",
      "metadata": {
        "id": "Ln4WSwZVCwrY"
      },
      "source": [
        "# Pivot **tables**"
      ]
    },
    {
      "cell_type": "code",
      "metadata": {
        "colab": {
          "base_uri": "https://localhost:8080/",
          "height": 421
        },
        "id": "8hQNqeCtFHIj",
        "outputId": "60db915e-d86a-4e26-e35a-31ecf19a1837"
      },
      "source": [
        "df = pd.DataFrame(\n",
        "   .....:     {\n",
        "   .....:         \"A\": [\"one\", \"one\", \"two\", \"three\"] * 3,\n",
        "   .....:         \"B\": [\"A\", \"B\", \"C\"] * 4,\n",
        "   .....:         \"C\": [\"foo\", \"foo\", \"foo\", \"bar\", \"bar\", \"bar\"] * 2,\n",
        "   .....:         \"D\": np.random.randn(12),\n",
        "   .....:         \"E\": np.random.randn(12),\n",
        "   .....:     }\n",
        "   .....: )\n",
        "df"
      ],
      "execution_count": 96,
      "outputs": [
        {
          "output_type": "execute_result",
          "data": {
            "text/html": [
              "<div>\n",
              "<style scoped>\n",
              "    .dataframe tbody tr th:only-of-type {\n",
              "        vertical-align: middle;\n",
              "    }\n",
              "\n",
              "    .dataframe tbody tr th {\n",
              "        vertical-align: top;\n",
              "    }\n",
              "\n",
              "    .dataframe thead th {\n",
              "        text-align: right;\n",
              "    }\n",
              "</style>\n",
              "<table border=\"1\" class=\"dataframe\">\n",
              "  <thead>\n",
              "    <tr style=\"text-align: right;\">\n",
              "      <th></th>\n",
              "      <th>A</th>\n",
              "      <th>B</th>\n",
              "      <th>C</th>\n",
              "      <th>D</th>\n",
              "      <th>E</th>\n",
              "    </tr>\n",
              "  </thead>\n",
              "  <tbody>\n",
              "    <tr>\n",
              "      <th>0</th>\n",
              "      <td>one</td>\n",
              "      <td>A</td>\n",
              "      <td>foo</td>\n",
              "      <td>1.040962</td>\n",
              "      <td>0.746796</td>\n",
              "    </tr>\n",
              "    <tr>\n",
              "      <th>1</th>\n",
              "      <td>one</td>\n",
              "      <td>B</td>\n",
              "      <td>foo</td>\n",
              "      <td>0.243027</td>\n",
              "      <td>1.092538</td>\n",
              "    </tr>\n",
              "    <tr>\n",
              "      <th>2</th>\n",
              "      <td>two</td>\n",
              "      <td>C</td>\n",
              "      <td>foo</td>\n",
              "      <td>0.753247</td>\n",
              "      <td>0.334787</td>\n",
              "    </tr>\n",
              "    <tr>\n",
              "      <th>3</th>\n",
              "      <td>three</td>\n",
              "      <td>A</td>\n",
              "      <td>bar</td>\n",
              "      <td>0.567431</td>\n",
              "      <td>0.741301</td>\n",
              "    </tr>\n",
              "    <tr>\n",
              "      <th>4</th>\n",
              "      <td>one</td>\n",
              "      <td>B</td>\n",
              "      <td>bar</td>\n",
              "      <td>-0.448796</td>\n",
              "      <td>-0.207729</td>\n",
              "    </tr>\n",
              "    <tr>\n",
              "      <th>5</th>\n",
              "      <td>one</td>\n",
              "      <td>C</td>\n",
              "      <td>bar</td>\n",
              "      <td>-0.871341</td>\n",
              "      <td>-1.123913</td>\n",
              "    </tr>\n",
              "    <tr>\n",
              "      <th>6</th>\n",
              "      <td>two</td>\n",
              "      <td>A</td>\n",
              "      <td>foo</td>\n",
              "      <td>-1.094104</td>\n",
              "      <td>0.883272</td>\n",
              "    </tr>\n",
              "    <tr>\n",
              "      <th>7</th>\n",
              "      <td>three</td>\n",
              "      <td>B</td>\n",
              "      <td>foo</td>\n",
              "      <td>-0.175043</td>\n",
              "      <td>1.110744</td>\n",
              "    </tr>\n",
              "    <tr>\n",
              "      <th>8</th>\n",
              "      <td>one</td>\n",
              "      <td>C</td>\n",
              "      <td>foo</td>\n",
              "      <td>0.836304</td>\n",
              "      <td>0.543384</td>\n",
              "    </tr>\n",
              "    <tr>\n",
              "      <th>9</th>\n",
              "      <td>one</td>\n",
              "      <td>A</td>\n",
              "      <td>bar</td>\n",
              "      <td>1.326493</td>\n",
              "      <td>-0.745439</td>\n",
              "    </tr>\n",
              "    <tr>\n",
              "      <th>10</th>\n",
              "      <td>two</td>\n",
              "      <td>B</td>\n",
              "      <td>bar</td>\n",
              "      <td>-0.993788</td>\n",
              "      <td>0.170277</td>\n",
              "    </tr>\n",
              "    <tr>\n",
              "      <th>11</th>\n",
              "      <td>three</td>\n",
              "      <td>C</td>\n",
              "      <td>bar</td>\n",
              "      <td>2.145575</td>\n",
              "      <td>-0.729295</td>\n",
              "    </tr>\n",
              "  </tbody>\n",
              "</table>\n",
              "</div>"
            ],
            "text/plain": [
              "        A  B    C         D         E\n",
              "0     one  A  foo  1.040962  0.746796\n",
              "1     one  B  foo  0.243027  1.092538\n",
              "2     two  C  foo  0.753247  0.334787\n",
              "3   three  A  bar  0.567431  0.741301\n",
              "4     one  B  bar -0.448796 -0.207729\n",
              "5     one  C  bar -0.871341 -1.123913\n",
              "6     two  A  foo -1.094104  0.883272\n",
              "7   three  B  foo -0.175043  1.110744\n",
              "8     one  C  foo  0.836304  0.543384\n",
              "9     one  A  bar  1.326493 -0.745439\n",
              "10    two  B  bar -0.993788  0.170277\n",
              "11  three  C  bar  2.145575 -0.729295"
            ]
          },
          "metadata": {
            "tags": []
          },
          "execution_count": 96
        }
      ]
    },
    {
      "cell_type": "code",
      "metadata": {
        "colab": {
          "base_uri": "https://localhost:8080/",
          "height": 359
        },
        "id": "tmsobxHYFKZr",
        "outputId": "af89748b-a9c3-4aaf-c388-ceb3be3b07e3"
      },
      "source": [
        "pd.pivot_table(df, values=\"D\", index=[\"A\", \"B\"], columns=[\"C\"])"
      ],
      "execution_count": 100,
      "outputs": [
        {
          "output_type": "execute_result",
          "data": {
            "text/html": [
              "<div>\n",
              "<style scoped>\n",
              "    .dataframe tbody tr th:only-of-type {\n",
              "        vertical-align: middle;\n",
              "    }\n",
              "\n",
              "    .dataframe tbody tr th {\n",
              "        vertical-align: top;\n",
              "    }\n",
              "\n",
              "    .dataframe thead th {\n",
              "        text-align: right;\n",
              "    }\n",
              "</style>\n",
              "<table border=\"1\" class=\"dataframe\">\n",
              "  <thead>\n",
              "    <tr style=\"text-align: right;\">\n",
              "      <th></th>\n",
              "      <th>C</th>\n",
              "      <th>bar</th>\n",
              "      <th>foo</th>\n",
              "    </tr>\n",
              "    <tr>\n",
              "      <th>A</th>\n",
              "      <th>B</th>\n",
              "      <th></th>\n",
              "      <th></th>\n",
              "    </tr>\n",
              "  </thead>\n",
              "  <tbody>\n",
              "    <tr>\n",
              "      <th rowspan=\"3\" valign=\"top\">one</th>\n",
              "      <th>A</th>\n",
              "      <td>1.326493</td>\n",
              "      <td>1.040962</td>\n",
              "    </tr>\n",
              "    <tr>\n",
              "      <th>B</th>\n",
              "      <td>-0.448796</td>\n",
              "      <td>0.243027</td>\n",
              "    </tr>\n",
              "    <tr>\n",
              "      <th>C</th>\n",
              "      <td>-0.871341</td>\n",
              "      <td>0.836304</td>\n",
              "    </tr>\n",
              "    <tr>\n",
              "      <th rowspan=\"3\" valign=\"top\">three</th>\n",
              "      <th>A</th>\n",
              "      <td>0.567431</td>\n",
              "      <td>NaN</td>\n",
              "    </tr>\n",
              "    <tr>\n",
              "      <th>B</th>\n",
              "      <td>NaN</td>\n",
              "      <td>-0.175043</td>\n",
              "    </tr>\n",
              "    <tr>\n",
              "      <th>C</th>\n",
              "      <td>2.145575</td>\n",
              "      <td>NaN</td>\n",
              "    </tr>\n",
              "    <tr>\n",
              "      <th rowspan=\"3\" valign=\"top\">two</th>\n",
              "      <th>A</th>\n",
              "      <td>NaN</td>\n",
              "      <td>-1.094104</td>\n",
              "    </tr>\n",
              "    <tr>\n",
              "      <th>B</th>\n",
              "      <td>-0.993788</td>\n",
              "      <td>NaN</td>\n",
              "    </tr>\n",
              "    <tr>\n",
              "      <th>C</th>\n",
              "      <td>NaN</td>\n",
              "      <td>0.753247</td>\n",
              "    </tr>\n",
              "  </tbody>\n",
              "</table>\n",
              "</div>"
            ],
            "text/plain": [
              "C             bar       foo\n",
              "A     B                    \n",
              "one   A  1.326493  1.040962\n",
              "      B -0.448796  0.243027\n",
              "      C -0.871341  0.836304\n",
              "three A  0.567431       NaN\n",
              "      B       NaN -0.175043\n",
              "      C  2.145575       NaN\n",
              "two   A       NaN -1.094104\n",
              "      B -0.993788       NaN\n",
              "      C       NaN  0.753247"
            ]
          },
          "metadata": {
            "tags": []
          },
          "execution_count": 100
        }
      ]
    },
    {
      "cell_type": "markdown",
      "metadata": {
        "id": "wiVyPshgDQNk"
      },
      "source": [
        "# Time **series**\n",
        "\n",
        "以時間為切割 算出1hr出進貨量等等......"
      ]
    },
    {
      "cell_type": "code",
      "metadata": {
        "colab": {
          "base_uri": "https://localhost:8080/"
        },
        "id": "YMUT_HScAY9N",
        "outputId": "666e7b0e-077d-4d15-bd63-5abd1e3cf3bf"
      },
      "source": [
        "rng = pd.date_range('1/1/2020', periods=100, freq='s') # 100筆資料，以秒為單位\n",
        "ts = pd.Series(np.random.randint(0, 500, len(rng)), index=rng)\n",
        "ts.resample('1min').sum()"
      ],
      "execution_count": 95,
      "outputs": [
        {
          "output_type": "execute_result",
          "data": {
            "text/plain": [
              "2020-01-01 00:00:00    14864\n",
              "2020-01-01 00:01:00    11392\n",
              "Freq: T, dtype: int64"
            ]
          },
          "metadata": {
            "tags": []
          },
          "execution_count": 95
        }
      ]
    },
    {
      "cell_type": "code",
      "metadata": {
        "id": "_ap9edv_Dn5P"
      },
      "source": [
        ""
      ],
      "execution_count": null,
      "outputs": []
    }
  ]
}
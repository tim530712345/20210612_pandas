{
  "nbformat": 4,
  "nbformat_minor": 0,
  "metadata": {
    "colab": {
      "name": "pandas_learning.ipynb",
      "provenance": [],
      "authorship_tag": "ABX9TyNO1WN8cPJUKF64OtuQwdUy",
      "include_colab_link": true
    },
    "kernelspec": {
      "name": "python3",
      "display_name": "Python 3"
    },
    "language_info": {
      "name": "python"
    }
  },
  "cells": [
    {
      "cell_type": "markdown",
      "metadata": {
        "id": "view-in-github",
        "colab_type": "text"
      },
      "source": [
        "<a href=\"https://colab.research.google.com/github/tim530712345/20210612_pandas/blob/main/pandas_learning.ipynb\" target=\"_parent\"><img src=\"https://colab.research.google.com/assets/colab-badge.svg\" alt=\"Open In Colab\"/></a>"
      ]
    },
    {
      "cell_type": "code",
      "metadata": {
        "id": "8CGWFQJAH9hw"
      },
      "source": [
        "import numpy as np\n",
        "import pandas as pd"
      ],
      "execution_count": 1,
      "outputs": []
    },
    {
      "cell_type": "code",
      "metadata": {
        "colab": {
          "base_uri": "https://localhost:8080/"
        },
        "id": "_Z556XnuIYH0",
        "outputId": "069f071c-907a-4169-82cf-7186796f1de5"
      },
      "source": [
        "pd.Series([1,2,3,np.nan,6,8]) # np.nan 空值"
      ],
      "execution_count": 2,
      "outputs": [
        {
          "output_type": "execute_result",
          "data": {
            "text/plain": [
              "0    1.0\n",
              "1    2.0\n",
              "2    3.0\n",
              "3    NaN\n",
              "4    6.0\n",
              "5    8.0\n",
              "dtype: float64"
            ]
          },
          "metadata": {
            "tags": []
          },
          "execution_count": 2
        }
      ]
    },
    {
      "cell_type": "code",
      "metadata": {
        "colab": {
          "base_uri": "https://localhost:8080/"
        },
        "id": "JO5hsZ41JdDO",
        "outputId": "3ad5bbb6-6c20-4915-82f0-54572407a6f2"
      },
      "source": [
        "dates = pd.date_range(\"20200101\", periods=6)\n",
        "dates"
      ],
      "execution_count": 5,
      "outputs": [
        {
          "output_type": "execute_result",
          "data": {
            "text/plain": [
              "DatetimeIndex(['2020-01-01', '2020-01-02', '2020-01-03', '2020-01-04',\n",
              "               '2020-01-05', '2020-01-06'],\n",
              "              dtype='datetime64[ns]', freq='D')"
            ]
          },
          "metadata": {
            "tags": []
          },
          "execution_count": 5
        }
      ]
    },
    {
      "cell_type": "code",
      "metadata": {
        "colab": {
          "base_uri": "https://localhost:8080/",
          "height": 235
        },
        "id": "1FfyPvsOJwqF",
        "outputId": "b178b343-3f3e-4976-9779-b3ffbb2c00e2"
      },
      "source": [
        "df = pd.DataFrame(np.random.randn(6,4),index=dates,columns=list('ABCD')) # np.random.randn(6,4) 建立一個6*4的隨機數字矩陣\n",
        "df"
      ],
      "execution_count": 6,
      "outputs": [
        {
          "output_type": "execute_result",
          "data": {
            "text/html": [
              "<div>\n",
              "<style scoped>\n",
              "    .dataframe tbody tr th:only-of-type {\n",
              "        vertical-align: middle;\n",
              "    }\n",
              "\n",
              "    .dataframe tbody tr th {\n",
              "        vertical-align: top;\n",
              "    }\n",
              "\n",
              "    .dataframe thead th {\n",
              "        text-align: right;\n",
              "    }\n",
              "</style>\n",
              "<table border=\"1\" class=\"dataframe\">\n",
              "  <thead>\n",
              "    <tr style=\"text-align: right;\">\n",
              "      <th></th>\n",
              "      <th>A</th>\n",
              "      <th>B</th>\n",
              "      <th>C</th>\n",
              "      <th>D</th>\n",
              "    </tr>\n",
              "  </thead>\n",
              "  <tbody>\n",
              "    <tr>\n",
              "      <th>2020-01-01</th>\n",
              "      <td>0.985463</td>\n",
              "      <td>2.364535</td>\n",
              "      <td>0.986302</td>\n",
              "      <td>-1.883043</td>\n",
              "    </tr>\n",
              "    <tr>\n",
              "      <th>2020-01-02</th>\n",
              "      <td>0.873004</td>\n",
              "      <td>0.137808</td>\n",
              "      <td>0.990764</td>\n",
              "      <td>-1.023394</td>\n",
              "    </tr>\n",
              "    <tr>\n",
              "      <th>2020-01-03</th>\n",
              "      <td>1.999931</td>\n",
              "      <td>1.602989</td>\n",
              "      <td>-0.997345</td>\n",
              "      <td>-0.606740</td>\n",
              "    </tr>\n",
              "    <tr>\n",
              "      <th>2020-01-04</th>\n",
              "      <td>-0.736284</td>\n",
              "      <td>-1.436716</td>\n",
              "      <td>1.811139</td>\n",
              "      <td>0.767786</td>\n",
              "    </tr>\n",
              "    <tr>\n",
              "      <th>2020-01-05</th>\n",
              "      <td>0.491588</td>\n",
              "      <td>-2.103403</td>\n",
              "      <td>0.759479</td>\n",
              "      <td>-1.480084</td>\n",
              "    </tr>\n",
              "    <tr>\n",
              "      <th>2020-01-06</th>\n",
              "      <td>0.451771</td>\n",
              "      <td>-0.275884</td>\n",
              "      <td>3.164966</td>\n",
              "      <td>0.460151</td>\n",
              "    </tr>\n",
              "  </tbody>\n",
              "</table>\n",
              "</div>"
            ],
            "text/plain": [
              "                   A         B         C         D\n",
              "2020-01-01  0.985463  2.364535  0.986302 -1.883043\n",
              "2020-01-02  0.873004  0.137808  0.990764 -1.023394\n",
              "2020-01-03  1.999931  1.602989 -0.997345 -0.606740\n",
              "2020-01-04 -0.736284 -1.436716  1.811139  0.767786\n",
              "2020-01-05  0.491588 -2.103403  0.759479 -1.480084\n",
              "2020-01-06  0.451771 -0.275884  3.164966  0.460151"
            ]
          },
          "metadata": {
            "tags": []
          },
          "execution_count": 6
        }
      ]
    },
    {
      "cell_type": "code",
      "metadata": {
        "colab": {
          "base_uri": "https://localhost:8080/",
          "height": 173
        },
        "id": "Fm858swlLEwF",
        "outputId": "f17a9e8b-5201-403d-8752-670bd8c85b15"
      },
      "source": [
        "df2 = pd.DataFrame(\n",
        "   ...:     {\n",
        "   ...:         \"A\": 1.0,\n",
        "   ...:         \"B\": pd.Timestamp(\"20130102\"),\n",
        "   ...:         \"C\": pd.Series(1, index=list(range(4)), dtype=\"float32\"),\n",
        "   ...:         \"D\": np.array([3] * 4, dtype=\"int32\"),\n",
        "   ...:         \"E\": pd.Categorical([\"test\", \"train\", \"test\", \"train\"]),\n",
        "   ...:         \"F\": \"foo\",\n",
        "   ...:     }\n",
        "   ...: )\n",
        "df2"
      ],
      "execution_count": 7,
      "outputs": [
        {
          "output_type": "execute_result",
          "data": {
            "text/html": [
              "<div>\n",
              "<style scoped>\n",
              "    .dataframe tbody tr th:only-of-type {\n",
              "        vertical-align: middle;\n",
              "    }\n",
              "\n",
              "    .dataframe tbody tr th {\n",
              "        vertical-align: top;\n",
              "    }\n",
              "\n",
              "    .dataframe thead th {\n",
              "        text-align: right;\n",
              "    }\n",
              "</style>\n",
              "<table border=\"1\" class=\"dataframe\">\n",
              "  <thead>\n",
              "    <tr style=\"text-align: right;\">\n",
              "      <th></th>\n",
              "      <th>A</th>\n",
              "      <th>B</th>\n",
              "      <th>C</th>\n",
              "      <th>D</th>\n",
              "      <th>E</th>\n",
              "      <th>F</th>\n",
              "    </tr>\n",
              "  </thead>\n",
              "  <tbody>\n",
              "    <tr>\n",
              "      <th>0</th>\n",
              "      <td>1.0</td>\n",
              "      <td>2013-01-02</td>\n",
              "      <td>1.0</td>\n",
              "      <td>3</td>\n",
              "      <td>test</td>\n",
              "      <td>foo</td>\n",
              "    </tr>\n",
              "    <tr>\n",
              "      <th>1</th>\n",
              "      <td>1.0</td>\n",
              "      <td>2013-01-02</td>\n",
              "      <td>1.0</td>\n",
              "      <td>3</td>\n",
              "      <td>train</td>\n",
              "      <td>foo</td>\n",
              "    </tr>\n",
              "    <tr>\n",
              "      <th>2</th>\n",
              "      <td>1.0</td>\n",
              "      <td>2013-01-02</td>\n",
              "      <td>1.0</td>\n",
              "      <td>3</td>\n",
              "      <td>test</td>\n",
              "      <td>foo</td>\n",
              "    </tr>\n",
              "    <tr>\n",
              "      <th>3</th>\n",
              "      <td>1.0</td>\n",
              "      <td>2013-01-02</td>\n",
              "      <td>1.0</td>\n",
              "      <td>3</td>\n",
              "      <td>train</td>\n",
              "      <td>foo</td>\n",
              "    </tr>\n",
              "  </tbody>\n",
              "</table>\n",
              "</div>"
            ],
            "text/plain": [
              "     A          B    C  D      E    F\n",
              "0  1.0 2013-01-02  1.0  3   test  foo\n",
              "1  1.0 2013-01-02  1.0  3  train  foo\n",
              "2  1.0 2013-01-02  1.0  3   test  foo\n",
              "3  1.0 2013-01-02  1.0  3  train  foo"
            ]
          },
          "metadata": {
            "tags": []
          },
          "execution_count": 7
        }
      ]
    },
    {
      "cell_type": "code",
      "metadata": {
        "colab": {
          "base_uri": "https://localhost:8080/"
        },
        "id": "wZ3KgJFQLPb4",
        "outputId": "2148b554-ea55-44c6-cecd-3f6e8fe6d030"
      },
      "source": [
        "df2.dtypes"
      ],
      "execution_count": 8,
      "outputs": [
        {
          "output_type": "execute_result",
          "data": {
            "text/plain": [
              "A           float64\n",
              "B    datetime64[ns]\n",
              "C           float32\n",
              "D             int32\n",
              "E          category\n",
              "F            object\n",
              "dtype: object"
            ]
          },
          "metadata": {
            "tags": []
          },
          "execution_count": 8
        }
      ]
    },
    {
      "cell_type": "code",
      "metadata": {
        "colab": {
          "base_uri": "https://localhost:8080/",
          "height": 204
        },
        "id": "E4eZbm9gLW8Y",
        "outputId": "b0c6d5ff-b57e-4999-b196-02a1626887b6"
      },
      "source": [
        "df.head() # 前五筆資料"
      ],
      "execution_count": 9,
      "outputs": [
        {
          "output_type": "execute_result",
          "data": {
            "text/html": [
              "<div>\n",
              "<style scoped>\n",
              "    .dataframe tbody tr th:only-of-type {\n",
              "        vertical-align: middle;\n",
              "    }\n",
              "\n",
              "    .dataframe tbody tr th {\n",
              "        vertical-align: top;\n",
              "    }\n",
              "\n",
              "    .dataframe thead th {\n",
              "        text-align: right;\n",
              "    }\n",
              "</style>\n",
              "<table border=\"1\" class=\"dataframe\">\n",
              "  <thead>\n",
              "    <tr style=\"text-align: right;\">\n",
              "      <th></th>\n",
              "      <th>A</th>\n",
              "      <th>B</th>\n",
              "      <th>C</th>\n",
              "      <th>D</th>\n",
              "    </tr>\n",
              "  </thead>\n",
              "  <tbody>\n",
              "    <tr>\n",
              "      <th>2020-01-01</th>\n",
              "      <td>0.985463</td>\n",
              "      <td>2.364535</td>\n",
              "      <td>0.986302</td>\n",
              "      <td>-1.883043</td>\n",
              "    </tr>\n",
              "    <tr>\n",
              "      <th>2020-01-02</th>\n",
              "      <td>0.873004</td>\n",
              "      <td>0.137808</td>\n",
              "      <td>0.990764</td>\n",
              "      <td>-1.023394</td>\n",
              "    </tr>\n",
              "    <tr>\n",
              "      <th>2020-01-03</th>\n",
              "      <td>1.999931</td>\n",
              "      <td>1.602989</td>\n",
              "      <td>-0.997345</td>\n",
              "      <td>-0.606740</td>\n",
              "    </tr>\n",
              "    <tr>\n",
              "      <th>2020-01-04</th>\n",
              "      <td>-0.736284</td>\n",
              "      <td>-1.436716</td>\n",
              "      <td>1.811139</td>\n",
              "      <td>0.767786</td>\n",
              "    </tr>\n",
              "    <tr>\n",
              "      <th>2020-01-05</th>\n",
              "      <td>0.491588</td>\n",
              "      <td>-2.103403</td>\n",
              "      <td>0.759479</td>\n",
              "      <td>-1.480084</td>\n",
              "    </tr>\n",
              "  </tbody>\n",
              "</table>\n",
              "</div>"
            ],
            "text/plain": [
              "                   A         B         C         D\n",
              "2020-01-01  0.985463  2.364535  0.986302 -1.883043\n",
              "2020-01-02  0.873004  0.137808  0.990764 -1.023394\n",
              "2020-01-03  1.999931  1.602989 -0.997345 -0.606740\n",
              "2020-01-04 -0.736284 -1.436716  1.811139  0.767786\n",
              "2020-01-05  0.491588 -2.103403  0.759479 -1.480084"
            ]
          },
          "metadata": {
            "tags": []
          },
          "execution_count": 9
        }
      ]
    },
    {
      "cell_type": "code",
      "metadata": {
        "colab": {
          "base_uri": "https://localhost:8080/",
          "height": 204
        },
        "id": "Bb07UOI0Lyqp",
        "outputId": "84335fb8-7297-4674-e57d-96a79a53df29"
      },
      "source": [
        "df.tail() # 後五筆資料"
      ],
      "execution_count": 10,
      "outputs": [
        {
          "output_type": "execute_result",
          "data": {
            "text/html": [
              "<div>\n",
              "<style scoped>\n",
              "    .dataframe tbody tr th:only-of-type {\n",
              "        vertical-align: middle;\n",
              "    }\n",
              "\n",
              "    .dataframe tbody tr th {\n",
              "        vertical-align: top;\n",
              "    }\n",
              "\n",
              "    .dataframe thead th {\n",
              "        text-align: right;\n",
              "    }\n",
              "</style>\n",
              "<table border=\"1\" class=\"dataframe\">\n",
              "  <thead>\n",
              "    <tr style=\"text-align: right;\">\n",
              "      <th></th>\n",
              "      <th>A</th>\n",
              "      <th>B</th>\n",
              "      <th>C</th>\n",
              "      <th>D</th>\n",
              "    </tr>\n",
              "  </thead>\n",
              "  <tbody>\n",
              "    <tr>\n",
              "      <th>2020-01-02</th>\n",
              "      <td>0.873004</td>\n",
              "      <td>0.137808</td>\n",
              "      <td>0.990764</td>\n",
              "      <td>-1.023394</td>\n",
              "    </tr>\n",
              "    <tr>\n",
              "      <th>2020-01-03</th>\n",
              "      <td>1.999931</td>\n",
              "      <td>1.602989</td>\n",
              "      <td>-0.997345</td>\n",
              "      <td>-0.606740</td>\n",
              "    </tr>\n",
              "    <tr>\n",
              "      <th>2020-01-04</th>\n",
              "      <td>-0.736284</td>\n",
              "      <td>-1.436716</td>\n",
              "      <td>1.811139</td>\n",
              "      <td>0.767786</td>\n",
              "    </tr>\n",
              "    <tr>\n",
              "      <th>2020-01-05</th>\n",
              "      <td>0.491588</td>\n",
              "      <td>-2.103403</td>\n",
              "      <td>0.759479</td>\n",
              "      <td>-1.480084</td>\n",
              "    </tr>\n",
              "    <tr>\n",
              "      <th>2020-01-06</th>\n",
              "      <td>0.451771</td>\n",
              "      <td>-0.275884</td>\n",
              "      <td>3.164966</td>\n",
              "      <td>0.460151</td>\n",
              "    </tr>\n",
              "  </tbody>\n",
              "</table>\n",
              "</div>"
            ],
            "text/plain": [
              "                   A         B         C         D\n",
              "2020-01-02  0.873004  0.137808  0.990764 -1.023394\n",
              "2020-01-03  1.999931  1.602989 -0.997345 -0.606740\n",
              "2020-01-04 -0.736284 -1.436716  1.811139  0.767786\n",
              "2020-01-05  0.491588 -2.103403  0.759479 -1.480084\n",
              "2020-01-06  0.451771 -0.275884  3.164966  0.460151"
            ]
          },
          "metadata": {
            "tags": []
          },
          "execution_count": 10
        }
      ]
    },
    {
      "cell_type": "code",
      "metadata": {
        "id": "SRZrnKv2MYv2"
      },
      "source": [
        "# df2.A                  df2.bool\n",
        "# df2.abs                df2.boxplot\n",
        "# df2.add                df2.C\n",
        "# df2.add_prefix         df2.clip\n",
        "# df2.add_suffix         df2.columns\n",
        "# df2.align              df2.copy\n",
        "# df2.all                df2.count\n",
        "# df2.any                df2.combine\n",
        "# df2.append             df2.D\n",
        "# df2.apply              df2.describe\n",
        "# df2.applymap           df2.diff\n",
        "# df2.B                  df2.duplicated"
      ],
      "execution_count": 14,
      "outputs": []
    },
    {
      "cell_type": "code",
      "metadata": {
        "colab": {
          "base_uri": "https://localhost:8080/"
        },
        "id": "Zep117jOMail",
        "outputId": "adeaa7c1-168f-41d8-b27d-c7c804a3ab19"
      },
      "source": [
        "df.index"
      ],
      "execution_count": 15,
      "outputs": [
        {
          "output_type": "execute_result",
          "data": {
            "text/plain": [
              "DatetimeIndex(['2020-01-01', '2020-01-02', '2020-01-03', '2020-01-04',\n",
              "               '2020-01-05', '2020-01-06'],\n",
              "              dtype='datetime64[ns]', freq='D')"
            ]
          },
          "metadata": {
            "tags": []
          },
          "execution_count": 15
        }
      ]
    },
    {
      "cell_type": "code",
      "metadata": {
        "colab": {
          "base_uri": "https://localhost:8080/"
        },
        "id": "Z43ykcoPMhmr",
        "outputId": "3ba11b60-01c6-4da6-dd95-e87e7f219350"
      },
      "source": [
        "df.columns"
      ],
      "execution_count": 16,
      "outputs": [
        {
          "output_type": "execute_result",
          "data": {
            "text/plain": [
              "Index(['A', 'B', 'C', 'D'], dtype='object')"
            ]
          },
          "metadata": {
            "tags": []
          },
          "execution_count": 16
        }
      ]
    },
    {
      "cell_type": "code",
      "metadata": {
        "colab": {
          "base_uri": "https://localhost:8080/"
        },
        "id": "0LlQ3_rmMkXG",
        "outputId": "68ff9c31-d53a-40c0-f672-65d45e45ab48"
      },
      "source": [
        "df.to_numpy()"
      ],
      "execution_count": 17,
      "outputs": [
        {
          "output_type": "execute_result",
          "data": {
            "text/plain": [
              "array([[ 0.98546302,  2.36453528,  0.98630217, -1.88304348],\n",
              "       [ 0.87300421,  0.13780801,  0.99076397, -1.02339405],\n",
              "       [ 1.99993135,  1.60298867, -0.99734532, -0.60674049],\n",
              "       [-0.73628391, -1.43671642,  1.81113852,  0.76778559],\n",
              "       [ 0.49158781, -2.10340341,  0.75947851, -1.48008404],\n",
              "       [ 0.4517705 , -0.27588406,  3.16496638,  0.46015133]])"
            ]
          },
          "metadata": {
            "tags": []
          },
          "execution_count": 17
        }
      ]
    },
    {
      "cell_type": "code",
      "metadata": {
        "colab": {
          "base_uri": "https://localhost:8080/"
        },
        "id": "UPn-t4wPMo0o",
        "outputId": "b4bf3cc3-f84b-462d-af0e-9b4853cb6478"
      },
      "source": [
        "df2.to_numpy() # 轉換成n維陣列"
      ],
      "execution_count": 18,
      "outputs": [
        {
          "output_type": "execute_result",
          "data": {
            "text/plain": [
              "array([[1.0, Timestamp('2013-01-02 00:00:00'), 1.0, 3, 'test', 'foo'],\n",
              "       [1.0, Timestamp('2013-01-02 00:00:00'), 1.0, 3, 'train', 'foo'],\n",
              "       [1.0, Timestamp('2013-01-02 00:00:00'), 1.0, 3, 'test', 'foo'],\n",
              "       [1.0, Timestamp('2013-01-02 00:00:00'), 1.0, 3, 'train', 'foo']],\n",
              "      dtype=object)"
            ]
          },
          "metadata": {
            "tags": []
          },
          "execution_count": 18
        }
      ]
    },
    {
      "cell_type": "code",
      "metadata": {
        "colab": {
          "base_uri": "https://localhost:8080/",
          "height": 297
        },
        "id": "8fJOTjTJMzHd",
        "outputId": "c125cbfd-f9e9-4b00-c3cf-949c73d427a2"
      },
      "source": [
        "df.describe() # "
      ],
      "execution_count": 19,
      "outputs": [
        {
          "output_type": "execute_result",
          "data": {
            "text/html": [
              "<div>\n",
              "<style scoped>\n",
              "    .dataframe tbody tr th:only-of-type {\n",
              "        vertical-align: middle;\n",
              "    }\n",
              "\n",
              "    .dataframe tbody tr th {\n",
              "        vertical-align: top;\n",
              "    }\n",
              "\n",
              "    .dataframe thead th {\n",
              "        text-align: right;\n",
              "    }\n",
              "</style>\n",
              "<table border=\"1\" class=\"dataframe\">\n",
              "  <thead>\n",
              "    <tr style=\"text-align: right;\">\n",
              "      <th></th>\n",
              "      <th>A</th>\n",
              "      <th>B</th>\n",
              "      <th>C</th>\n",
              "      <th>D</th>\n",
              "    </tr>\n",
              "  </thead>\n",
              "  <tbody>\n",
              "    <tr>\n",
              "      <th>count</th>\n",
              "      <td>6.000000</td>\n",
              "      <td>6.000000</td>\n",
              "      <td>6.000000</td>\n",
              "      <td>6.000000</td>\n",
              "    </tr>\n",
              "    <tr>\n",
              "      <th>mean</th>\n",
              "      <td>0.677579</td>\n",
              "      <td>0.048221</td>\n",
              "      <td>1.119217</td>\n",
              "      <td>-0.627554</td>\n",
              "    </tr>\n",
              "    <tr>\n",
              "      <th>std</th>\n",
              "      <td>0.890639</td>\n",
              "      <td>1.716404</td>\n",
              "      <td>1.364350</td>\n",
              "      <td>1.057380</td>\n",
              "    </tr>\n",
              "    <tr>\n",
              "      <th>min</th>\n",
              "      <td>-0.736284</td>\n",
              "      <td>-2.103403</td>\n",
              "      <td>-0.997345</td>\n",
              "      <td>-1.883043</td>\n",
              "    </tr>\n",
              "    <tr>\n",
              "      <th>25%</th>\n",
              "      <td>0.461725</td>\n",
              "      <td>-1.146508</td>\n",
              "      <td>0.816184</td>\n",
              "      <td>-1.365912</td>\n",
              "    </tr>\n",
              "    <tr>\n",
              "      <th>50%</th>\n",
              "      <td>0.682296</td>\n",
              "      <td>-0.069038</td>\n",
              "      <td>0.988533</td>\n",
              "      <td>-0.815067</td>\n",
              "    </tr>\n",
              "    <tr>\n",
              "      <th>75%</th>\n",
              "      <td>0.957348</td>\n",
              "      <td>1.236694</td>\n",
              "      <td>1.606045</td>\n",
              "      <td>0.193428</td>\n",
              "    </tr>\n",
              "    <tr>\n",
              "      <th>max</th>\n",
              "      <td>1.999931</td>\n",
              "      <td>2.364535</td>\n",
              "      <td>3.164966</td>\n",
              "      <td>0.767786</td>\n",
              "    </tr>\n",
              "  </tbody>\n",
              "</table>\n",
              "</div>"
            ],
            "text/plain": [
              "              A         B         C         D\n",
              "count  6.000000  6.000000  6.000000  6.000000\n",
              "mean   0.677579  0.048221  1.119217 -0.627554\n",
              "std    0.890639  1.716404  1.364350  1.057380\n",
              "min   -0.736284 -2.103403 -0.997345 -1.883043\n",
              "25%    0.461725 -1.146508  0.816184 -1.365912\n",
              "50%    0.682296 -0.069038  0.988533 -0.815067\n",
              "75%    0.957348  1.236694  1.606045  0.193428\n",
              "max    1.999931  2.364535  3.164966  0.767786"
            ]
          },
          "metadata": {
            "tags": []
          },
          "execution_count": 19
        }
      ]
    },
    {
      "cell_type": "code",
      "metadata": {
        "colab": {
          "base_uri": "https://localhost:8080/",
          "height": 173
        },
        "id": "OhGr-1teNDLw",
        "outputId": "cc40600a-790a-4e6e-974a-c0df0afa9bb4"
      },
      "source": [
        "df.T # 列-->欄，欄-->列"
      ],
      "execution_count": 20,
      "outputs": [
        {
          "output_type": "execute_result",
          "data": {
            "text/html": [
              "<div>\n",
              "<style scoped>\n",
              "    .dataframe tbody tr th:only-of-type {\n",
              "        vertical-align: middle;\n",
              "    }\n",
              "\n",
              "    .dataframe tbody tr th {\n",
              "        vertical-align: top;\n",
              "    }\n",
              "\n",
              "    .dataframe thead th {\n",
              "        text-align: right;\n",
              "    }\n",
              "</style>\n",
              "<table border=\"1\" class=\"dataframe\">\n",
              "  <thead>\n",
              "    <tr style=\"text-align: right;\">\n",
              "      <th></th>\n",
              "      <th>2020-01-01</th>\n",
              "      <th>2020-01-02</th>\n",
              "      <th>2020-01-03</th>\n",
              "      <th>2020-01-04</th>\n",
              "      <th>2020-01-05</th>\n",
              "      <th>2020-01-06</th>\n",
              "    </tr>\n",
              "  </thead>\n",
              "  <tbody>\n",
              "    <tr>\n",
              "      <th>A</th>\n",
              "      <td>0.985463</td>\n",
              "      <td>0.873004</td>\n",
              "      <td>1.999931</td>\n",
              "      <td>-0.736284</td>\n",
              "      <td>0.491588</td>\n",
              "      <td>0.451771</td>\n",
              "    </tr>\n",
              "    <tr>\n",
              "      <th>B</th>\n",
              "      <td>2.364535</td>\n",
              "      <td>0.137808</td>\n",
              "      <td>1.602989</td>\n",
              "      <td>-1.436716</td>\n",
              "      <td>-2.103403</td>\n",
              "      <td>-0.275884</td>\n",
              "    </tr>\n",
              "    <tr>\n",
              "      <th>C</th>\n",
              "      <td>0.986302</td>\n",
              "      <td>0.990764</td>\n",
              "      <td>-0.997345</td>\n",
              "      <td>1.811139</td>\n",
              "      <td>0.759479</td>\n",
              "      <td>3.164966</td>\n",
              "    </tr>\n",
              "    <tr>\n",
              "      <th>D</th>\n",
              "      <td>-1.883043</td>\n",
              "      <td>-1.023394</td>\n",
              "      <td>-0.606740</td>\n",
              "      <td>0.767786</td>\n",
              "      <td>-1.480084</td>\n",
              "      <td>0.460151</td>\n",
              "    </tr>\n",
              "  </tbody>\n",
              "</table>\n",
              "</div>"
            ],
            "text/plain": [
              "   2020-01-01  2020-01-02  2020-01-03  2020-01-04  2020-01-05  2020-01-06\n",
              "A    0.985463    0.873004    1.999931   -0.736284    0.491588    0.451771\n",
              "B    2.364535    0.137808    1.602989   -1.436716   -2.103403   -0.275884\n",
              "C    0.986302    0.990764   -0.997345    1.811139    0.759479    3.164966\n",
              "D   -1.883043   -1.023394   -0.606740    0.767786   -1.480084    0.460151"
            ]
          },
          "metadata": {
            "tags": []
          },
          "execution_count": 20
        }
      ]
    },
    {
      "cell_type": "code",
      "metadata": {
        "colab": {
          "base_uri": "https://localhost:8080/",
          "height": 235
        },
        "id": "Iqf0OJ6pNVoQ",
        "outputId": "0e8e19fa-8738-465b-c102-6cca66530f46"
      },
      "source": [
        "df.sort_index(axis=1,ascending=False) # axis=1 欄軸 ，ascending=False 降序排列"
      ],
      "execution_count": 21,
      "outputs": [
        {
          "output_type": "execute_result",
          "data": {
            "text/html": [
              "<div>\n",
              "<style scoped>\n",
              "    .dataframe tbody tr th:only-of-type {\n",
              "        vertical-align: middle;\n",
              "    }\n",
              "\n",
              "    .dataframe tbody tr th {\n",
              "        vertical-align: top;\n",
              "    }\n",
              "\n",
              "    .dataframe thead th {\n",
              "        text-align: right;\n",
              "    }\n",
              "</style>\n",
              "<table border=\"1\" class=\"dataframe\">\n",
              "  <thead>\n",
              "    <tr style=\"text-align: right;\">\n",
              "      <th></th>\n",
              "      <th>D</th>\n",
              "      <th>C</th>\n",
              "      <th>B</th>\n",
              "      <th>A</th>\n",
              "    </tr>\n",
              "  </thead>\n",
              "  <tbody>\n",
              "    <tr>\n",
              "      <th>2020-01-01</th>\n",
              "      <td>-1.883043</td>\n",
              "      <td>0.986302</td>\n",
              "      <td>2.364535</td>\n",
              "      <td>0.985463</td>\n",
              "    </tr>\n",
              "    <tr>\n",
              "      <th>2020-01-02</th>\n",
              "      <td>-1.023394</td>\n",
              "      <td>0.990764</td>\n",
              "      <td>0.137808</td>\n",
              "      <td>0.873004</td>\n",
              "    </tr>\n",
              "    <tr>\n",
              "      <th>2020-01-03</th>\n",
              "      <td>-0.606740</td>\n",
              "      <td>-0.997345</td>\n",
              "      <td>1.602989</td>\n",
              "      <td>1.999931</td>\n",
              "    </tr>\n",
              "    <tr>\n",
              "      <th>2020-01-04</th>\n",
              "      <td>0.767786</td>\n",
              "      <td>1.811139</td>\n",
              "      <td>-1.436716</td>\n",
              "      <td>-0.736284</td>\n",
              "    </tr>\n",
              "    <tr>\n",
              "      <th>2020-01-05</th>\n",
              "      <td>-1.480084</td>\n",
              "      <td>0.759479</td>\n",
              "      <td>-2.103403</td>\n",
              "      <td>0.491588</td>\n",
              "    </tr>\n",
              "    <tr>\n",
              "      <th>2020-01-06</th>\n",
              "      <td>0.460151</td>\n",
              "      <td>3.164966</td>\n",
              "      <td>-0.275884</td>\n",
              "      <td>0.451771</td>\n",
              "    </tr>\n",
              "  </tbody>\n",
              "</table>\n",
              "</div>"
            ],
            "text/plain": [
              "                   D         C         B         A\n",
              "2020-01-01 -1.883043  0.986302  2.364535  0.985463\n",
              "2020-01-02 -1.023394  0.990764  0.137808  0.873004\n",
              "2020-01-03 -0.606740 -0.997345  1.602989  1.999931\n",
              "2020-01-04  0.767786  1.811139 -1.436716 -0.736284\n",
              "2020-01-05 -1.480084  0.759479 -2.103403  0.491588\n",
              "2020-01-06  0.460151  3.164966 -0.275884  0.451771"
            ]
          },
          "metadata": {
            "tags": []
          },
          "execution_count": 21
        }
      ]
    },
    {
      "cell_type": "code",
      "metadata": {
        "colab": {
          "base_uri": "https://localhost:8080/",
          "height": 235
        },
        "id": "FkHet8woOmdh",
        "outputId": "09e7defd-2f03-4e78-f66a-c9518a2600a0"
      },
      "source": [
        "df.sort_index(axis=0,ascending=True) # axis=0 列軸(索引) ascending=True 升序排列"
      ],
      "execution_count": 23,
      "outputs": [
        {
          "output_type": "execute_result",
          "data": {
            "text/html": [
              "<div>\n",
              "<style scoped>\n",
              "    .dataframe tbody tr th:only-of-type {\n",
              "        vertical-align: middle;\n",
              "    }\n",
              "\n",
              "    .dataframe tbody tr th {\n",
              "        vertical-align: top;\n",
              "    }\n",
              "\n",
              "    .dataframe thead th {\n",
              "        text-align: right;\n",
              "    }\n",
              "</style>\n",
              "<table border=\"1\" class=\"dataframe\">\n",
              "  <thead>\n",
              "    <tr style=\"text-align: right;\">\n",
              "      <th></th>\n",
              "      <th>A</th>\n",
              "      <th>B</th>\n",
              "      <th>C</th>\n",
              "      <th>D</th>\n",
              "    </tr>\n",
              "  </thead>\n",
              "  <tbody>\n",
              "    <tr>\n",
              "      <th>2020-01-01</th>\n",
              "      <td>0.985463</td>\n",
              "      <td>2.364535</td>\n",
              "      <td>0.986302</td>\n",
              "      <td>-1.883043</td>\n",
              "    </tr>\n",
              "    <tr>\n",
              "      <th>2020-01-02</th>\n",
              "      <td>0.873004</td>\n",
              "      <td>0.137808</td>\n",
              "      <td>0.990764</td>\n",
              "      <td>-1.023394</td>\n",
              "    </tr>\n",
              "    <tr>\n",
              "      <th>2020-01-03</th>\n",
              "      <td>1.999931</td>\n",
              "      <td>1.602989</td>\n",
              "      <td>-0.997345</td>\n",
              "      <td>-0.606740</td>\n",
              "    </tr>\n",
              "    <tr>\n",
              "      <th>2020-01-04</th>\n",
              "      <td>-0.736284</td>\n",
              "      <td>-1.436716</td>\n",
              "      <td>1.811139</td>\n",
              "      <td>0.767786</td>\n",
              "    </tr>\n",
              "    <tr>\n",
              "      <th>2020-01-05</th>\n",
              "      <td>0.491588</td>\n",
              "      <td>-2.103403</td>\n",
              "      <td>0.759479</td>\n",
              "      <td>-1.480084</td>\n",
              "    </tr>\n",
              "    <tr>\n",
              "      <th>2020-01-06</th>\n",
              "      <td>0.451771</td>\n",
              "      <td>-0.275884</td>\n",
              "      <td>3.164966</td>\n",
              "      <td>0.460151</td>\n",
              "    </tr>\n",
              "  </tbody>\n",
              "</table>\n",
              "</div>"
            ],
            "text/plain": [
              "                   A         B         C         D\n",
              "2020-01-01  0.985463  2.364535  0.986302 -1.883043\n",
              "2020-01-02  0.873004  0.137808  0.990764 -1.023394\n",
              "2020-01-03  1.999931  1.602989 -0.997345 -0.606740\n",
              "2020-01-04 -0.736284 -1.436716  1.811139  0.767786\n",
              "2020-01-05  0.491588 -2.103403  0.759479 -1.480084\n",
              "2020-01-06  0.451771 -0.275884  3.164966  0.460151"
            ]
          },
          "metadata": {
            "tags": []
          },
          "execution_count": 23
        }
      ]
    },
    {
      "cell_type": "code",
      "metadata": {
        "colab": {
          "base_uri": "https://localhost:8080/",
          "height": 235
        },
        "id": "Msl0z1YvPa5e",
        "outputId": "5a7ac259-b676-45f2-f0de-5d3ff00f2640"
      },
      "source": [
        "df.sort_values(by='C') # 依據C來做升序排列"
      ],
      "execution_count": 24,
      "outputs": [
        {
          "output_type": "execute_result",
          "data": {
            "text/html": [
              "<div>\n",
              "<style scoped>\n",
              "    .dataframe tbody tr th:only-of-type {\n",
              "        vertical-align: middle;\n",
              "    }\n",
              "\n",
              "    .dataframe tbody tr th {\n",
              "        vertical-align: top;\n",
              "    }\n",
              "\n",
              "    .dataframe thead th {\n",
              "        text-align: right;\n",
              "    }\n",
              "</style>\n",
              "<table border=\"1\" class=\"dataframe\">\n",
              "  <thead>\n",
              "    <tr style=\"text-align: right;\">\n",
              "      <th></th>\n",
              "      <th>A</th>\n",
              "      <th>B</th>\n",
              "      <th>C</th>\n",
              "      <th>D</th>\n",
              "    </tr>\n",
              "  </thead>\n",
              "  <tbody>\n",
              "    <tr>\n",
              "      <th>2020-01-03</th>\n",
              "      <td>1.999931</td>\n",
              "      <td>1.602989</td>\n",
              "      <td>-0.997345</td>\n",
              "      <td>-0.606740</td>\n",
              "    </tr>\n",
              "    <tr>\n",
              "      <th>2020-01-05</th>\n",
              "      <td>0.491588</td>\n",
              "      <td>-2.103403</td>\n",
              "      <td>0.759479</td>\n",
              "      <td>-1.480084</td>\n",
              "    </tr>\n",
              "    <tr>\n",
              "      <th>2020-01-01</th>\n",
              "      <td>0.985463</td>\n",
              "      <td>2.364535</td>\n",
              "      <td>0.986302</td>\n",
              "      <td>-1.883043</td>\n",
              "    </tr>\n",
              "    <tr>\n",
              "      <th>2020-01-02</th>\n",
              "      <td>0.873004</td>\n",
              "      <td>0.137808</td>\n",
              "      <td>0.990764</td>\n",
              "      <td>-1.023394</td>\n",
              "    </tr>\n",
              "    <tr>\n",
              "      <th>2020-01-04</th>\n",
              "      <td>-0.736284</td>\n",
              "      <td>-1.436716</td>\n",
              "      <td>1.811139</td>\n",
              "      <td>0.767786</td>\n",
              "    </tr>\n",
              "    <tr>\n",
              "      <th>2020-01-06</th>\n",
              "      <td>0.451771</td>\n",
              "      <td>-0.275884</td>\n",
              "      <td>3.164966</td>\n",
              "      <td>0.460151</td>\n",
              "    </tr>\n",
              "  </tbody>\n",
              "</table>\n",
              "</div>"
            ],
            "text/plain": [
              "                   A         B         C         D\n",
              "2020-01-03  1.999931  1.602989 -0.997345 -0.606740\n",
              "2020-01-05  0.491588 -2.103403  0.759479 -1.480084\n",
              "2020-01-01  0.985463  2.364535  0.986302 -1.883043\n",
              "2020-01-02  0.873004  0.137808  0.990764 -1.023394\n",
              "2020-01-04 -0.736284 -1.436716  1.811139  0.767786\n",
              "2020-01-06  0.451771 -0.275884  3.164966  0.460151"
            ]
          },
          "metadata": {
            "tags": []
          },
          "execution_count": 24
        }
      ]
    },
    {
      "cell_type": "markdown",
      "metadata": {
        "id": "Zn7F_WBZYDOh"
      },
      "source": [
        "### **篩選資料**"
      ]
    },
    {
      "cell_type": "code",
      "metadata": {
        "colab": {
          "base_uri": "https://localhost:8080/"
        },
        "id": "fQtpzurGPrRS",
        "outputId": "4cefb1d9-e266-45a3-d60c-d32ab81ab887"
      },
      "source": [
        "df['B'] # 篩選B欄位的值"
      ],
      "execution_count": 25,
      "outputs": [
        {
          "output_type": "execute_result",
          "data": {
            "text/plain": [
              "2020-01-01    2.364535\n",
              "2020-01-02    0.137808\n",
              "2020-01-03    1.602989\n",
              "2020-01-04   -1.436716\n",
              "2020-01-05   -2.103403\n",
              "2020-01-06   -0.275884\n",
              "Freq: D, Name: B, dtype: float64"
            ]
          },
          "metadata": {
            "tags": []
          },
          "execution_count": 25
        }
      ]
    },
    {
      "cell_type": "code",
      "metadata": {
        "colab": {
          "base_uri": "https://localhost:8080/"
        },
        "id": "BnwMoGd6Q1bK",
        "outputId": "11a684ff-3c8a-410b-bcc8-a9fbe9502a58"
      },
      "source": [
        "df['B'][:3]"
      ],
      "execution_count": 26,
      "outputs": [
        {
          "output_type": "execute_result",
          "data": {
            "text/plain": [
              "2020-01-01    2.364535\n",
              "2020-01-02    0.137808\n",
              "2020-01-03    1.602989\n",
              "Freq: D, Name: B, dtype: float64"
            ]
          },
          "metadata": {
            "tags": []
          },
          "execution_count": 26
        }
      ]
    },
    {
      "cell_type": "code",
      "metadata": {
        "colab": {
          "base_uri": "https://localhost:8080/",
          "height": 173
        },
        "id": "JVNcAvtkRZjX",
        "outputId": "63af9486-e309-4b4c-a7b3-5fa63c1f2407"
      },
      "source": [
        "df['20200101':'20200104']"
      ],
      "execution_count": 27,
      "outputs": [
        {
          "output_type": "execute_result",
          "data": {
            "text/html": [
              "<div>\n",
              "<style scoped>\n",
              "    .dataframe tbody tr th:only-of-type {\n",
              "        vertical-align: middle;\n",
              "    }\n",
              "\n",
              "    .dataframe tbody tr th {\n",
              "        vertical-align: top;\n",
              "    }\n",
              "\n",
              "    .dataframe thead th {\n",
              "        text-align: right;\n",
              "    }\n",
              "</style>\n",
              "<table border=\"1\" class=\"dataframe\">\n",
              "  <thead>\n",
              "    <tr style=\"text-align: right;\">\n",
              "      <th></th>\n",
              "      <th>A</th>\n",
              "      <th>B</th>\n",
              "      <th>C</th>\n",
              "      <th>D</th>\n",
              "    </tr>\n",
              "  </thead>\n",
              "  <tbody>\n",
              "    <tr>\n",
              "      <th>2020-01-01</th>\n",
              "      <td>0.985463</td>\n",
              "      <td>2.364535</td>\n",
              "      <td>0.986302</td>\n",
              "      <td>-1.883043</td>\n",
              "    </tr>\n",
              "    <tr>\n",
              "      <th>2020-01-02</th>\n",
              "      <td>0.873004</td>\n",
              "      <td>0.137808</td>\n",
              "      <td>0.990764</td>\n",
              "      <td>-1.023394</td>\n",
              "    </tr>\n",
              "    <tr>\n",
              "      <th>2020-01-03</th>\n",
              "      <td>1.999931</td>\n",
              "      <td>1.602989</td>\n",
              "      <td>-0.997345</td>\n",
              "      <td>-0.606740</td>\n",
              "    </tr>\n",
              "    <tr>\n",
              "      <th>2020-01-04</th>\n",
              "      <td>-0.736284</td>\n",
              "      <td>-1.436716</td>\n",
              "      <td>1.811139</td>\n",
              "      <td>0.767786</td>\n",
              "    </tr>\n",
              "  </tbody>\n",
              "</table>\n",
              "</div>"
            ],
            "text/plain": [
              "                   A         B         C         D\n",
              "2020-01-01  0.985463  2.364535  0.986302 -1.883043\n",
              "2020-01-02  0.873004  0.137808  0.990764 -1.023394\n",
              "2020-01-03  1.999931  1.602989 -0.997345 -0.606740\n",
              "2020-01-04 -0.736284 -1.436716  1.811139  0.767786"
            ]
          },
          "metadata": {
            "tags": []
          },
          "execution_count": 27
        }
      ]
    },
    {
      "cell_type": "code",
      "metadata": {
        "colab": {
          "base_uri": "https://localhost:8080/"
        },
        "id": "aXEUYjFSR6WN",
        "outputId": "161b6e0d-a33c-4e3a-d85f-70cf242664b0"
      },
      "source": [
        "df.loc[dates[1]]"
      ],
      "execution_count": 30,
      "outputs": [
        {
          "output_type": "execute_result",
          "data": {
            "text/plain": [
              "A    0.873004\n",
              "B    0.137808\n",
              "C    0.990764\n",
              "D   -1.023394\n",
              "Name: 2020-01-02 00:00:00, dtype: float64"
            ]
          },
          "metadata": {
            "tags": []
          },
          "execution_count": 30
        }
      ]
    },
    {
      "cell_type": "code",
      "metadata": {
        "colab": {
          "base_uri": "https://localhost:8080/",
          "height": 111
        },
        "id": "TPE2Y14BUIMi",
        "outputId": "38e1c387-761f-4d2a-d68d-4fb7e084a239"
      },
      "source": [
        "df.loc['20200105':,['C','B']] # 查詢特定索引與特定欄位值"
      ],
      "execution_count": 32,
      "outputs": [
        {
          "output_type": "execute_result",
          "data": {
            "text/html": [
              "<div>\n",
              "<style scoped>\n",
              "    .dataframe tbody tr th:only-of-type {\n",
              "        vertical-align: middle;\n",
              "    }\n",
              "\n",
              "    .dataframe tbody tr th {\n",
              "        vertical-align: top;\n",
              "    }\n",
              "\n",
              "    .dataframe thead th {\n",
              "        text-align: right;\n",
              "    }\n",
              "</style>\n",
              "<table border=\"1\" class=\"dataframe\">\n",
              "  <thead>\n",
              "    <tr style=\"text-align: right;\">\n",
              "      <th></th>\n",
              "      <th>C</th>\n",
              "      <th>B</th>\n",
              "    </tr>\n",
              "  </thead>\n",
              "  <tbody>\n",
              "    <tr>\n",
              "      <th>2020-01-05</th>\n",
              "      <td>0.759479</td>\n",
              "      <td>-2.103403</td>\n",
              "    </tr>\n",
              "    <tr>\n",
              "      <th>2020-01-06</th>\n",
              "      <td>3.164966</td>\n",
              "      <td>-0.275884</td>\n",
              "    </tr>\n",
              "  </tbody>\n",
              "</table>\n",
              "</div>"
            ],
            "text/plain": [
              "                   C         B\n",
              "2020-01-05  0.759479 -2.103403\n",
              "2020-01-06  3.164966 -0.275884"
            ]
          },
          "metadata": {
            "tags": []
          },
          "execution_count": 32
        }
      ]
    },
    {
      "cell_type": "code",
      "metadata": {
        "colab": {
          "base_uri": "https://localhost:8080/",
          "height": 204
        },
        "id": "Xid5RF1mURDa",
        "outputId": "7ff6cd88-0cfc-4139-bf35-7abb97ea97dd"
      },
      "source": [
        "df.loc[dates[1]:,['B','C']]"
      ],
      "execution_count": 33,
      "outputs": [
        {
          "output_type": "execute_result",
          "data": {
            "text/html": [
              "<div>\n",
              "<style scoped>\n",
              "    .dataframe tbody tr th:only-of-type {\n",
              "        vertical-align: middle;\n",
              "    }\n",
              "\n",
              "    .dataframe tbody tr th {\n",
              "        vertical-align: top;\n",
              "    }\n",
              "\n",
              "    .dataframe thead th {\n",
              "        text-align: right;\n",
              "    }\n",
              "</style>\n",
              "<table border=\"1\" class=\"dataframe\">\n",
              "  <thead>\n",
              "    <tr style=\"text-align: right;\">\n",
              "      <th></th>\n",
              "      <th>B</th>\n",
              "      <th>C</th>\n",
              "    </tr>\n",
              "  </thead>\n",
              "  <tbody>\n",
              "    <tr>\n",
              "      <th>2020-01-02</th>\n",
              "      <td>0.137808</td>\n",
              "      <td>0.990764</td>\n",
              "    </tr>\n",
              "    <tr>\n",
              "      <th>2020-01-03</th>\n",
              "      <td>1.602989</td>\n",
              "      <td>-0.997345</td>\n",
              "    </tr>\n",
              "    <tr>\n",
              "      <th>2020-01-04</th>\n",
              "      <td>-1.436716</td>\n",
              "      <td>1.811139</td>\n",
              "    </tr>\n",
              "    <tr>\n",
              "      <th>2020-01-05</th>\n",
              "      <td>-2.103403</td>\n",
              "      <td>0.759479</td>\n",
              "    </tr>\n",
              "    <tr>\n",
              "      <th>2020-01-06</th>\n",
              "      <td>-0.275884</td>\n",
              "      <td>3.164966</td>\n",
              "    </tr>\n",
              "  </tbody>\n",
              "</table>\n",
              "</div>"
            ],
            "text/plain": [
              "                   B         C\n",
              "2020-01-02  0.137808  0.990764\n",
              "2020-01-03  1.602989 -0.997345\n",
              "2020-01-04 -1.436716  1.811139\n",
              "2020-01-05 -2.103403  0.759479\n",
              "2020-01-06 -0.275884  3.164966"
            ]
          },
          "metadata": {
            "tags": []
          },
          "execution_count": 33
        }
      ]
    },
    {
      "cell_type": "code",
      "metadata": {
        "colab": {
          "base_uri": "https://localhost:8080/"
        },
        "id": "0g5Y9vIKWMtr",
        "outputId": "5373f85a-db26-4d62-8d64-b1e0ba6e3c3f"
      },
      "source": [
        "df.at[dates[2],'D']"
      ],
      "execution_count": 36,
      "outputs": [
        {
          "output_type": "execute_result",
          "data": {
            "text/plain": [
              "-0.6067404916153408"
            ]
          },
          "metadata": {
            "tags": []
          },
          "execution_count": 36
        }
      ]
    },
    {
      "cell_type": "code",
      "metadata": {
        "colab": {
          "base_uri": "https://localhost:8080/"
        },
        "id": "HHq8ZqzXWWNd",
        "outputId": "e2908e5c-0ead-41c6-8528-867779a9e24f"
      },
      "source": [
        "df.iloc[3] # 第四筆資料"
      ],
      "execution_count": 37,
      "outputs": [
        {
          "output_type": "execute_result",
          "data": {
            "text/plain": [
              "A   -0.736284\n",
              "B   -1.436716\n",
              "C    1.811139\n",
              "D    0.767786\n",
              "Name: 2020-01-04 00:00:00, dtype: float64"
            ]
          },
          "metadata": {
            "tags": []
          },
          "execution_count": 37
        }
      ]
    },
    {
      "cell_type": "code",
      "metadata": {
        "colab": {
          "base_uri": "https://localhost:8080/",
          "height": 111
        },
        "id": "AD9t6-HQWtjY",
        "outputId": "f5c5df56-8d1a-4797-b580-b982ab795897"
      },
      "source": [
        "df.iloc[0:2,:] # 冒號: 顯示全部資料"
      ],
      "execution_count": 39,
      "outputs": [
        {
          "output_type": "execute_result",
          "data": {
            "text/html": [
              "<div>\n",
              "<style scoped>\n",
              "    .dataframe tbody tr th:only-of-type {\n",
              "        vertical-align: middle;\n",
              "    }\n",
              "\n",
              "    .dataframe tbody tr th {\n",
              "        vertical-align: top;\n",
              "    }\n",
              "\n",
              "    .dataframe thead th {\n",
              "        text-align: right;\n",
              "    }\n",
              "</style>\n",
              "<table border=\"1\" class=\"dataframe\">\n",
              "  <thead>\n",
              "    <tr style=\"text-align: right;\">\n",
              "      <th></th>\n",
              "      <th>A</th>\n",
              "      <th>B</th>\n",
              "      <th>C</th>\n",
              "      <th>D</th>\n",
              "    </tr>\n",
              "  </thead>\n",
              "  <tbody>\n",
              "    <tr>\n",
              "      <th>2020-01-01</th>\n",
              "      <td>0.985463</td>\n",
              "      <td>2.364535</td>\n",
              "      <td>0.986302</td>\n",
              "      <td>-1.883043</td>\n",
              "    </tr>\n",
              "    <tr>\n",
              "      <th>2020-01-02</th>\n",
              "      <td>0.873004</td>\n",
              "      <td>0.137808</td>\n",
              "      <td>0.990764</td>\n",
              "      <td>-1.023394</td>\n",
              "    </tr>\n",
              "  </tbody>\n",
              "</table>\n",
              "</div>"
            ],
            "text/plain": [
              "                   A         B         C         D\n",
              "2020-01-01  0.985463  2.364535  0.986302 -1.883043\n",
              "2020-01-02  0.873004  0.137808  0.990764 -1.023394"
            ]
          },
          "metadata": {
            "tags": []
          },
          "execution_count": 39
        }
      ]
    },
    {
      "cell_type": "code",
      "metadata": {
        "colab": {
          "base_uri": "https://localhost:8080/"
        },
        "id": "LDskwDPGXaz3",
        "outputId": "ab4959de-f1d4-44df-f4ca-5a4576626a7b"
      },
      "source": [
        "df.iloc[1,2] # 搜尋特定資料\n",
        "df.iat[1,2]"
      ],
      "execution_count": 41,
      "outputs": [
        {
          "output_type": "execute_result",
          "data": {
            "text/plain": [
              "0.9907639714754223"
            ]
          },
          "metadata": {
            "tags": []
          },
          "execution_count": 41
        }
      ]
    }
  ]
}